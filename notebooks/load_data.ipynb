{
 "cells": [
  {
   "cell_type": "code",
   "execution_count": 1,
   "metadata": {},
   "outputs": [],
   "source": [
    "import pandas as pd\n",
    "import numpy as np\n",
    "import os\n",
    "import re\n",
    "\n",
    "from src.process_data import fetch_data,process_data"
   ]
  },
  {
   "cell_type": "code",
   "execution_count": 2,
   "metadata": {},
   "outputs": [
    {
     "name": "stdout",
     "output_type": "stream",
     "text": [
      "/home/elijahc/dev/ml_ripc/data/ripc_rel.csv\n",
      "loading.../home/elijahc/dev/ml_ripc/data/ripc_rel.csv\n",
      "\n",
      "restructuring to longform...\n",
      "(this may take a while)\n"
     ]
    }
   ],
   "source": [
    "proj_root = '/home/elijahc/dev/ml_ripc'\n",
    "rel_fp = os.path.join(proj_root,'data','ripc_rel.csv')\n",
    "print(rel_fp)\n",
    "rel_df = process_data(rel_fp)"
   ]
  },
  {
   "cell_type": "code",
   "execution_count": 3,
   "metadata": {},
   "outputs": [
    {
     "data": {
      "text/html": [
       "<div>\n",
       "<style scoped>\n",
       "    .dataframe tbody tr th:only-of-type {\n",
       "        vertical-align: middle;\n",
       "    }\n",
       "\n",
       "    .dataframe tbody tr th {\n",
       "        vertical-align: top;\n",
       "    }\n",
       "\n",
       "    .dataframe thead th {\n",
       "        text-align: right;\n",
       "    }\n",
       "</style>\n",
       "<table border=\"1\" class=\"dataframe\">\n",
       "  <thead>\n",
       "    <tr style=\"text-align: right;\">\n",
       "      <th></th>\n",
       "      <th>Name</th>\n",
       "      <th>Formula</th>\n",
       "      <th>Molecular Weight</th>\n",
       "      <th>variable</th>\n",
       "      <th>value</th>\n",
       "      <th>timepoint</th>\n",
       "      <th>pt</th>\n",
       "    </tr>\n",
       "  </thead>\n",
       "  <tbody>\n",
       "    <tr>\n",
       "      <th>0</th>\n",
       "      <td>Oxaloacetic acid</td>\n",
       "      <td>C4 H4 O5</td>\n",
       "      <td>132.00541</td>\n",
       "      <td>1A</td>\n",
       "      <td>7098073.806</td>\n",
       "      <td>A</td>\n",
       "      <td>1</td>\n",
       "    </tr>\n",
       "    <tr>\n",
       "      <th>1</th>\n",
       "      <td>Oxaloacetic acid</td>\n",
       "      <td>C4 H4 O5</td>\n",
       "      <td>132.00594</td>\n",
       "      <td>1A</td>\n",
       "      <td>7094510.558</td>\n",
       "      <td>A</td>\n",
       "      <td>1</td>\n",
       "    </tr>\n",
       "    <tr>\n",
       "      <th>2</th>\n",
       "      <td>Citric acid</td>\n",
       "      <td>C6 H8 O7</td>\n",
       "      <td>192.02667</td>\n",
       "      <td>1A</td>\n",
       "      <td>7254128.958</td>\n",
       "      <td>A</td>\n",
       "      <td>1</td>\n",
       "    </tr>\n",
       "    <tr>\n",
       "      <th>3</th>\n",
       "      <td>Dimethylphosphinic fluoride</td>\n",
       "      <td>C2 H6 F O P</td>\n",
       "      <td>96.01339</td>\n",
       "      <td>1A</td>\n",
       "      <td>7090920.038</td>\n",
       "      <td>A</td>\n",
       "      <td>1</td>\n",
       "    </tr>\n",
       "    <tr>\n",
       "      <th>4</th>\n",
       "      <td>alpha-Ketoglutaric acid</td>\n",
       "      <td>C5 H6 O5</td>\n",
       "      <td>146.02116</td>\n",
       "      <td>1A</td>\n",
       "      <td>3528833.044</td>\n",
       "      <td>A</td>\n",
       "      <td>1</td>\n",
       "    </tr>\n",
       "  </tbody>\n",
       "</table>\n",
       "</div>"
      ],
      "text/plain": [
       "                          Name      Formula  Molecular Weight variable  \\\n",
       "0             Oxaloacetic acid     C4 H4 O5         132.00541       1A   \n",
       "1             Oxaloacetic acid     C4 H4 O5         132.00594       1A   \n",
       "2                  Citric acid     C6 H8 O7         192.02667       1A   \n",
       "3  Dimethylphosphinic fluoride  C2 H6 F O P          96.01339       1A   \n",
       "4      alpha-Ketoglutaric acid     C5 H6 O5         146.02116       1A   \n",
       "\n",
       "         value timepoint pt  \n",
       "0  7098073.806         A  1  \n",
       "1  7094510.558         A  1  \n",
       "2  7254128.958         A  1  \n",
       "3  7090920.038         A  1  \n",
       "4  3528833.044         A  1  "
      ]
     },
     "execution_count": 3,
     "metadata": {},
     "output_type": "execute_result"
    }
   ],
   "source": [
    "rel_df.head()"
   ]
  },
  {
   "cell_type": "code",
   "execution_count": 12,
   "metadata": {},
   "outputs": [
    {
     "data": {
      "text/plain": [
       "array([')', '0', '1', '2', '3', '4', '5', '6', '7', '8', '9', 'A', 'B',\n",
       "       'C', 'D', 'E', 'F', 'G', 'H', 'I', 'J', 'K', 'L'], dtype=object)"
      ]
     },
     "execution_count": 12,
     "metadata": {},
     "output_type": "execute_result"
    }
   ],
   "source": [
    "np.unique(rel_df.timepoint.as_matrix())"
   ]
  },
  {
   "cell_type": "code",
   "execution_count": 4,
   "metadata": {},
   "outputs": [],
   "source": [
    "pd.to_pickle(rel_df,os.path.join(proj_root,'data','ripc_rel_quant.df'))"
   ]
  }
 ],
 "metadata": {
  "kernelspec": {
   "display_name": "Python 3",
   "language": "python",
   "name": "python3"
  },
  "language_info": {
   "codemirror_mode": {
    "name": "ipython",
    "version": 3
   },
   "file_extension": ".py",
   "mimetype": "text/x-python",
   "name": "python",
   "nbconvert_exporter": "python",
   "pygments_lexer": "ipython3",
   "version": "3.5.2"
  }
 },
 "nbformat": 4,
 "nbformat_minor": 2
}
