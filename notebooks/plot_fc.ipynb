{
 "cells": [
  {
   "cell_type": "code",
   "execution_count": 1,
   "metadata": {},
   "outputs": [],
   "source": [
    "import os\n",
    "import pandas as pd\n",
    "import seaborn as sns\n",
    "import numpy as np\n",
    "import matplotlib.pyplot as plt\n",
    "%matplotlib inline\n",
    "from src.process_data import process_data,load_data"
   ]
  },
  {
   "cell_type": "code",
   "execution_count": 2,
   "metadata": {},
   "outputs": [
    {
     "name": "stdout",
     "output_type": "stream",
     "text": [
      "loading.../home/elijahc/dev/ml_ripc/data/ripc_rel.csv\n",
      "baseline shape: (73815, 30)\n",
      "\n",
      "restructuring to longform...\n",
      "(this may take a while)\n"
     ]
    },
    {
     "name": "stderr",
     "output_type": "stream",
     "text": [
      "/home/elijahc/.pyenv/versions/jupyterlab-gpu/lib/python3.5/site-packages/pandas/core/indexing.py:1472: FutureWarning: \n",
      "Passing list-likes to .loc or [] with any missing label will raise\n",
      "KeyError in the future, you can use .reindex() as an alternative.\n",
      "\n",
      "See the documentation here:\n",
      "https://pandas.pydata.org/pandas-docs/stable/indexing.html#deprecate-loc-reindex-listlike\n",
      "  return self._getitem_tuple(key)\n"
     ]
    }
   ],
   "source": [
    "df = process_data(fn='data/ripc_rel.csv',normalize='log2_fc',force=True)"
   ]
  },
  {
   "cell_type": "code",
   "execution_count": 42,
   "metadata": {},
   "outputs": [
    {
     "data": {
      "text/plain": [
       "22144500"
      ]
     },
     "execution_count": 42,
     "metadata": {},
     "output_type": "execute_result"
    }
   ],
   "source": [
    "len(df)"
   ]
  },
  {
   "cell_type": "code",
   "execution_count": 6,
   "metadata": {},
   "outputs": [],
   "source": [
    "by_mol_w = df[df.timepoint == 'C'].sort_values(by='Molecular Weight')"
   ]
  },
  {
   "cell_type": "code",
   "execution_count": 8,
   "metadata": {},
   "outputs": [
    {
     "name": "stdout",
     "output_type": "stream",
     "text": [
      "(2214450,)\n"
     ]
    }
   ],
   "source": [
    "weights = by_mol_w['Molecular Weight'].values\n",
    "print(weights.shape)"
   ]
  },
  {
   "cell_type": "code",
   "execution_count": 9,
   "metadata": {},
   "outputs": [
    {
     "data": {
      "text/plain": [
       "(2214450,)"
      ]
     },
     "execution_count": 9,
     "metadata": {},
     "output_type": "execute_result"
    }
   ],
   "source": [
    "weights.round(decimals=3).shape"
   ]
  },
  {
   "cell_type": "code",
   "execution_count": 10,
   "metadata": {},
   "outputs": [
    {
     "data": {
      "text/plain": [
       "array([65. , 66. , 66.1, 66.5, 67. , 67.5, 67.9, 68. , 68.1, 68.5])"
      ]
     },
     "execution_count": 10,
     "metadata": {},
     "output_type": "execute_result"
    }
   ],
   "source": [
    "np.unique(weights.round(decimals=1))[:10]"
   ]
  },
  {
   "cell_type": "code",
   "execution_count": 11,
   "metadata": {},
   "outputs": [
    {
     "data": {
      "text/plain": [
       "(array([1.612e+03, 2.665e+03, 4.008e+03, 4.338e+03, 4.808e+03, 4.257e+03,\n",
       "        3.509e+03, 3.374e+03, 2.737e+03, 2.859e+03, 2.758e+03, 2.622e+03,\n",
       "        2.308e+03, 2.041e+03, 1.733e+03, 1.637e+03, 1.512e+03, 1.537e+03,\n",
       "        1.276e+03, 1.327e+03, 1.278e+03, 1.266e+03, 1.082e+03, 1.246e+03,\n",
       "        1.222e+03, 1.110e+03, 1.443e+03, 1.366e+03, 1.070e+03, 1.012e+03,\n",
       "        1.198e+03, 6.940e+02, 9.690e+02, 7.280e+02, 6.900e+02, 4.370e+02,\n",
       "        4.900e+02, 2.640e+02, 1.750e+02, 2.190e+02, 8.100e+01, 7.700e+01,\n",
       "        8.300e+01, 6.600e+01, 7.900e+01, 9.000e+01, 6.400e+01, 6.800e+01,\n",
       "        4.900e+01, 5.500e+01, 4.000e+01, 4.800e+01, 4.300e+01, 5.100e+01,\n",
       "        4.900e+01, 6.700e+01, 6.700e+01, 5.300e+01, 3.500e+01, 3.500e+01,\n",
       "        6.600e+01, 3.700e+01, 3.100e+01, 2.500e+01, 3.100e+01, 1.700e+01,\n",
       "        1.600e+01, 2.700e+01, 3.800e+01, 3.400e+01, 3.100e+01, 2.500e+01,\n",
       "        1.400e+01, 1.100e+01, 1.200e+01, 1.600e+01, 1.900e+01, 1.500e+01,\n",
       "        1.500e+01, 7.000e+00, 1.200e+01, 9.000e+00, 1.000e+01, 4.000e+00,\n",
       "        4.000e+00, 4.000e+00, 7.000e+00, 2.000e+00, 5.000e+00, 3.000e+00,\n",
       "        5.000e+00, 2.000e+00, 3.000e+00, 3.000e+00, 3.000e+00, 4.000e+00,\n",
       "        3.000e+00, 0.000e+00, 1.000e+00, 1.000e+00]),\n",
       " array([  65.01201  ,   87.5373546,  110.0626992,  132.5880438,\n",
       "         155.1133884,  177.638733 ,  200.1640776,  222.6894222,\n",
       "         245.2147668,  267.7401114,  290.265456 ,  312.7908006,\n",
       "         335.3161452,  357.8414898,  380.3668344,  402.892179 ,\n",
       "         425.4175236,  447.9428682,  470.4682128,  492.9935574,\n",
       "         515.518902 ,  538.0442466,  560.5695912,  583.0949358,\n",
       "         605.6202804,  628.145625 ,  650.6709696,  673.1963142,\n",
       "         695.7216588,  718.2470034,  740.772348 ,  763.2976926,\n",
       "         785.8230372,  808.3483818,  830.8737264,  853.399071 ,\n",
       "         875.9244156,  898.4497602,  920.9751048,  943.5004494,\n",
       "         966.025794 ,  988.5511386, 1011.0764832, 1033.6018278,\n",
       "        1056.1271724, 1078.652517 , 1101.1778616, 1123.7032062,\n",
       "        1146.2285508, 1168.7538954, 1191.27924  , 1213.8045846,\n",
       "        1236.3299292, 1258.8552738, 1281.3806184, 1303.905963 ,\n",
       "        1326.4313076, 1348.9566522, 1371.4819968, 1394.0073414,\n",
       "        1416.532686 , 1439.0580306, 1461.5833752, 1484.1087198,\n",
       "        1506.6340644, 1529.159409 , 1551.6847536, 1574.2100982,\n",
       "        1596.7354428, 1619.2607874, 1641.786132 , 1664.3114766,\n",
       "        1686.8368212, 1709.3621658, 1731.8875104, 1754.412855 ,\n",
       "        1776.9381996, 1799.4635442, 1821.9888888, 1844.5142334,\n",
       "        1867.039578 , 1889.5649226, 1912.0902672, 1934.6156118,\n",
       "        1957.1409564, 1979.666301 , 2002.1916456, 2024.7169902,\n",
       "        2047.2423348, 2069.7676794, 2092.293024 , 2114.8183686,\n",
       "        2137.3437132, 2159.8690578, 2182.3944024, 2204.919747 ,\n",
       "        2227.4450916, 2249.9704362, 2272.4957808, 2295.0211254,\n",
       "        2317.54647  ]),\n",
       " <a list of 100 Patch objects>)"
      ]
     },
     "execution_count": 11,
     "metadata": {},
     "output_type": "execute_result"
    },
    {
     "data": {
      "image/png": "[encoded data removed]",
      "text/plain": [
       "<Figure size 432x288 with 1 Axes>"
      ]
     },
     "metadata": {
      "needs_background": "light"
     },
     "output_type": "display_data"
    }
   ],
   "source": [
    "plt.hist(np.unique(weights),bins=100)"
   ]
  },
  {
   "cell_type": "code",
   "execution_count": 12,
   "metadata": {},
   "outputs": [
    {
     "data": {
      "image/png": "[encoded data removed]",
      "text/plain": [
       "<Figure size 1440x216 with 5 Axes>"
      ]
     },
     "metadata": {
      "needs_background": "light"
     },
     "output_type": "display_data"
    }
   ],
   "source": [
    "fig,axs = plt.subplots(1,5,figsize=(20,3))"
   ]
  },
  {
   "cell_type": "code",
   "execution_count": null,
   "metadata": {},
   "outputs": [],
   "source": [
    "g = sns.scatterplot(x='value',y='Molecular Weight',data=df[df.timepoint=='D'],ax=axs[1])"
   ]
  },
  {
   "cell_type": "code",
   "execution_count": null,
   "metadata": {},
   "outputs": [],
   "source": [
    "for ax,timepoint in zip(axs,['A','B','C','D','E','F','G','H','I','J']):\n",
    "    sns.scatterplot(x='value',y='Molecular Weight',data=df[df.timepoint==timepoint],ax=ax)"
   ]
  },
  {
   "cell_type": "code",
   "execution_count": 13,
   "metadata": {},
   "outputs": [],
   "source": [
    "fc_var = df.groupby(['pt','Molecular Weight'],sort=False).agg(['var'])['value'].reset_index()"
   ]
  },
  {
   "cell_type": "code",
   "execution_count": 14,
   "metadata": {},
   "outputs": [
    {
     "data": {
      "text/plain": [
       "0           1\n",
       "1           1\n",
       "2           1\n",
       "3           1\n",
       "4           1\n",
       "5           1\n",
       "6           1\n",
       "7           1\n",
       "8           1\n",
       "9           1\n",
       "10          1\n",
       "11          1\n",
       "12          1\n",
       "13          1\n",
       "14          1\n",
       "15          1\n",
       "16          1\n",
       "17          1\n",
       "18          1\n",
       "19          1\n",
       "20          1\n",
       "21          1\n",
       "22          1\n",
       "23          1\n",
       "24          1\n",
       "25          1\n",
       "26          1\n",
       "27          1\n",
       "28          1\n",
       "29          1\n",
       "           ..\n",
       "2179440    30\n",
       "2179441    30\n",
       "2179442    30\n",
       "2179443    30\n",
       "2179444    30\n",
       "2179445    30\n",
       "2179446    30\n",
       "2179447    30\n",
       "2179448    30\n",
       "2179449    30\n",
       "2179450    30\n",
       "2179451    30\n",
       "2179452    30\n",
       "2179453    30\n",
       "2179454    30\n",
       "2179455    30\n",
       "2179456    30\n",
       "2179457    30\n",
       "2179458    30\n",
       "2179459    30\n",
       "2179460    30\n",
       "2179461    30\n",
       "2179462    30\n",
       "2179463    30\n",
       "2179464    30\n",
       "2179465    30\n",
       "2179466    30\n",
       "2179467    30\n",
       "2179468    30\n",
       "2179469    30\n",
       "Name: pt, Length: 2179470, dtype: int64"
      ]
     },
     "execution_count": 14,
     "metadata": {},
     "output_type": "execute_result"
    }
   ],
   "source": [
    "fc_var['pt']"
   ]
  },
  {
   "cell_type": "code",
   "execution_count": null,
   "metadata": {},
   "outputs": [],
   "source": [
    "pd.DataFrame.quantile()"
   ]
  },
  {
   "cell_type": "code",
   "execution_count": 32,
   "metadata": {},
   "outputs": [
    {
     "name": "stdout",
     "output_type": "stream",
     "text": [
      "0.4865946981926079\n",
      "0.48185385756115817\n",
      "0.5580123208271711\n",
      "0.7186934477899585\n",
      "0.5398438598022932\n",
      "0.3973265921596441\n",
      "0.43773249023753\n",
      "0.4154260243860909\n",
      "0.3841398208096559\n",
      "0.4747100714965034\n",
      "0.3995563108379969\n",
      "0.5033686410305523\n",
      "0.4410277939049443\n",
      "0.42523047857720414\n",
      "0.39884580803356734\n",
      "0.6252867418008774\n",
      "0.48031045543811335\n",
      "0.5734216225549924\n",
      "0.4918816682446095\n",
      "0.580875804869538\n",
      "0.45417185197522375\n",
      "0.42672949425790313\n",
      "0.4618931668261142\n",
      "0.5289232117889178\n",
      "0.5364946498801161\n",
      "0.4718980212324068\n",
      "0.4683109431194787\n",
      "0.816760123302735\n",
      "0.8613923939096413\n",
      "0.5614981027041845\n"
     ]
    }
   ],
   "source": [
    "top_q = []\n",
    "for pt_id in np.arange(30)+1:\n",
    "    pt_df = fc_var.query('pt == '+str(pt_id))\n",
    "    q75 = pt_df.quantile(q=0.75)['var']\n",
    "    print(q75)\n",
    "    top_q.extend(pt_df[pt_df['var'] >= q75]['Molecular Weight'].values.tolist())"
   ]
  },
  {
   "cell_type": "code",
   "execution_count": 37,
   "metadata": {},
   "outputs": [],
   "source": [
    "top_q_indexes = df['Molecular Weight'].isin(np.unique(np.array(top_q)))"
   ]
  },
  {
   "cell_type": "code",
   "execution_count": null,
   "metadata": {},
   "outputs": [],
   "source": [
    "pd.DataFrame.so"
   ]
  },
  {
   "cell_type": "code",
   "execution_count": 54,
   "metadata": {},
   "outputs": [
    {
     "data": {
      "text/html": [
       "<div>\n",
       "<style scoped>\n",
       "    .dataframe tbody tr th:only-of-type {\n",
       "        vertical-align: middle;\n",
       "    }\n",
       "\n",
       "    .dataframe tbody tr th {\n",
       "        vertical-align: top;\n",
       "    }\n",
       "\n",
       "    .dataframe thead th {\n",
       "        text-align: right;\n",
       "    }\n",
       "</style>\n",
       "<table border=\"1\" class=\"dataframe\">\n",
       "  <thead>\n",
       "    <tr style=\"text-align: right;\">\n",
       "      <th></th>\n",
       "      <th>count</th>\n",
       "      <th>mean</th>\n",
       "      <th>std</th>\n",
       "      <th>min</th>\n",
       "      <th>25%</th>\n",
       "      <th>50%</th>\n",
       "      <th>75%</th>\n",
       "      <th>max</th>\n",
       "    </tr>\n",
       "    <tr>\n",
       "      <th>min</th>\n",
       "      <th></th>\n",
       "      <th></th>\n",
       "      <th></th>\n",
       "      <th></th>\n",
       "      <th></th>\n",
       "      <th></th>\n",
       "      <th></th>\n",
       "      <th></th>\n",
       "    </tr>\n",
       "  </thead>\n",
       "  <tbody>\n",
       "    <tr>\n",
       "      <th>0</th>\n",
       "      <td>1653150.0</td>\n",
       "      <td>0.000000</td>\n",
       "      <td>0.000000</td>\n",
       "      <td>0.000000</td>\n",
       "      <td>0.000000</td>\n",
       "      <td>0.000000</td>\n",
       "      <td>0.000000</td>\n",
       "      <td>0.000000</td>\n",
       "    </tr>\n",
       "    <tr>\n",
       "      <th>2</th>\n",
       "      <td>1653150.0</td>\n",
       "      <td>-0.049633</td>\n",
       "      <td>1.080702</td>\n",
       "      <td>-15.246877</td>\n",
       "      <td>-0.433996</td>\n",
       "      <td>-0.033262</td>\n",
       "      <td>0.340233</td>\n",
       "      <td>14.632571</td>\n",
       "    </tr>\n",
       "    <tr>\n",
       "      <th>4</th>\n",
       "      <td>1653150.0</td>\n",
       "      <td>-0.044652</td>\n",
       "      <td>1.127554</td>\n",
       "      <td>-14.697979</td>\n",
       "      <td>-0.432703</td>\n",
       "      <td>-0.018257</td>\n",
       "      <td>0.358315</td>\n",
       "      <td>13.688148</td>\n",
       "    </tr>\n",
       "    <tr>\n",
       "      <th>6</th>\n",
       "      <td>1653150.0</td>\n",
       "      <td>-0.028886</td>\n",
       "      <td>1.149573</td>\n",
       "      <td>-14.381188</td>\n",
       "      <td>-0.437193</td>\n",
       "      <td>-0.012457</td>\n",
       "      <td>0.391047</td>\n",
       "      <td>14.951015</td>\n",
       "    </tr>\n",
       "    <tr>\n",
       "      <th>8</th>\n",
       "      <td>1653150.0</td>\n",
       "      <td>-0.049551</td>\n",
       "      <td>1.124201</td>\n",
       "      <td>-14.280814</td>\n",
       "      <td>-0.454960</td>\n",
       "      <td>-0.024719</td>\n",
       "      <td>0.365041</td>\n",
       "      <td>14.687547</td>\n",
       "    </tr>\n",
       "    <tr>\n",
       "      <th>10</th>\n",
       "      <td>1653150.0</td>\n",
       "      <td>-0.060376</td>\n",
       "      <td>1.130880</td>\n",
       "      <td>-15.192937</td>\n",
       "      <td>-0.442741</td>\n",
       "      <td>-0.021461</td>\n",
       "      <td>0.353618</td>\n",
       "      <td>13.980124</td>\n",
       "    </tr>\n",
       "    <tr>\n",
       "      <th>20</th>\n",
       "      <td>1653150.0</td>\n",
       "      <td>-0.091273</td>\n",
       "      <td>1.177060</td>\n",
       "      <td>-15.229102</td>\n",
       "      <td>-0.531536</td>\n",
       "      <td>-0.056746</td>\n",
       "      <td>0.346896</td>\n",
       "      <td>13.651907</td>\n",
       "    </tr>\n",
       "    <tr>\n",
       "      <th>30</th>\n",
       "      <td>1653150.0</td>\n",
       "      <td>-0.098816</td>\n",
       "      <td>1.207005</td>\n",
       "      <td>-14.764893</td>\n",
       "      <td>-0.536987</td>\n",
       "      <td>-0.045311</td>\n",
       "      <td>0.363073</td>\n",
       "      <td>13.889681</td>\n",
       "    </tr>\n",
       "    <tr>\n",
       "      <th>45</th>\n",
       "      <td>1653150.0</td>\n",
       "      <td>-0.128925</td>\n",
       "      <td>1.187559</td>\n",
       "      <td>-15.490631</td>\n",
       "      <td>-0.558996</td>\n",
       "      <td>-0.074157</td>\n",
       "      <td>0.318116</td>\n",
       "      <td>13.633087</td>\n",
       "    </tr>\n",
       "    <tr>\n",
       "      <th>60</th>\n",
       "      <td>1653150.0</td>\n",
       "      <td>-0.100397</td>\n",
       "      <td>1.228364</td>\n",
       "      <td>-14.967740</td>\n",
       "      <td>-0.548303</td>\n",
       "      <td>-0.051053</td>\n",
       "      <td>0.361724</td>\n",
       "      <td>14.238437</td>\n",
       "    </tr>\n",
       "  </tbody>\n",
       "</table>\n",
       "</div>"
      ],
      "text/plain": [
       "         count      mean       std        min       25%       50%       75%  \\\n",
       "min                                                                           \n",
       "0    1653150.0  0.000000  0.000000   0.000000  0.000000  0.000000  0.000000   \n",
       "2    1653150.0 -0.049633  1.080702 -15.246877 -0.433996 -0.033262  0.340233   \n",
       "4    1653150.0 -0.044652  1.127554 -14.697979 -0.432703 -0.018257  0.358315   \n",
       "6    1653150.0 -0.028886  1.149573 -14.381188 -0.437193 -0.012457  0.391047   \n",
       "8    1653150.0 -0.049551  1.124201 -14.280814 -0.454960 -0.024719  0.365041   \n",
       "10   1653150.0 -0.060376  1.130880 -15.192937 -0.442741 -0.021461  0.353618   \n",
       "20   1653150.0 -0.091273  1.177060 -15.229102 -0.531536 -0.056746  0.346896   \n",
       "30   1653150.0 -0.098816  1.207005 -14.764893 -0.536987 -0.045311  0.363073   \n",
       "45   1653150.0 -0.128925  1.187559 -15.490631 -0.558996 -0.074157  0.318116   \n",
       "60   1653150.0 -0.100397  1.228364 -14.967740 -0.548303 -0.051053  0.361724   \n",
       "\n",
       "           max  \n",
       "min             \n",
       "0     0.000000  \n",
       "2    14.632571  \n",
       "4    13.688148  \n",
       "6    14.951015  \n",
       "8    14.687547  \n",
       "10   13.980124  \n",
       "20   13.651907  \n",
       "30   13.889681  \n",
       "45   13.633087  \n",
       "60   14.238437  "
      ]
     },
     "execution_count": 54,
     "metadata": {},
     "output_type": "execute_result"
    }
   ],
   "source": [
    "df[top_q_indexes].groupby(['min'])['value'].describe()"
   ]
  },
  {
   "cell_type": "code",
   "execution_count": 36,
   "metadata": {},
   "outputs": [
    {
     "name": "stdout",
     "output_type": "stream",
     "text": [
      "(544890,)\n",
      "(54047,)\n"
     ]
    }
   ],
   "source": [
    "print(np.array(top_q).shape)\n",
    "print(np.unique(np.array(top_q)).shape)"
   ]
  },
  {
   "cell_type": "code",
   "execution_count": null,
   "metadata": {},
   "outputs": [],
   "source": [
    "sns.scatterplot(x='var',y='Molecular Weight',data=fc_var)"
   ]
  },
  {
   "cell_type": "code",
   "execution_count": null,
   "metadata": {},
   "outputs": [],
   "source": [
    "fc_var_hi = fc_var[fc_var['var']>=10]\n",
    "print(len(fc_var_hi))\n",
    "sns.scatterplot(x='var',y='Molecular Weight',data=fc_var_hi)"
   ]
  },
  {
   "cell_type": "code",
   "execution_count": null,
   "metadata": {},
   "outputs": [],
   "source": [
    "plt.hist(fc_var.values)"
   ]
  },
  {
   "cell_type": "code",
   "execution_count": null,
   "metadata": {},
   "outputs": [],
   "source": [
    "fc_var.shape"
   ]
  },
  {
   "cell_type": "code",
   "execution_count": null,
   "metadata": {},
   "outputs": [],
   "source": []
  }
 ],
 "metadata": {
  "kernelspec": {
   "display_name": "Py3-GPU (Python3.5.2)",
   "language": "python",
   "name": "py3-gpu"
  },
  "language_info": {
   "codemirror_mode": {
    "name": "ipython",
    "version": 3
   },
   "file_extension": ".py",
   "mimetype": "text/x-python",
   "name": "python",
   "nbconvert_exporter": "python",
   "pygments_lexer": "ipython3",
   "version": "3.5.2"
  }
 },
 "nbformat": 4,
 "nbformat_minor": 2
}
