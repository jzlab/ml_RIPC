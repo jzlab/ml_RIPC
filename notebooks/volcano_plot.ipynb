{
 "cells": [
  {
   "cell_type": "code",
   "execution_count": 3,
   "metadata": {},
   "outputs": [],
   "source": [
    "import os\n",
    "import re\n",
    "import pandas as pd\n",
    "import seaborn as sns\n",
    "import numpy as np\n",
    "import matplotlib.pyplot as plt\n",
    "%matplotlib inline\n",
    "import quilt\n",
    "from quilt.data.elijahc import ripc\n",
    "\n",
    "import bokeh.plotting as bp\n",
    "from bokeh.models import ColumnDataSource, Span"
   ]
  },
  {
   "cell_type": "code",
   "execution_count": 5,
   "metadata": {},
   "outputs": [],
   "source": [
    "# Load sample and subject tables\n",
    "samples = ripc.meta.samples()\n",
    "subjects = ripc.meta.subjects()\n",
    "\n",
    "df = ripc.untargeted.log2fc_plasma()\n",
    "abs_df = ripc.targeted.abs_quant()\n",
    "pop_df = ripc.untargeted.log2fc_plasma_agg_stats()"
   ]
  },
  {
   "cell_type": "code",
   "execution_count": 6,
   "metadata": {},
   "outputs": [
    {
     "data": {
      "text/html": [
       "<div>\n",
       "<style scoped>\n",
       "    .dataframe tbody tr th:only-of-type {\n",
       "        vertical-align: middle;\n",
       "    }\n",
       "\n",
       "    .dataframe tbody tr th {\n",
       "        vertical-align: top;\n",
       "    }\n",
       "\n",
       "    .dataframe thead th {\n",
       "        text-align: right;\n",
       "    }\n",
       "</style>\n",
       "<table border=\"1\" class=\"dataframe\">\n",
       "  <thead>\n",
       "    <tr style=\"text-align: right;\">\n",
       "      <th></th>\n",
       "      <th>Molecular_Weight</th>\n",
       "      <th>10A</th>\n",
       "      <th>10B</th>\n",
       "      <th>10C</th>\n",
       "      <th>10D</th>\n",
       "      <th>10E</th>\n",
       "      <th>10F</th>\n",
       "      <th>10G</th>\n",
       "      <th>10H</th>\n",
       "      <th>10I</th>\n",
       "      <th>...</th>\n",
       "      <th>9B</th>\n",
       "      <th>9C</th>\n",
       "      <th>9D</th>\n",
       "      <th>9E</th>\n",
       "      <th>9F</th>\n",
       "      <th>9G</th>\n",
       "      <th>9H</th>\n",
       "      <th>9I</th>\n",
       "      <th>9J</th>\n",
       "      <th>4J</th>\n",
       "    </tr>\n",
       "  </thead>\n",
       "  <tbody>\n",
       "    <tr>\n",
       "      <th>0</th>\n",
       "      <td>65.01201</td>\n",
       "      <td>0.0</td>\n",
       "      <td>-0.333174</td>\n",
       "      <td>-0.310196</td>\n",
       "      <td>-0.211132</td>\n",
       "      <td>-0.087471</td>\n",
       "      <td>-0.257130</td>\n",
       "      <td>-0.334422</td>\n",
       "      <td>-0.267074</td>\n",
       "      <td>-0.280800</td>\n",
       "      <td>...</td>\n",
       "      <td>0.149465</td>\n",
       "      <td>-0.018649</td>\n",
       "      <td>0.132525</td>\n",
       "      <td>0.145457</td>\n",
       "      <td>0.164234</td>\n",
       "      <td>0.023408</td>\n",
       "      <td>0.232332</td>\n",
       "      <td>0.101342</td>\n",
       "      <td>0.055404</td>\n",
       "      <td>-0.226212</td>\n",
       "    </tr>\n",
       "    <tr>\n",
       "      <th>1</th>\n",
       "      <td>65.01261</td>\n",
       "      <td>0.0</td>\n",
       "      <td>0.002091</td>\n",
       "      <td>-0.674182</td>\n",
       "      <td>-0.181348</td>\n",
       "      <td>0.434307</td>\n",
       "      <td>0.304864</td>\n",
       "      <td>0.125699</td>\n",
       "      <td>-1.154838</td>\n",
       "      <td>-0.149845</td>\n",
       "      <td>...</td>\n",
       "      <td>-0.301424</td>\n",
       "      <td>-0.611503</td>\n",
       "      <td>-0.374957</td>\n",
       "      <td>-0.041667</td>\n",
       "      <td>-0.287942</td>\n",
       "      <td>-0.176074</td>\n",
       "      <td>-0.211045</td>\n",
       "      <td>-0.240499</td>\n",
       "      <td>-1.324743</td>\n",
       "      <td>-0.368653</td>\n",
       "    </tr>\n",
       "    <tr>\n",
       "      <th>2</th>\n",
       "      <td>65.01296</td>\n",
       "      <td>0.0</td>\n",
       "      <td>0.101683</td>\n",
       "      <td>-0.750955</td>\n",
       "      <td>-0.047181</td>\n",
       "      <td>0.561751</td>\n",
       "      <td>0.449384</td>\n",
       "      <td>0.231678</td>\n",
       "      <td>0.716774</td>\n",
       "      <td>-0.037846</td>\n",
       "      <td>...</td>\n",
       "      <td>-0.052453</td>\n",
       "      <td>0.139522</td>\n",
       "      <td>-0.206524</td>\n",
       "      <td>-0.011095</td>\n",
       "      <td>0.144977</td>\n",
       "      <td>-0.272530</td>\n",
       "      <td>0.120714</td>\n",
       "      <td>-0.017269</td>\n",
       "      <td>-0.307084</td>\n",
       "      <td>-0.571821</td>\n",
       "    </tr>\n",
       "    <tr>\n",
       "      <th>3</th>\n",
       "      <td>65.98965</td>\n",
       "      <td>0.0</td>\n",
       "      <td>0.389915</td>\n",
       "      <td>0.139742</td>\n",
       "      <td>0.389478</td>\n",
       "      <td>1.551224</td>\n",
       "      <td>0.101034</td>\n",
       "      <td>0.323112</td>\n",
       "      <td>0.707647</td>\n",
       "      <td>0.352318</td>\n",
       "      <td>...</td>\n",
       "      <td>-0.523150</td>\n",
       "      <td>-0.974390</td>\n",
       "      <td>-1.162224</td>\n",
       "      <td>-1.326142</td>\n",
       "      <td>-1.354063</td>\n",
       "      <td>-1.299357</td>\n",
       "      <td>-1.459755</td>\n",
       "      <td>-0.925218</td>\n",
       "      <td>0.018010</td>\n",
       "      <td>0.377716</td>\n",
       "    </tr>\n",
       "    <tr>\n",
       "      <th>4</th>\n",
       "      <td>65.99026</td>\n",
       "      <td>0.0</td>\n",
       "      <td>-0.144912</td>\n",
       "      <td>0.128382</td>\n",
       "      <td>-0.167470</td>\n",
       "      <td>0.205957</td>\n",
       "      <td>0.041491</td>\n",
       "      <td>0.132742</td>\n",
       "      <td>0.111044</td>\n",
       "      <td>0.227684</td>\n",
       "      <td>...</td>\n",
       "      <td>0.204331</td>\n",
       "      <td>-0.433068</td>\n",
       "      <td>-0.029319</td>\n",
       "      <td>0.088639</td>\n",
       "      <td>0.432058</td>\n",
       "      <td>0.166155</td>\n",
       "      <td>0.109727</td>\n",
       "      <td>0.510042</td>\n",
       "      <td>-0.891744</td>\n",
       "      <td>0.820730</td>\n",
       "    </tr>\n",
       "  </tbody>\n",
       "</table>\n",
       "<p>5 rows × 302 columns</p>\n",
       "</div>"
      ],
      "text/plain": [
       "   Molecular_Weight  10A       10B       10C       10D       10E       10F  \\\n",
       "0          65.01201  0.0 -0.333174 -0.310196 -0.211132 -0.087471 -0.257130   \n",
       "1          65.01261  0.0  0.002091 -0.674182 -0.181348  0.434307  0.304864   \n",
       "2          65.01296  0.0  0.101683 -0.750955 -0.047181  0.561751  0.449384   \n",
       "3          65.98965  0.0  0.389915  0.139742  0.389478  1.551224  0.101034   \n",
       "4          65.99026  0.0 -0.144912  0.128382 -0.167470  0.205957  0.041491   \n",
       "\n",
       "        10G       10H       10I    ...           9B        9C        9D  \\\n",
       "0 -0.334422 -0.267074 -0.280800    ...     0.149465 -0.018649  0.132525   \n",
       "1  0.125699 -1.154838 -0.149845    ...    -0.301424 -0.611503 -0.374957   \n",
       "2  0.231678  0.716774 -0.037846    ...    -0.052453  0.139522 -0.206524   \n",
       "3  0.323112  0.707647  0.352318    ...    -0.523150 -0.974390 -1.162224   \n",
       "4  0.132742  0.111044  0.227684    ...     0.204331 -0.433068 -0.029319   \n",
       "\n",
       "         9E        9F        9G        9H        9I        9J        4J  \n",
       "0  0.145457  0.164234  0.023408  0.232332  0.101342  0.055404 -0.226212  \n",
       "1 -0.041667 -0.287942 -0.176074 -0.211045 -0.240499 -1.324743 -0.368653  \n",
       "2 -0.011095  0.144977 -0.272530  0.120714 -0.017269 -0.307084 -0.571821  \n",
       "3 -1.326142 -1.354063 -1.299357 -1.459755 -0.925218  0.018010  0.377716  \n",
       "4  0.088639  0.432058  0.166155  0.109727  0.510042 -0.891744  0.820730  \n",
       "\n",
       "[5 rows x 302 columns]"
      ]
     },
     "execution_count": 6,
     "metadata": {},
     "output_type": "execute_result"
    }
   ],
   "source": [
    "df.head()"
   ]
  },
  {
   "cell_type": "code",
   "execution_count": null,
   "metadata": {},
   "outputs": [],
   "source": [
    "metabolites = list(abs_df.columns[12:])\n",
    "platelets_df = abs_df[abs_df['Sample type']=='Platelets'].copy()\n",
    "plasma_df = abs_df[abs_df['Sample type']=='Plasma']\n",
    "plasma_df['min']=list(map(lambda sid: timestamps[sid[-1]],plasma_df['Sample ID'].values))\n",
    "plasma_long_df = pd.melt(plasma_df,id_vars=['Subject','Sex','min','Sample ID','Sample type'],value_vars=metabolites,var_name='Metabolite')\n",
    "pt_demographics_cols = ['Sample ID','Subject','Sample type','Sex','Height (m)','Weight (kg)','Systolic Blood Pressure','Diastolic Blood Pressure',]\n",
    "demog_df = abs_df[pt_demographics_cols]"
   ]
  },
  {
   "cell_type": "code",
   "execution_count": 541,
   "metadata": {},
   "outputs": [
    {
     "name": "stdout",
     "output_type": "stream",
     "text": [
      "baseline shape: (30, 33)\n"
     ]
    }
   ],
   "source": [
    "func = np.log2\n",
    "in_df = plasma_df\n",
    "cols = list(in_df.columns)\n",
    "eps = np.finfo(float).eps\n",
    "baseline_rgx = re.compile(r\"(\\d+A)\")\n",
    "t_rgx = lambda l: re.compile(r\"(\\d+{}).?\".format(l))\n",
    "baseline_idxs = in_df['Sample ID'].isin(list(filter(baseline_rgx.search,in_df['Sample ID']))[:30])\n",
    "baseline = in_df[baseline_idxs][metabolites].values\n",
    "print('baseline shape:',baseline.shape)\n",
    "timestamps = {'A':0,'B':2,'C':4,'D':6,'E':8,'F':10,'G':20,'H':30,'I':45,'J':60}\n",
    "letters = ['A','B','C','D','E']\n",
    "t_cols = [ list(set(filter(t_rgx(l).search,in_df['Sample ID']))) for l in timestamps.keys() ]\n",
    "final = [ in_df[in_df['Sample ID'].isin(tc)][['Sample ID','Subject','min']+metabolites] for tc in t_cols ]\n",
    "# norm_mat = [ func((f[metabolites].values+0.01)/(baseline)) for f in final ]\n",
    "# norm_mat = [ ((f[metabolites].values-baseline)/(baseline)) for f in final ]\n",
    "norm_mat = [ func((f[metabolites].values+1)/(baseline+1)) for f in final ]\n",
    "norm_df = []\n",
    "for m,f in zip(norm_mat,final):\n",
    "    df = pd.DataFrame(m,columns=metabolites)\n",
    "#     df['Sample ID']=f['Sample ID'].values\n",
    "    df['Subject']=f['Subject'].values\n",
    "    df['min']=f['min'].values\n",
    "    df['sample_id']=f['Sample ID'].values\n",
    "    norm_df.append(df)\n",
    "\n",
    "out_df = norm_df[0]\n",
    "for df in norm_df[1:]:\n",
    "    out_df = out_df.append(df)\n",
    "out_df = out_df.reset_index().drop(columns=['index'])"
   ]
  },
  {
   "cell_type": "code",
   "execution_count": 542,
   "metadata": {},
   "outputs": [],
   "source": [
    "out_df.to_csv('../data/abs_fc.csv')"
   ]
  },
  {
   "cell_type": "code",
   "execution_count": 561,
   "metadata": {},
   "outputs": [
    {
     "data": {
      "text/html": [
       "<div>\n",
       "<style scoped>\n",
       "    .dataframe tbody tr th:only-of-type {\n",
       "        vertical-align: middle;\n",
       "    }\n",
       "\n",
       "    .dataframe tbody tr th {\n",
       "        vertical-align: top;\n",
       "    }\n",
       "\n",
       "    .dataframe thead th {\n",
       "        text-align: right;\n",
       "    }\n",
       "</style>\n",
       "<table border=\"1\" class=\"dataframe\">\n",
       "  <thead>\n",
       "    <tr style=\"text-align: right;\">\n",
       "      <th></th>\n",
       "      <th>Subject</th>\n",
       "      <th>Sex</th>\n",
       "    </tr>\n",
       "  </thead>\n",
       "  <tbody>\n",
       "    <tr>\n",
       "      <th>0</th>\n",
       "      <td>1</td>\n",
       "      <td>Female</td>\n",
       "    </tr>\n",
       "    <tr>\n",
       "      <th>12</th>\n",
       "      <td>2</td>\n",
       "      <td>Male</td>\n",
       "    </tr>\n",
       "    <tr>\n",
       "      <th>24</th>\n",
       "      <td>3</td>\n",
       "      <td>Male</td>\n",
       "    </tr>\n",
       "    <tr>\n",
       "      <th>36</th>\n",
       "      <td>4</td>\n",
       "      <td>Male</td>\n",
       "    </tr>\n",
       "    <tr>\n",
       "      <th>48</th>\n",
       "      <td>5</td>\n",
       "      <td>Male</td>\n",
       "    </tr>\n",
       "  </tbody>\n",
       "</table>\n",
       "</div>"
      ],
      "text/plain": [
       "    Subject     Sex\n",
       "0         1  Female\n",
       "12        2    Male\n",
       "24        3    Male\n",
       "36        4    Male\n",
       "48        5    Male"
      ]
     },
     "execution_count": 561,
     "metadata": {},
     "output_type": "execute_result"
    }
   ],
   "source": [
    "sex_df = demog_df[['Subject','Sex']].drop_duplicates()\n",
    "sex_df.Sex = sex_df.Sex.astype(str)\n",
    "sex_df.head()"
   ]
  },
  {
   "cell_type": "code",
   "execution_count": 610,
   "metadata": {},
   "outputs": [],
   "source": [
    "abs_fc_df = pd.melt(out_df,id_vars=['sample_id','Subject','min'],value_vars=metabolites,var_name='Name',value_name='log2_fc')\n",
    "abs_fc_df = abs_fc_df.join(sex_df.set_index('Subject'),on='Subject',)\n",
    "abs_fc_df.to_pickle('../data/abs_fc.pk')"
   ]
  },
  {
   "cell_type": "code",
   "execution_count": 539,
   "metadata": {},
   "outputs": [],
   "source": [
    "epoch_stats = abs_fc_df.groupby('min').agg(['mean','var'])['log2_fc'].reset_index()\n",
    "abs_pop_stats = abs_fc_df.groupby(['min','Name']).agg(['mean','var'])['log2_fc'].reset_index()"
   ]
  },
  {
   "cell_type": "code",
   "execution_count": 540,
   "metadata": {},
   "outputs": [
    {
     "data": {
      "text/html": [
       "<div>\n",
       "<style scoped>\n",
       "    .dataframe tbody tr th:only-of-type {\n",
       "        vertical-align: middle;\n",
       "    }\n",
       "\n",
       "    .dataframe tbody tr th {\n",
       "        vertical-align: top;\n",
       "    }\n",
       "\n",
       "    .dataframe thead th {\n",
       "        text-align: right;\n",
       "    }\n",
       "</style>\n",
       "<table border=\"1\" class=\"dataframe\">\n",
       "  <thead>\n",
       "    <tr style=\"text-align: right;\">\n",
       "      <th></th>\n",
       "      <th>min</th>\n",
       "      <th>mean</th>\n",
       "      <th>var</th>\n",
       "    </tr>\n",
       "  </thead>\n",
       "  <tbody>\n",
       "    <tr>\n",
       "      <th>0</th>\n",
       "      <td>0</td>\n",
       "      <td>0.000000</td>\n",
       "      <td>0.000000</td>\n",
       "    </tr>\n",
       "    <tr>\n",
       "      <th>1</th>\n",
       "      <td>2</td>\n",
       "      <td>0.009941</td>\n",
       "      <td>0.527702</td>\n",
       "    </tr>\n",
       "    <tr>\n",
       "      <th>2</th>\n",
       "      <td>4</td>\n",
       "      <td>0.016742</td>\n",
       "      <td>0.434640</td>\n",
       "    </tr>\n",
       "    <tr>\n",
       "      <th>3</th>\n",
       "      <td>6</td>\n",
       "      <td>0.019700</td>\n",
       "      <td>0.259908</td>\n",
       "    </tr>\n",
       "    <tr>\n",
       "      <th>4</th>\n",
       "      <td>8</td>\n",
       "      <td>0.015347</td>\n",
       "      <td>0.287763</td>\n",
       "    </tr>\n",
       "    <tr>\n",
       "      <th>5</th>\n",
       "      <td>10</td>\n",
       "      <td>0.030211</td>\n",
       "      <td>0.375297</td>\n",
       "    </tr>\n",
       "    <tr>\n",
       "      <th>6</th>\n",
       "      <td>20</td>\n",
       "      <td>-0.052354</td>\n",
       "      <td>0.812930</td>\n",
       "    </tr>\n",
       "    <tr>\n",
       "      <th>7</th>\n",
       "      <td>30</td>\n",
       "      <td>-0.017155</td>\n",
       "      <td>0.482544</td>\n",
       "    </tr>\n",
       "    <tr>\n",
       "      <th>8</th>\n",
       "      <td>45</td>\n",
       "      <td>-0.078182</td>\n",
       "      <td>0.612481</td>\n",
       "    </tr>\n",
       "    <tr>\n",
       "      <th>9</th>\n",
       "      <td>60</td>\n",
       "      <td>-0.042107</td>\n",
       "      <td>0.297240</td>\n",
       "    </tr>\n",
       "  </tbody>\n",
       "</table>\n",
       "</div>"
      ],
      "text/plain": [
       "   min      mean       var\n",
       "0    0  0.000000  0.000000\n",
       "1    2  0.009941  0.527702\n",
       "2    4  0.016742  0.434640\n",
       "3    6  0.019700  0.259908\n",
       "4    8  0.015347  0.287763\n",
       "5   10  0.030211  0.375297\n",
       "6   20 -0.052354  0.812930\n",
       "7   30 -0.017155  0.482544\n",
       "8   45 -0.078182  0.612481\n",
       "9   60 -0.042107  0.297240"
      ]
     },
     "execution_count": 540,
     "metadata": {},
     "output_type": "execute_result"
    }
   ],
   "source": [
    "epoch_stats"
   ]
  },
  {
   "cell_type": "code",
   "execution_count": 441,
   "metadata": {},
   "outputs": [
    {
     "name": "stderr",
     "output_type": "stream",
     "text": [
      "100%|██████████| 330/330 [00:00<00:00, 375.17it/s]\n"
     ]
    }
   ],
   "source": [
    "from tqdm import tqdm as tqdm\n",
    "import scipy.stats as stats\n",
    "t_stats = []\n",
    "p_stats = []\n",
    "for index,row in tqdm(abs_pop_stats.iterrows(),total=330):\n",
    "    _,_,pop_mean,pop_var = epoch_stats.query(\"min == {}\".format(row['min'])).to_records()[0]\n",
    "    if row['min']==0:\n",
    "        t,p = stats.ttest_ind_from_stats(pop_mean,np.sqrt(0.001),32*30,row['mean'],np.sqrt(row['var']),30,equal_var=False)\n",
    "    else:\n",
    "        t,p = stats.ttest_ind_from_stats(pop_mean,np.sqrt(pop_var),32*30,row['mean'],np.sqrt(row['var']),30,equal_var=False)\n",
    "        \n",
    "    t_stats.append(t)\n",
    "    p_stats.append(p)"
   ]
  },
  {
   "cell_type": "code",
   "execution_count": 451,
   "metadata": {},
   "outputs": [
    {
     "data": {
      "text/html": [
       "<div>\n",
       "<style scoped>\n",
       "    .dataframe tbody tr th:only-of-type {\n",
       "        vertical-align: middle;\n",
       "    }\n",
       "\n",
       "    .dataframe tbody tr th {\n",
       "        vertical-align: top;\n",
       "    }\n",
       "\n",
       "    .dataframe thead th {\n",
       "        text-align: right;\n",
       "    }\n",
       "</style>\n",
       "<table border=\"1\" class=\"dataframe\">\n",
       "  <thead>\n",
       "    <tr style=\"text-align: right;\">\n",
       "      <th></th>\n",
       "      <th>min</th>\n",
       "      <th>Name</th>\n",
       "      <th>log2fc_mean</th>\n",
       "      <th>log2fc_var</th>\n",
       "      <th>p-value</th>\n",
       "      <th>log10p-value</th>\n",
       "    </tr>\n",
       "  </thead>\n",
       "  <tbody>\n",
       "    <tr>\n",
       "      <th>325</th>\n",
       "      <td>60</td>\n",
       "      <td>Pyruvate</td>\n",
       "      <td>0.004083</td>\n",
       "      <td>0.313078</td>\n",
       "      <td>0.659015</td>\n",
       "      <td>0.181105</td>\n",
       "    </tr>\n",
       "    <tr>\n",
       "      <th>326</th>\n",
       "      <td>60</td>\n",
       "      <td>Sphingosine 1-phosphate</td>\n",
       "      <td>0.016414</td>\n",
       "      <td>0.021749</td>\n",
       "      <td>0.073948</td>\n",
       "      <td>1.131072</td>\n",
       "    </tr>\n",
       "    <tr>\n",
       "      <th>327</th>\n",
       "      <td>60</td>\n",
       "      <td>Succinate</td>\n",
       "      <td>-0.087603</td>\n",
       "      <td>0.119092</td>\n",
       "      <td>0.491529</td>\n",
       "      <td>0.308451</td>\n",
       "    </tr>\n",
       "    <tr>\n",
       "      <th>328</th>\n",
       "      <td>60</td>\n",
       "      <td>Tryptophan</td>\n",
       "      <td>-0.063823</td>\n",
       "      <td>0.076142</td>\n",
       "      <td>0.686427</td>\n",
       "      <td>0.163406</td>\n",
       "    </tr>\n",
       "    <tr>\n",
       "      <th>329</th>\n",
       "      <td>60</td>\n",
       "      <td>Urate</td>\n",
       "      <td>-0.045957</td>\n",
       "      <td>0.777229</td>\n",
       "      <td>0.981189</td>\n",
       "      <td>0.008247</td>\n",
       "    </tr>\n",
       "  </tbody>\n",
       "</table>\n",
       "</div>"
      ],
      "text/plain": [
       "     min                     Name  log2fc_mean  log2fc_var   p-value  \\\n",
       "325   60                 Pyruvate     0.004083    0.313078  0.659015   \n",
       "326   60  Sphingosine 1-phosphate     0.016414    0.021749  0.073948   \n",
       "327   60                Succinate    -0.087603    0.119092  0.491529   \n",
       "328   60               Tryptophan    -0.063823    0.076142  0.686427   \n",
       "329   60                    Urate    -0.045957    0.777229  0.981189   \n",
       "\n",
       "     log10p-value  \n",
       "325      0.181105  \n",
       "326      1.131072  \n",
       "327      0.308451  \n",
       "328      0.163406  \n",
       "329      0.008247  "
      ]
     },
     "execution_count": 451,
     "metadata": {},
     "output_type": "execute_result"
    }
   ],
   "source": [
    "abs_pop_stats['p-value']=p_stats\n",
    "volc_df = abs_pop_stats\n",
    "volc_df['log10p-value']=-np.log10(abs_pop_stats['p-value'].values)\n",
    "volc_df.columns = ['min','Name','log2fc_mean','log2fc_var','p-value','log10p-value']\n",
    "volc_df.tail()"
   ]
  },
  {
   "cell_type": "code",
   "execution_count": 584,
   "metadata": {},
   "outputs": [
    {
     "data": {
      "text/plain": [
       "['2-Oxoglutarate',\n",
       " '4-Hydroxy-2-quinolinecarboxylic acid',\n",
       " 'Adenosine',\n",
       " 'Alanine',\n",
       " 'Aspartate',\n",
       " 'Citrate',\n",
       " 'D-Glucose',\n",
       " 'Fumarate',\n",
       " 'Glutathione',\n",
       " 'Glycine',\n",
       " 'Hexadecanoic acid',\n",
       " 'Hypoxanthine',\n",
       " 'Kynurenine',\n",
       " 'L-Arginine',\n",
       " 'L-Cystine',\n",
       " 'L-Glutamate',\n",
       " 'L-Histidine',\n",
       " 'L-Isoleucine/L-Leucine',\n",
       " 'L-Lysine',\n",
       " 'L-Methionine',\n",
       " 'L-Phenylalanine',\n",
       " 'L-Proline',\n",
       " 'L-Serine',\n",
       " 'L-Threonine',\n",
       " 'L-Tyrosine',\n",
       " 'L-Valine',\n",
       " 'Lactate',\n",
       " 'N-N-Dimethylglycine',\n",
       " 'Pyruvate',\n",
       " 'Sphingosine 1-phosphate',\n",
       " 'Succinate',\n",
       " 'Tryptophan',\n",
       " 'Urate']"
      ]
     },
     "execution_count": 584,
     "metadata": {},
     "output_type": "execute_result"
    }
   ],
   "source": [
    "names = volc_df.Name.drop_duplicates().astype(str).values.tolist()"
   ]
  },
  {
   "cell_type": "code",
   "execution_count": null,
   "metadata": {},
   "outputs": [],
   "source": [
    "df_filt = lambda df,field,val: df[df[field]==val]"
   ]
  },
  {
   "cell_type": "code",
   "execution_count": 452,
   "metadata": {},
   "outputs": [],
   "source": [
    "abs_pop_stats.to_pickle('../data/abs_fc_stats.pk')"
   ]
  },
  {
   "cell_type": "code",
   "execution_count": 527,
   "metadata": {},
   "outputs": [],
   "source": [
    "# name_df = df[['Molecular_Weight','min','Name']].drop_duplicates('Molecular_Weight')\n",
    "# volc_df = pop_df.merge(name_df,how='left',on=['min','Molecular_Weight'])\n",
    "# print(len(volc_df))\n",
    "# volc_df['log10p-value'] = -np.log10(volc_df['p-value'].values)\n",
    "# volc_df.tail()"
   ]
  },
  {
   "cell_type": "code",
   "execution_count": 524,
   "metadata": {},
   "outputs": [],
   "source": [
    "xrange = (-3,3)\n",
    "yrange = (0,8)\n",
    "TOOLS = 'pan,wheel_zoom,reset,hover,save'\n",
    "timepoint = 10"
   ]
  },
  {
   "cell_type": "code",
   "execution_count": 1,
   "metadata": {},
   "outputs": [],
   "source": [
    "from bokeh.transform import linear_cmap, log_cmap,factor_cmap\n",
    "from bokeh.palettes import Spectral6, Plasma,cividis\n",
    "def volcano_plot(volc_df,timepoint=2,xrange=(-4,4),yrange=(0,8),tools='pan,wheel_zoom,reset,hover,save',output_path=None):\n",
    "    source = ColumnDataSource(volc_df.query('min == '+str(timepoint)))\n",
    "    names = volc_df.Name.drop_duplicates().astype(str).values.tolist()\n",
    "\n",
    "#     mapper = log_cmap(field_name='Molecular_Weight', palette=Plasma256 ,low=min(volc_df['Molecular_Weight'].values) ,high=max(volc_df['Molecular_Weight'].values))\n",
    "    fill_color=factor_cmap('Name', palette=cividis(33), factors=names)\n",
    "    p = bp.figure(tools=tools, x_range=xrange, y_range=yrange)\n",
    "    p.hover.tooltips = [\n",
    "        (\"Name\",\"@Name\"),\n",
    "#         (\"Molecular Weight\", \"@{Molecular_Weight}\"),\n",
    "        (\"Log2 Fold Change\", \"@log2fc_mean\"),\n",
    "        ('p-value', '@{p-value}')\n",
    "    ]\n",
    "    \n",
    "    p.circle(\"log2fc_mean\",\"log10p-value\", fill_color=fill_color,size=5,source=source)\n",
    "    \n",
    "    p.title.text = \"Population Volcano plot @ {}min\".format(timepoint)\n",
    "    p.yaxis.axis_label = '-log10(p-value)'\n",
    "    p.xaxis.axis_label = 'log2(FoldChange)'\n",
    "\n",
    "\n",
    "    sig_stat_line = Span(location=-np.log10(0.05),\n",
    "                            dimension='width', line_color='black',\n",
    "                            line_dash='dashed', line_width=1)\n",
    "    \n",
    "    sig_stat_line3 = Span(location=-np.log10(0.001),\n",
    "                            dimension='width', line_color='black',\n",
    "                            line_dash='dashed', line_width=1)\n",
    "    \n",
    "    p.add_layout(sig_stat_line)\n",
    "    p.add_layout(sig_stat_line3)\n",
    "\n",
    "    zero_change = Span(location=0,\n",
    "                            dimension='height', line_color='black',\n",
    "                            line_dash='dashed', line_width=1)\n",
    "    p.add_layout(zero_change)\n",
    "    \n",
    "    if output_path is not None:\n",
    "        bp.output_file(os.path.join(output_path,\"volcano{}.html\".format(timepoint)), title=\"Log2 Fold Change @ {}min\".format(timepoint))\n",
    "\n",
    "    return p"
   ]
  },
  {
   "cell_type": "code",
   "execution_count": 2,
   "metadata": {},
   "outputs": [
    {
     "ename": "NameError",
     "evalue": "name 'bp' is not defined",
     "output_type": "error",
     "traceback": [
      "\u001b[0;31m---------------------------------------------------------------------------\u001b[0m",
      "\u001b[0;31mNameError\u001b[0m                                 Traceback (most recent call last)",
      "\u001b[0;32m<ipython-input-2-d2fffe11167a>\u001b[0m in \u001b[0;36m<module>\u001b[0;34m()\u001b[0m\n\u001b[0;32m----> 1\u001b[0;31m \u001b[0mbp\u001b[0m\u001b[0;34m.\u001b[0m\u001b[0moutput_notebook\u001b[0m\u001b[0;34m(\u001b[0m\u001b[0;34m)\u001b[0m\u001b[0;34m\u001b[0m\u001b[0m\n\u001b[0m\u001b[1;32m      2\u001b[0m \u001b[0mp\u001b[0m \u001b[0;34m=\u001b[0m \u001b[0mvolcano_plot\u001b[0m\u001b[0;34m(\u001b[0m\u001b[0mvolc_df\u001b[0m\u001b[0;34m,\u001b[0m\u001b[0mtimepoint\u001b[0m\u001b[0;34m=\u001b[0m\u001b[0;36m10\u001b[0m\u001b[0;34m,\u001b[0m\u001b[0mxrange\u001b[0m\u001b[0;34m=\u001b[0m\u001b[0;34m(\u001b[0m\u001b[0;34m-\u001b[0m\u001b[0;36m0.5\u001b[0m\u001b[0;34m,\u001b[0m\u001b[0;36m0.5\u001b[0m\u001b[0;34m)\u001b[0m\u001b[0;34m,\u001b[0m\u001b[0myrange\u001b[0m\u001b[0;34m=\u001b[0m\u001b[0;34m(\u001b[0m\u001b[0;36m0\u001b[0m\u001b[0;34m,\u001b[0m\u001b[0;36m3\u001b[0m\u001b[0;34m)\u001b[0m\u001b[0;34m)\u001b[0m\u001b[0;34m\u001b[0m\u001b[0m\n\u001b[1;32m      3\u001b[0m \u001b[0mbp\u001b[0m\u001b[0;34m.\u001b[0m\u001b[0mshow\u001b[0m\u001b[0;34m(\u001b[0m\u001b[0mp\u001b[0m\u001b[0;34m)\u001b[0m\u001b[0;34m\u001b[0m\u001b[0m\n",
      "\u001b[0;31mNameError\u001b[0m: name 'bp' is not defined"
     ]
    }
   ],
   "source": [
    "bp.output_notebook()\n",
    "p = volcano_plot(volc_df,timepoint=10,xrange=(-0.5,0.5),yrange=(0,3))\n",
    "bp.show(p)"
   ]
  },
  {
   "cell_type": "markdown",
   "metadata": {},
   "source": [
    "# Make volcano plots for all timepoints"
   ]
  },
  {
   "cell_type": "code",
   "execution_count": 10,
   "metadata": {},
   "outputs": [],
   "source": [
    "# for tp in [2,6,10]:\n",
    "#     p = volcano_plot(volc_df,timepoint=tp,output_path=\"../viz/bokeh\")\n",
    "#     bp.show(p)\n",
    "# p = volcano_plot(volc_df,output_path=\"../viz/bokeh\")\n"
   ]
  },
  {
   "cell_type": "code",
   "execution_count": 21,
   "metadata": {},
   "outputs": [
    {
     "data": {
      "text/html": [
       "<div>\n",
       "<style scoped>\n",
       "    .dataframe tbody tr th:only-of-type {\n",
       "        vertical-align: middle;\n",
       "    }\n",
       "\n",
       "    .dataframe tbody tr th {\n",
       "        vertical-align: top;\n",
       "    }\n",
       "\n",
       "    .dataframe thead th {\n",
       "        text-align: right;\n",
       "    }\n",
       "</style>\n",
       "<table border=\"1\" class=\"dataframe\">\n",
       "  <thead>\n",
       "    <tr style=\"text-align: right;\">\n",
       "      <th></th>\n",
       "      <th>Name</th>\n",
       "      <th>Molecular_Weight</th>\n",
       "      <th>sample_id</th>\n",
       "      <th>log2_fc</th>\n",
       "      <th>patient_id</th>\n",
       "      <th>min</th>\n",
       "      <th>Molecular_Weight_short</th>\n",
       "    </tr>\n",
       "  </thead>\n",
       "  <tbody>\n",
       "    <tr>\n",
       "      <th>35868</th>\n",
       "      <td>nan</td>\n",
       "      <td>468.34854</td>\n",
       "      <td>1A</td>\n",
       "      <td>0.0</td>\n",
       "      <td>1</td>\n",
       "      <td>0</td>\n",
       "      <td>468.349</td>\n",
       "    </tr>\n",
       "    <tr>\n",
       "      <th>109683</th>\n",
       "      <td>nan</td>\n",
       "      <td>468.34854</td>\n",
       "      <td>2A</td>\n",
       "      <td>0.0</td>\n",
       "      <td>2</td>\n",
       "      <td>0</td>\n",
       "      <td>468.349</td>\n",
       "    </tr>\n",
       "    <tr>\n",
       "      <th>183498</th>\n",
       "      <td>nan</td>\n",
       "      <td>468.34854</td>\n",
       "      <td>3A</td>\n",
       "      <td>0.0</td>\n",
       "      <td>3</td>\n",
       "      <td>0</td>\n",
       "      <td>468.349</td>\n",
       "    </tr>\n",
       "    <tr>\n",
       "      <th>257313</th>\n",
       "      <td>nan</td>\n",
       "      <td>468.34854</td>\n",
       "      <td>4A</td>\n",
       "      <td>0.0</td>\n",
       "      <td>4</td>\n",
       "      <td>0</td>\n",
       "      <td>468.349</td>\n",
       "    </tr>\n",
       "    <tr>\n",
       "      <th>331128</th>\n",
       "      <td>nan</td>\n",
       "      <td>468.34854</td>\n",
       "      <td>5A</td>\n",
       "      <td>0.0</td>\n",
       "      <td>5</td>\n",
       "      <td>0</td>\n",
       "      <td>468.349</td>\n",
       "    </tr>\n",
       "  </tbody>\n",
       "</table>\n",
       "</div>"
      ],
      "text/plain": [
       "       Name  Molecular_Weight sample_id  log2_fc  patient_id  min  \\\n",
       "35868   nan         468.34854        1A      0.0           1    0   \n",
       "109683  nan         468.34854        2A      0.0           2    0   \n",
       "183498  nan         468.34854        3A      0.0           3    0   \n",
       "257313  nan         468.34854        4A      0.0           4    0   \n",
       "331128  nan         468.34854        5A      0.0           5    0   \n",
       "\n",
       "        Molecular_Weight_short  \n",
       "35868                  468.349  \n",
       "109683                 468.349  \n",
       "183498                 468.349  \n",
       "257313                 468.349  \n",
       "331128                 468.349  "
      ]
     },
     "execution_count": 21,
     "metadata": {},
     "output_type": "execute_result"
    }
   ],
   "source": [
    "df['Molecular_Weight_short'] = np.round(df['Molecular_Weight'].values,decimals=3)\n",
    "df.query('Molecular_Weight_short == 468.349').head()"
   ]
  },
  {
   "cell_type": "code",
   "execution_count": 20,
   "metadata": {},
   "outputs": [
    {
     "name": "stderr",
     "output_type": "stream",
     "text": [
      "/home/elijahc/.pyenv/versions/jupyterlab-gpu/lib/python3.5/site-packages/scipy/stats/stats.py:1713: FutureWarning: Using a non-tuple sequence for multidimensional indexing is deprecated; use `arr[tuple(seq)]` instead of `arr[seq]`. In the future this will be interpreted as an array index, `arr[np.array(seq)]`, which will result either in an error or a different result.\n",
      "  return np.add.reduce(sorted[indexer] * weights, axis=axis) / sumval\n"
     ]
    },
    {
     "data": {
      "text/plain": [
       "<matplotlib.axes._subplots.AxesSubplot at 0x7f4d1ce44630>"
      ]
     },
     "execution_count": 20,
     "metadata": {},
     "output_type": "execute_result"
    },
    {
     "data": {
      "image/png": "[encoded data removed]",
      "text/plain": [
       "<Figure size 432x288 with 1 Axes>"
      ]
     },
     "metadata": {
      "needs_background": "light"
     },
     "output_type": "display_data"
    }
   ],
   "source": [
    "compound_w = 468.349\n",
    "sns.lineplot(x='min',y='log2_fc',data=df.query('Molecular_Weight_short == 468.349'))"
   ]
  },
  {
   "cell_type": "code",
   "execution_count": 10,
   "metadata": {},
   "outputs": [],
   "source": [
    "import datashader as ds\n",
    "import datashader.transfer_functions as tf\n",
    "from datashader.bokeh_ext import InteractiveImage"
   ]
  },
  {
   "cell_type": "code",
   "execution_count": 22,
   "metadata": {},
   "outputs": [
    {
     "data": {
      "image/png": "[encoded data removed]",
      "text/html": [
       "<img style=\"margin: auto; border:1px solid\" src='data:image/png;base64,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'/>"
      ],
      "text/plain": [
       "<xarray.Image (log10p-value: 500, log2fc_mean: 500)>\n",
       "array([[0, 0, 0, ..., 0, 0, 0],\n",
       "       [0, 0, 0, ..., 0, 0, 0],\n",
       "       [0, 0, 0, ..., 0, 0, 0],\n",
       "       ...,\n",
       "       [0, 0, 0, ..., 0, 0, 0],\n",
       "       [0, 0, 0, ..., 0, 0, 0],\n",
       "       [0, 0, 0, ..., 0, 0, 0]], dtype=uint32)\n",
       "Coordinates:\n",
       "  * log10p-value  (log10p-value) float64 0.008 0.024 0.04 ... 7.96 7.976 7.992\n",
       "  * log2fc_mean   (log2fc_mean) float64 -2.994 -2.982 -2.97 ... 2.97 2.982 2.994"
      ]
     },
     "execution_count": 22,
     "metadata": {},
     "output_type": "execute_result"
    }
   ],
   "source": [
    "canvas = ds.Canvas(plot_width=500,plot_height=500, x_range=xrange,y_range=yrange)\n",
    "agg = canvas.points(volc_df, 'log2fc_mean', 'log10p-value', agg=ds.count())\n",
    "tf.shade(agg,cmap=[\"darkred\",\"yellow\"],how='eq_hist')"
   ]
  },
  {
   "cell_type": "code",
   "execution_count": null,
   "metadata": {},
   "outputs": [],
   "source": [
    "bp.output_notebook()\n",
    "TOOLS = 'pan,wheel_zoom,reset,tap'\n",
    "# source = ColumnDataSource(df.query(\"min == 6\"))\n",
    "p = bp.figure(tools=TOOLS, x_range=xrange, y_range=yrange)\n",
    "\n",
    "def image_callback(x_range, y_range, w, h):\n",
    "    cvs = ds.Canvas(plot_width=w, plot_height=h, x_range=x_range, y_range=y_range)\n",
    "    agg = cvs.points(pop_df, 'log2fc_mean', 'log10p-value', agg=ds.count())\n",
    "    img = tf.shade(agg,cmap=[\"darkred\",\"yellow\"],how='eq_hist')\n",
    "    return tf.dynspread(img, threshold=0.25)\n",
    "\n",
    "InteractiveImage(p,image_callback)"
   ]
  },
  {
   "cell_type": "code",
   "execution_count": null,
   "metadata": {},
   "outputs": [],
   "source": []
  }
 ],
 "metadata": {
  "kernelspec": {
   "display_name": "Py3-GPU (Python3.5.2)",
   "language": "python",
   "name": "py3-gpu"
  },
  "language_info": {
   "codemirror_mode": {
    "name": "ipython",
    "version": 3
   },
   "file_extension": ".py",
   "mimetype": "text/x-python",
   "name": "python",
   "nbconvert_exporter": "python",
   "pygments_lexer": "ipython3",
   "version": "3.5.2"
  }
 },
 "nbformat": 4,
 "nbformat_minor": 2
}
