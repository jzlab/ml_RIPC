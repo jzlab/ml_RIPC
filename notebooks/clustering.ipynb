{
 "cells": [
  {
   "cell_type": "code",
   "execution_count": 2,
   "metadata": {},
   "outputs": [],
   "source": [
    "import os\n",
    "import pandas as pd\n",
    "import seaborn as sns\n",
    "import numpy as np\n",
    "import matplotlib.pyplot as plt\n",
    "%matplotlib inline\n",
    "import quilt\n",
    "from quilt.data.elijahc import ripc\n",
    "\n",
    "from sklearn.manifold import TSNE,Isomap\n",
    "\n",
    "import bokeh.plotting as bp\n",
    "from bokeh.models import ColumnDataSource, Span"
   ]
  },
  {
   "cell_type": "code",
   "execution_count": 3,
   "metadata": {},
   "outputs": [
    {
     "data": {
      "text/html": [
       "<div>\n",
       "<style scoped>\n",
       "    .dataframe tbody tr th:only-of-type {\n",
       "        vertical-align: middle;\n",
       "    }\n",
       "\n",
       "    .dataframe tbody tr th {\n",
       "        vertical-align: top;\n",
       "    }\n",
       "\n",
       "    .dataframe thead th {\n",
       "        text-align: right;\n",
       "    }\n",
       "</style>\n",
       "<table border=\"1\" class=\"dataframe\">\n",
       "  <thead>\n",
       "    <tr style=\"text-align: right;\">\n",
       "      <th></th>\n",
       "      <th>min</th>\n",
       "      <th>Molecular_Weight</th>\n",
       "      <th>log2fc_mean</th>\n",
       "      <th>log2fc_var</th>\n",
       "      <th>p-value</th>\n",
       "    </tr>\n",
       "  </thead>\n",
       "  <tbody>\n",
       "    <tr>\n",
       "      <th>726485</th>\n",
       "      <td>60</td>\n",
       "      <td>268.20519</td>\n",
       "      <td>0.094736</td>\n",
       "      <td>0.812804</td>\n",
       "      <td>0.569362</td>\n",
       "    </tr>\n",
       "    <tr>\n",
       "      <th>726486</th>\n",
       "      <td>60</td>\n",
       "      <td>190.17731</td>\n",
       "      <td>-0.092935</td>\n",
       "      <td>0.587453</td>\n",
       "      <td>0.511858</td>\n",
       "    </tr>\n",
       "    <tr>\n",
       "      <th>726487</th>\n",
       "      <td>60</td>\n",
       "      <td>150.14178</td>\n",
       "      <td>-0.099776</td>\n",
       "      <td>1.926829</td>\n",
       "      <td>0.696683</td>\n",
       "    </tr>\n",
       "    <tr>\n",
       "      <th>726488</th>\n",
       "      <td>60</td>\n",
       "      <td>568.38420</td>\n",
       "      <td>-0.024295</td>\n",
       "      <td>0.092641</td>\n",
       "      <td>0.665231</td>\n",
       "    </tr>\n",
       "    <tr>\n",
       "      <th>726489</th>\n",
       "      <td>60</td>\n",
       "      <td>268.20540</td>\n",
       "      <td>-0.367258</td>\n",
       "      <td>0.681297</td>\n",
       "      <td>0.021178</td>\n",
       "    </tr>\n",
       "  </tbody>\n",
       "</table>\n",
       "</div>"
      ],
      "text/plain": [
       "        min  Molecular_Weight  log2fc_mean  log2fc_var   p-value\n",
       "726485   60         268.20519     0.094736    0.812804  0.569362\n",
       "726486   60         190.17731    -0.092935    0.587453  0.511858\n",
       "726487   60         150.14178    -0.099776    1.926829  0.696683\n",
       "726488   60         568.38420    -0.024295    0.092641  0.665231\n",
       "726489   60         268.20540    -0.367258    0.681297  0.021178"
      ]
     },
     "execution_count": 3,
     "metadata": {},
     "output_type": "execute_result"
    }
   ],
   "source": [
    "pop_df = ripc.untargeted.log2fc_plasma_agg_stats()\n",
    "pop_df = pop_df.dropna()\n",
    "pop_df.tail()"
   ]
  },
  {
   "cell_type": "markdown",
   "metadata": {},
   "source": [
    "## Extract compounds that have statistically significant p-values at all timepoints after 10min"
   ]
  },
  {
   "cell_type": "code",
   "execution_count": 4,
   "metadata": {},
   "outputs": [],
   "source": [
    "timepoint_dfs = []\n",
    "for t in [2,4,6,8,10]:\n",
    "    t_df = pop_df.query(\"min == {}\".format(t))\n",
    "    timepoint_dfs.append(t_df[t_df['p-value'] <= 0.01])\n",
    "tp_mol_w_dfs = [np.unique(df['Molecular_Weight'].values) for df in timepoint_dfs]"
   ]
  },
  {
   "cell_type": "code",
   "execution_count": 5,
   "metadata": {},
   "outputs": [
    {
     "name": "stdout",
     "output_type": "stream",
     "text": [
      "2533\n"
     ]
    }
   ],
   "source": [
    "# Keep only compounts that appear in all 5 timepoints\n",
    "u_idx = tp_mol_w_dfs[-1]\n",
    "for arr in tp_mol_w_dfs[-2::-1]:\n",
    "    u_idx = np.intersect1d(u_idx,arr)\n",
    "print(len(u_idx))"
   ]
  },
  {
   "cell_type": "code",
   "execution_count": 6,
   "metadata": {},
   "outputs": [],
   "source": [
    "def set_filter(df,column,criteria):\n",
    "    return df[df[column].isin(criteria)]"
   ]
  },
  {
   "cell_type": "code",
   "execution_count": 7,
   "metadata": {},
   "outputs": [],
   "source": [
    "pop_df_short = set_filter(pop_df,'Molecular_Weight',u_idx)"
   ]
  },
  {
   "cell_type": "code",
   "execution_count": 8,
   "metadata": {},
   "outputs": [],
   "source": [
    "comp_ts_profile = pop_df_short.pivot_table(columns='min',index='Molecular_Weight',values='log2fc_mean')"
   ]
  },
  {
   "cell_type": "code",
   "execution_count": 9,
   "metadata": {},
   "outputs": [],
   "source": [
    "X = comp_ts_profile.values"
   ]
  },
  {
   "cell_type": "code",
   "execution_count": 10,
   "metadata": {},
   "outputs": [
    {
     "name": "stdout",
     "output_type": "stream",
     "text": [
      "[t-SNE] Computing 91 nearest neighbors...\n",
      "[t-SNE] Indexed 2533 samples in 0.015s...\n",
      "[t-SNE] Computed neighbors for 2533 samples in 0.146s...\n",
      "[t-SNE] Computed conditional probabilities for sample 1000 / 2533\n",
      "[t-SNE] Computed conditional probabilities for sample 2000 / 2533\n",
      "[t-SNE] Computed conditional probabilities for sample 2533 / 2533\n",
      "[t-SNE] Mean sigma: 0.063966\n",
      "[t-SNE] KL divergence after 250 iterations with early exaggeration: 66.655647\n",
      "[t-SNE] Error after 5000 iterations: 1.152107\n"
     ]
    }
   ],
   "source": [
    "X_embedded = TSNE(n_components=2,verbose=1,n_iter=5000).fit_transform(X)"
   ]
  },
  {
   "cell_type": "code",
   "execution_count": 11,
   "metadata": {},
   "outputs": [
    {
     "data": {
      "text/html": [
       "<div>\n",
       "<style scoped>\n",
       "    .dataframe tbody tr th:only-of-type {\n",
       "        vertical-align: middle;\n",
       "    }\n",
       "\n",
       "    .dataframe tbody tr th {\n",
       "        vertical-align: top;\n",
       "    }\n",
       "\n",
       "    .dataframe thead th {\n",
       "        text-align: right;\n",
       "    }\n",
       "</style>\n",
       "<table border=\"1\" class=\"dataframe\">\n",
       "  <thead>\n",
       "    <tr style=\"text-align: right;\">\n",
       "      <th></th>\n",
       "      <th>Molecular_Weight</th>\n",
       "      <th>dim_1</th>\n",
       "      <th>dim_2</th>\n",
       "    </tr>\n",
       "  </thead>\n",
       "  <tbody>\n",
       "    <tr>\n",
       "      <th>0</th>\n",
       "      <td>67.98743</td>\n",
       "      <td>-36.205143</td>\n",
       "      <td>14.735681</td>\n",
       "    </tr>\n",
       "    <tr>\n",
       "      <th>1</th>\n",
       "      <td>68.06219</td>\n",
       "      <td>-27.303459</td>\n",
       "      <td>16.370192</td>\n",
       "    </tr>\n",
       "  </tbody>\n",
       "</table>\n",
       "</div>"
      ],
      "text/plain": [
       "   Molecular_Weight      dim_1      dim_2\n",
       "0          67.98743 -36.205143  14.735681\n",
       "1          68.06219 -27.303459  16.370192"
      ]
     },
     "execution_count": 11,
     "metadata": {},
     "output_type": "execute_result"
    }
   ],
   "source": [
    "tsne_df = pd.DataFrame(X_embedded,index=comp_ts_profile.index,columns=['dim_1','dim_2']).reset_index()\n",
    "tsne_df.head(2)"
   ]
  },
  {
   "cell_type": "code",
   "execution_count": 12,
   "metadata": {},
   "outputs": [],
   "source": [
    "X_embedded = Isomap(n_neighbors=7,n_components=2).fit_transform(X)"
   ]
  },
  {
   "cell_type": "code",
   "execution_count": 14,
   "metadata": {},
   "outputs": [
    {
     "data": {
      "text/html": [
       "<div>\n",
       "<style scoped>\n",
       "    .dataframe tbody tr th:only-of-type {\n",
       "        vertical-align: middle;\n",
       "    }\n",
       "\n",
       "    .dataframe tbody tr th {\n",
       "        vertical-align: top;\n",
       "    }\n",
       "\n",
       "    .dataframe thead th {\n",
       "        text-align: right;\n",
       "    }\n",
       "</style>\n",
       "<table border=\"1\" class=\"dataframe\">\n",
       "  <thead>\n",
       "    <tr style=\"text-align: right;\">\n",
       "      <th></th>\n",
       "      <th>Molecular_Weight</th>\n",
       "      <th>dim_1</th>\n",
       "      <th>dim_2</th>\n",
       "    </tr>\n",
       "  </thead>\n",
       "  <tbody>\n",
       "    <tr>\n",
       "      <th>0</th>\n",
       "      <td>67.98743</td>\n",
       "      <td>-0.534382</td>\n",
       "      <td>-0.023978</td>\n",
       "    </tr>\n",
       "    <tr>\n",
       "      <th>1</th>\n",
       "      <td>68.06219</td>\n",
       "      <td>-0.596401</td>\n",
       "      <td>-0.198148</td>\n",
       "    </tr>\n",
       "  </tbody>\n",
       "</table>\n",
       "</div>"
      ],
      "text/plain": [
       "   Molecular_Weight     dim_1     dim_2\n",
       "0          67.98743 -0.534382 -0.023978\n",
       "1          68.06219 -0.596401 -0.198148"
      ]
     },
     "execution_count": 14,
     "metadata": {},
     "output_type": "execute_result"
    }
   ],
   "source": [
    "isomap_df = pd.DataFrame(X_embedded,index=comp_ts_profile.index,columns=['dim_1','dim_2']).reset_index()\n",
    "isomap_df.head(2)"
   ]
  },
  {
   "cell_type": "code",
   "execution_count": 15,
   "metadata": {},
   "outputs": [],
   "source": [
    "subset = tsne_df['Molecular_Weight'].values\n",
    "merge_df = pop_df[pop_df['Molecular_Weight'].isin(subset)].merge(tsne_df,on='Molecular_Weight')"
   ]
  },
  {
   "cell_type": "code",
   "execution_count": 16,
   "metadata": {},
   "outputs": [],
   "source": [
    "merge_df.to_csv('../data/tsne_early_0.01.csv',index=False)"
   ]
  },
  {
   "cell_type": "code",
   "execution_count": 17,
   "metadata": {},
   "outputs": [],
   "source": [
    "from bokeh.palettes import Plasma256\n",
    "from bokeh.transform import log_cmap\n",
    "from bokeh.models import LassoSelectTool\n",
    "\n",
    "mapper = log_cmap(field_name='Molecular_Weight', palette=Plasma256 ,low=min(tsne_df['Molecular_Weight'].values) ,high=max(tsne_df['Molecular_Weight'].values))\n",
    "\n",
    "def plot_cluster(x,y,hue=None,data=None,tools='hover,save,reset,pan,lasso_select,wheel_zoom',**kwargs):\n",
    "    X_vals = data[x]\n",
    "    Y_vals = data[y]\n",
    "    source = ColumnDataSource(data)\n",
    "    p = bp.figure(tools=tools, x_range=(min(X_vals),max(X_vals)), y_range=(min(Y_vals),max(Y_vals)))\n",
    "    p.hover.tooltips = [\n",
    "        (\"Molecular Weight\", \"@{Molecular_Weight}\"),\n",
    "    ]\n",
    "    p.circle(x,y, line_color=hue, color=hue, size=5,source=source)\n",
    "    \n",
    "    return p\n"
   ]
  },
  {
   "cell_type": "code",
   "execution_count": 20,
   "metadata": {},
   "outputs": [
    {
     "data": {
      "text/html": [
       "\n",
       "    <div class=\"bk-root\">\n",
       "        <a href=\"https://bokeh.pydata.org\" target=\"_blank\" class=\"bk-logo bk-logo-small bk-logo-notebook\"></a>\n",
       "        <span id=\"1108\">Loading BokehJS ...</span>\n",
       "    </div>"
      ]
     },
     "metadata": {},
     "output_type": "display_data"
    },
    {
     "data": {
      "application/javascript": [
       "\n",
       "(function(root) {\n",
       "  function now() {\n",
       "    return new Date();\n",
       "  }\n",
       "\n",
       "  var force = true;\n",
       "\n",
       "  if (typeof (root._bokeh_onload_callbacks) === \"undefined\" || force === true) {\n",
       "    root._bokeh_onload_callbacks = [];\n",
       "    root._bokeh_is_loading = undefined;\n",
       "  }\n",
       "\n",
       "  var JS_MIME_TYPE = 'application/javascript';\n",
       "  var HTML_MIME_TYPE = 'text/html';\n",
       "  var EXEC_MIME_TYPE = 'application/vnd.bokehjs_exec.v0+json';\n",
       "  var CLASS_NAME = 'output_bokeh rendered_html';\n",
       "\n",
       "  /**\n",
       "   * Render data to the DOM node\n",
       "   */\n",
       "  function render(props, node) {\n",
       "    var script = document.createElement(\"script\");\n",
       "    node.appendChild(script);\n",
       "  }\n",
       "\n",
       "  /**\n",
       "   * Handle when an output is cleared or removed\n",
       "   */\n",
       "  function handleClearOutput(event, handle) {\n",
       "    var cell = handle.cell;\n",
       "\n",
       "    var id = cell.output_area._bokeh_element_id;\n",
       "    var server_id = cell.output_area._bokeh_server_id;\n",
       "    // Clean up Bokeh references\n",
       "    if (id != null && id in Bokeh.index) {\n",
       "      Bokeh.index[id].model.document.clear();\n",
       "      delete Bokeh.index[id];\n",
       "    }\n",
       "\n",
       "    if (server_id !== undefined) {\n",
       "      // Clean up Bokeh references\n",
       "      var cmd = \"from bokeh.io.state import curstate; print(curstate().uuid_to_server['\" + server_id + \"'].get_sessions()[0].document.roots[0]._id)\";\n",
       "      cell.notebook.kernel.execute(cmd, {\n",
       "        iopub: {\n",
       "          output: function(msg) {\n",
       "            var id = msg.content.text.trim();\n",
       "            if (id in Bokeh.index) {\n",
       "              Bokeh.index[id].model.document.clear();\n",
       "              delete Bokeh.index[id];\n",
       "            }\n",
       "          }\n",
       "        }\n",
       "      });\n",
       "      // Destroy server and session\n",
       "      var cmd = \"import bokeh.io.notebook as ion; ion.destroy_server('\" + server_id + \"')\";\n",
       "      cell.notebook.kernel.execute(cmd);\n",
       "    }\n",
       "  }\n",
       "\n",
       "  /**\n",
       "   * Handle when a new output is added\n",
       "   */\n",
       "  function handleAddOutput(event, handle) {\n",
       "    var output_area = handle.output_area;\n",
       "    var output = handle.output;\n",
       "\n",
       "    // limit handleAddOutput to display_data with EXEC_MIME_TYPE content only\n",
       "    if ((output.output_type != \"display_data\") || (!output.data.hasOwnProperty(EXEC_MIME_TYPE))) {\n",
       "      return\n",
       "    }\n",
       "\n",
       "    var toinsert = output_area.element.find(\".\" + CLASS_NAME.split(' ')[0]);\n",
       "\n",
       "    if (output.metadata[EXEC_MIME_TYPE][\"id\"] !== undefined) {\n",
       "      toinsert[toinsert.length - 1].firstChild.textContent = output.data[JS_MIME_TYPE];\n",
       "      // store reference to embed id on output_area\n",
       "      output_area._bokeh_element_id = output.metadata[EXEC_MIME_TYPE][\"id\"];\n",
       "    }\n",
       "    if (output.metadata[EXEC_MIME_TYPE][\"server_id\"] !== undefined) {\n",
       "      var bk_div = document.createElement(\"div\");\n",
       "      bk_div.innerHTML = output.data[HTML_MIME_TYPE];\n",
       "      var script_attrs = bk_div.children[0].attributes;\n",
       "      for (var i = 0; i < script_attrs.length; i++) {\n",
       "        toinsert[toinsert.length - 1].firstChild.setAttribute(script_attrs[i].name, script_attrs[i].value);\n",
       "      }\n",
       "      // store reference to server id on output_area\n",
       "      output_area._bokeh_server_id = output.metadata[EXEC_MIME_TYPE][\"server_id\"];\n",
       "    }\n",
       "  }\n",
       "\n",
       "  function register_renderer(events, OutputArea) {\n",
       "\n",
       "    function append_mime(data, metadata, element) {\n",
       "      // create a DOM node to render to\n",
       "      var toinsert = this.create_output_subarea(\n",
       "        metadata,\n",
       "        CLASS_NAME,\n",
       "        EXEC_MIME_TYPE\n",
       "      );\n",
       "      this.keyboard_manager.register_events(toinsert);\n",
       "      // Render to node\n",
       "      var props = {data: data, metadata: metadata[EXEC_MIME_TYPE]};\n",
       "      render(props, toinsert[toinsert.length - 1]);\n",
       "      element.append(toinsert);\n",
       "      return toinsert\n",
       "    }\n",
       "\n",
       "    /* Handle when an output is cleared or removed */\n",
       "    events.on('clear_output.CodeCell', handleClearOutput);\n",
       "    events.on('delete.Cell', handleClearOutput);\n",
       "\n",
       "    /* Handle when a new output is added */\n",
       "    events.on('output_added.OutputArea', handleAddOutput);\n",
       "\n",
       "    /**\n",
       "     * Register the mime type and append_mime function with output_area\n",
       "     */\n",
       "    OutputArea.prototype.register_mime_type(EXEC_MIME_TYPE, append_mime, {\n",
       "      /* Is output safe? */\n",
       "      safe: true,\n",
       "      /* Index of renderer in `output_area.display_order` */\n",
       "      index: 0\n",
       "    });\n",
       "  }\n",
       "\n",
       "  // register the mime type if in Jupyter Notebook environment and previously unregistered\n",
       "  if (root.Jupyter !== undefined) {\n",
       "    var events = require('base/js/events');\n",
       "    var OutputArea = require('notebook/js/outputarea').OutputArea;\n",
       "\n",
       "    if (OutputArea.prototype.mime_types().indexOf(EXEC_MIME_TYPE) == -1) {\n",
       "      register_renderer(events, OutputArea);\n",
       "    }\n",
       "  }\n",
       "\n",
       "  \n",
       "  if (typeof (root._bokeh_timeout) === \"undefined\" || force === true) {\n",
       "    root._bokeh_timeout = Date.now() + 5000;\n",
       "    root._bokeh_failed_load = false;\n",
       "  }\n",
       "\n",
       "  var NB_LOAD_WARNING = {'data': {'text/html':\n",
       "     \"<div style='background-color: #fdd'>\\n\"+\n",
       "     \"<p>\\n\"+\n",
       "     \"BokehJS does not appear to have successfully loaded. If loading BokehJS from CDN, this \\n\"+\n",
       "     \"may be due to a slow or bad network connection. Possible fixes:\\n\"+\n",
       "     \"</p>\\n\"+\n",
       "     \"<ul>\\n\"+\n",
       "     \"<li>re-rerun `output_notebook()` to attempt to load from CDN again, or</li>\\n\"+\n",
       "     \"<li>use INLINE resources instead, as so:</li>\\n\"+\n",
       "     \"</ul>\\n\"+\n",
       "     \"<code>\\n\"+\n",
       "     \"from bokeh.resources import INLINE\\n\"+\n",
       "     \"output_notebook(resources=INLINE)\\n\"+\n",
       "     \"</code>\\n\"+\n",
       "     \"</div>\"}};\n",
       "\n",
       "  function display_loaded() {\n",
       "    var el = document.getElementById(\"1108\");\n",
       "    if (el != null) {\n",
       "      el.textContent = \"BokehJS is loading...\";\n",
       "    }\n",
       "    if (root.Bokeh !== undefined) {\n",
       "      if (el != null) {\n",
       "        el.textContent = \"BokehJS \" + root.Bokeh.version + \" successfully loaded.\";\n",
       "      }\n",
       "    } else if (Date.now() < root._bokeh_timeout) {\n",
       "      setTimeout(display_loaded, 100)\n",
       "    }\n",
       "  }\n",
       "\n",
       "\n",
       "  function run_callbacks() {\n",
       "    try {\n",
       "      root._bokeh_onload_callbacks.forEach(function(callback) { callback() });\n",
       "    }\n",
       "    finally {\n",
       "      delete root._bokeh_onload_callbacks\n",
       "    }\n",
       "    console.info(\"Bokeh: all callbacks have finished\");\n",
       "  }\n",
       "\n",
       "  function load_libs(js_urls, callback) {\n",
       "    root._bokeh_onload_callbacks.push(callback);\n",
       "    if (root._bokeh_is_loading > 0) {\n",
       "      console.log(\"Bokeh: BokehJS is being loaded, scheduling callback at\", now());\n",
       "      return null;\n",
       "    }\n",
       "    if (js_urls == null || js_urls.length === 0) {\n",
       "      run_callbacks();\n",
       "      return null;\n",
       "    }\n",
       "    console.log(\"Bokeh: BokehJS not loaded, scheduling load and callback at\", now());\n",
       "    root._bokeh_is_loading = js_urls.length;\n",
       "    for (var i = 0; i < js_urls.length; i++) {\n",
       "      var url = js_urls[i];\n",
       "      var s = document.createElement('script');\n",
       "      s.src = url;\n",
       "      s.async = false;\n",
       "      s.onreadystatechange = s.onload = function() {\n",
       "        root._bokeh_is_loading--;\n",
       "        if (root._bokeh_is_loading === 0) {\n",
       "          console.log(\"Bokeh: all BokehJS libraries loaded\");\n",
       "          run_callbacks()\n",
       "        }\n",
       "      };\n",
       "      s.onerror = function() {\n",
       "        console.warn(\"failed to load library \" + url);\n",
       "      };\n",
       "      console.log(\"Bokeh: injecting script tag for BokehJS library: \", url);\n",
       "      document.getElementsByTagName(\"head\")[0].appendChild(s);\n",
       "    }\n",
       "  };var element = document.getElementById(\"1108\");\n",
       "  if (element == null) {\n",
       "    console.log(\"Bokeh: ERROR: autoload.js configured with elementid '1108' but no matching script tag was found. \")\n",
       "    return false;\n",
       "  }\n",
       "\n",
       "  var js_urls = [\"https://cdn.pydata.org/bokeh/release/bokeh-1.0.2.min.js\", \"https://cdn.pydata.org/bokeh/release/bokeh-widgets-1.0.2.min.js\", \"https://cdn.pydata.org/bokeh/release/bokeh-tables-1.0.2.min.js\", \"https://cdn.pydata.org/bokeh/release/bokeh-gl-1.0.2.min.js\"];\n",
       "\n",
       "  var inline_js = [\n",
       "    function(Bokeh) {\n",
       "      Bokeh.set_log_level(\"info\");\n",
       "    },\n",
       "    \n",
       "    function(Bokeh) {\n",
       "      \n",
       "    },\n",
       "    function(Bokeh) {\n",
       "      console.log(\"Bokeh: injecting CSS: https://cdn.pydata.org/bokeh/release/bokeh-1.0.2.min.css\");\n",
       "      Bokeh.embed.inject_css(\"https://cdn.pydata.org/bokeh/release/bokeh-1.0.2.min.css\");\n",
       "      console.log(\"Bokeh: injecting CSS: https://cdn.pydata.org/bokeh/release/bokeh-widgets-1.0.2.min.css\");\n",
       "      Bokeh.embed.inject_css(\"https://cdn.pydata.org/bokeh/release/bokeh-widgets-1.0.2.min.css\");\n",
       "      console.log(\"Bokeh: injecting CSS: https://cdn.pydata.org/bokeh/release/bokeh-tables-1.0.2.min.css\");\n",
       "      Bokeh.embed.inject_css(\"https://cdn.pydata.org/bokeh/release/bokeh-tables-1.0.2.min.css\");\n",
       "    }\n",
       "  ];\n",
       "\n",
       "  function run_inline_js() {\n",
       "    \n",
       "    if ((root.Bokeh !== undefined) || (force === true)) {\n",
       "      for (var i = 0; i < inline_js.length; i++) {\n",
       "        inline_js[i].call(root, root.Bokeh);\n",
       "      }if (force === true) {\n",
       "        display_loaded();\n",
       "      }} else if (Date.now() < root._bokeh_timeout) {\n",
       "      setTimeout(run_inline_js, 100);\n",
       "    } else if (!root._bokeh_failed_load) {\n",
       "      console.log(\"Bokeh: BokehJS failed to load within specified timeout.\");\n",
       "      root._bokeh_failed_load = true;\n",
       "    } else if (force !== true) {\n",
       "      var cell = $(document.getElementById(\"1108\")).parents('.cell').data().cell;\n",
       "      cell.output_area.append_execute_result(NB_LOAD_WARNING)\n",
       "    }\n",
       "\n",
       "  }\n",
       "\n",
       "  if (root._bokeh_is_loading === 0) {\n",
       "    console.log(\"Bokeh: BokehJS loaded, going straight to plotting\");\n",
       "    run_inline_js();\n",
       "  } else {\n",
       "    load_libs(js_urls, function() {\n",
       "      console.log(\"Bokeh: BokehJS plotting callback run at\", now());\n",
       "      run_inline_js();\n",
       "    });\n",
       "  }\n",
       "}(window));"
      ],
      "application/vnd.bokehjs_load.v0+json": "\n(function(root) {\n  function now() {\n    return new Date();\n  }\n\n  var force = true;\n\n  if (typeof (root._bokeh_onload_callbacks) === \"undefined\" || force === true) {\n    root._bokeh_onload_callbacks = [];\n    root._bokeh_is_loading = undefined;\n  }\n\n  \n\n  \n  if (typeof (root._bokeh_timeout) === \"undefined\" || force === true) {\n    root._bokeh_timeout = Date.now() + 5000;\n    root._bokeh_failed_load = false;\n  }\n\n  var NB_LOAD_WARNING = {'data': {'text/html':\n     \"<div style='background-color: #fdd'>\\n\"+\n     \"<p>\\n\"+\n     \"BokehJS does not appear to have successfully loaded. If loading BokehJS from CDN, this \\n\"+\n     \"may be due to a slow or bad network connection. Possible fixes:\\n\"+\n     \"</p>\\n\"+\n     \"<ul>\\n\"+\n     \"<li>re-rerun `output_notebook()` to attempt to load from CDN again, or</li>\\n\"+\n     \"<li>use INLINE resources instead, as so:</li>\\n\"+\n     \"</ul>\\n\"+\n     \"<code>\\n\"+\n     \"from bokeh.resources import INLINE\\n\"+\n     \"output_notebook(resources=INLINE)\\n\"+\n     \"</code>\\n\"+\n     \"</div>\"}};\n\n  function display_loaded() {\n    var el = document.getElementById(\"1108\");\n    if (el != null) {\n      el.textContent = \"BokehJS is loading...\";\n    }\n    if (root.Bokeh !== undefined) {\n      if (el != null) {\n        el.textContent = \"BokehJS \" + root.Bokeh.version + \" successfully loaded.\";\n      }\n    } else if (Date.now() < root._bokeh_timeout) {\n      setTimeout(display_loaded, 100)\n    }\n  }\n\n\n  function run_callbacks() {\n    try {\n      root._bokeh_onload_callbacks.forEach(function(callback) { callback() });\n    }\n    finally {\n      delete root._bokeh_onload_callbacks\n    }\n    console.info(\"Bokeh: all callbacks have finished\");\n  }\n\n  function load_libs(js_urls, callback) {\n    root._bokeh_onload_callbacks.push(callback);\n    if (root._bokeh_is_loading > 0) {\n      console.log(\"Bokeh: BokehJS is being loaded, scheduling callback at\", now());\n      return null;\n    }\n    if (js_urls == null || js_urls.length === 0) {\n      run_callbacks();\n      return null;\n    }\n    console.log(\"Bokeh: BokehJS not loaded, scheduling load and callback at\", now());\n    root._bokeh_is_loading = js_urls.length;\n    for (var i = 0; i < js_urls.length; i++) {\n      var url = js_urls[i];\n      var s = document.createElement('script');\n      s.src = url;\n      s.async = false;\n      s.onreadystatechange = s.onload = function() {\n        root._bokeh_is_loading--;\n        if (root._bokeh_is_loading === 0) {\n          console.log(\"Bokeh: all BokehJS libraries loaded\");\n          run_callbacks()\n        }\n      };\n      s.onerror = function() {\n        console.warn(\"failed to load library \" + url);\n      };\n      console.log(\"Bokeh: injecting script tag for BokehJS library: \", url);\n      document.getElementsByTagName(\"head\")[0].appendChild(s);\n    }\n  };var element = document.getElementById(\"1108\");\n  if (element == null) {\n    console.log(\"Bokeh: ERROR: autoload.js configured with elementid '1108' but no matching script tag was found. \")\n    return false;\n  }\n\n  var js_urls = [\"https://cdn.pydata.org/bokeh/release/bokeh-1.0.2.min.js\", \"https://cdn.pydata.org/bokeh/release/bokeh-widgets-1.0.2.min.js\", \"https://cdn.pydata.org/bokeh/release/bokeh-tables-1.0.2.min.js\", \"https://cdn.pydata.org/bokeh/release/bokeh-gl-1.0.2.min.js\"];\n\n  var inline_js = [\n    function(Bokeh) {\n      Bokeh.set_log_level(\"info\");\n    },\n    \n    function(Bokeh) {\n      \n    },\n    function(Bokeh) {\n      console.log(\"Bokeh: injecting CSS: https://cdn.pydata.org/bokeh/release/bokeh-1.0.2.min.css\");\n      Bokeh.embed.inject_css(\"https://cdn.pydata.org/bokeh/release/bokeh-1.0.2.min.css\");\n      console.log(\"Bokeh: injecting CSS: https://cdn.pydata.org/bokeh/release/bokeh-widgets-1.0.2.min.css\");\n      Bokeh.embed.inject_css(\"https://cdn.pydata.org/bokeh/release/bokeh-widgets-1.0.2.min.css\");\n      console.log(\"Bokeh: injecting CSS: https://cdn.pydata.org/bokeh/release/bokeh-tables-1.0.2.min.css\");\n      Bokeh.embed.inject_css(\"https://cdn.pydata.org/bokeh/release/bokeh-tables-1.0.2.min.css\");\n    }\n  ];\n\n  function run_inline_js() {\n    \n    if ((root.Bokeh !== undefined) || (force === true)) {\n      for (var i = 0; i < inline_js.length; i++) {\n        inline_js[i].call(root, root.Bokeh);\n      }if (force === true) {\n        display_loaded();\n      }} else if (Date.now() < root._bokeh_timeout) {\n      setTimeout(run_inline_js, 100);\n    } else if (!root._bokeh_failed_load) {\n      console.log(\"Bokeh: BokehJS failed to load within specified timeout.\");\n      root._bokeh_failed_load = true;\n    } else if (force !== true) {\n      var cell = $(document.getElementById(\"1108\")).parents('.cell').data().cell;\n      cell.output_area.append_execute_result(NB_LOAD_WARNING)\n    }\n\n  }\n\n  if (root._bokeh_is_loading === 0) {\n    console.log(\"Bokeh: BokehJS loaded, going straight to plotting\");\n    run_inline_js();\n  } else {\n    load_libs(js_urls, function() {\n      console.log(\"Bokeh: BokehJS plotting callback run at\", now());\n      run_inline_js();\n    });\n  }\n}(window));"
     },
     "metadata": {},
     "output_type": "display_data"
    },
    {
     "data": {
      "text/html": [
       "\n",
       "\n",
       "\n",
       "\n",
       "\n",
       "\n",
       "  <div class=\"bk-root\" id=\"7ff57666-cd58-4e0a-a3de-9b6a1ce78ac4\"></div>\n"
      ]
     },
     "metadata": {},
     "output_type": "display_data"
    },
    {
     "data": {
      "application/javascript": [
       "(function(root) {\n",
       "  function embed_document(root) {\n",
       "    \n",
       "  var docs_json = {\"3ff3c4e5-5285-4e96-84e2-f0ca47a88b84\":{\"roots\":{\"references\":[{\"attributes\":{\"source\":{\"id\":\"1109\",\"type\":\"ColumnDataSource\"}},\"id\":\"1149\",\"type\":\"CDSView\"},{\"attributes\":{\"high\":1958.79067,\"low\":67.98743,\"palette\":[\"#0C0786\",\"#100787\",\"#130689\",\"#15068A\",\"#18068B\",\"#1B068C\",\"#1D068D\",\"#1F058E\",\"#21058F\",\"#230590\",\"#250591\",\"#270592\",\"#290593\",\"#2B0594\",\"#2D0494\",\"#2F0495\",\"#310496\",\"#330497\",\"#340498\",\"#360498\",\"#380499\",\"#3A049A\",\"#3B039A\",\"#3D039B\",\"#3F039C\",\"#40039C\",\"#42039D\",\"#44039E\",\"#45039E\",\"#47029F\",\"#49029F\",\"#4A02A0\",\"#4C02A1\",\"#4E02A1\",\"#4F02A2\",\"#5101A2\",\"#5201A3\",\"#5401A3\",\"#5601A3\",\"#5701A4\",\"#5901A4\",\"#5A00A5\",\"#5C00A5\",\"#5E00A5\",\"#5F00A6\",\"#6100A6\",\"#6200A6\",\"#6400A7\",\"#6500A7\",\"#6700A7\",\"#6800A7\",\"#6A00A7\",\"#6C00A8\",\"#6D00A8\",\"#6F00A8\",\"#7000A8\",\"#7200A8\",\"#7300A8\",\"#7500A8\",\"#7601A8\",\"#7801A8\",\"#7901A8\",\"#7B02A8\",\"#7C02A7\",\"#7E03A7\",\"#7F03A7\",\"#8104A7\",\"#8204A7\",\"#8405A6\",\"#8506A6\",\"#8607A6\",\"#8807A5\",\"#8908A5\",\"#8B09A4\",\"#8C0AA4\",\"#8E0CA4\",\"#8F0DA3\",\"#900EA3\",\"#920FA2\",\"#9310A1\",\"#9511A1\",\"#9612A0\",\"#9713A0\",\"#99149F\",\"#9A159E\",\"#9B179E\",\"#9D189D\",\"#9E199C\",\"#9F1A9B\",\"#A01B9B\",\"#A21C9A\",\"#A31D99\",\"#A41E98\",\"#A51F97\",\"#A72197\",\"#A82296\",\"#A92395\",\"#AA2494\",\"#AC2593\",\"#AD2692\",\"#AE2791\",\"#AF2890\",\"#B02A8F\",\"#B12B8F\",\"#B22C8E\",\"#B42D8D\",\"#B52E8C\",\"#B62F8B\",\"#B7308A\",\"#B83289\",\"#B93388\",\"#BA3487\",\"#BB3586\",\"#BC3685\",\"#BD3784\",\"#BE3883\",\"#BF3982\",\"#C03B81\",\"#C13C80\",\"#C23D80\",\"#C33E7F\",\"#C43F7E\",\"#C5407D\",\"#C6417C\",\"#C7427B\",\"#C8447A\",\"#C94579\",\"#CA4678\",\"#CB4777\",\"#CC4876\",\"#CD4975\",\"#CE4A75\",\"#CF4B74\",\"#D04D73\",\"#D14E72\",\"#D14F71\",\"#D25070\",\"#D3516F\",\"#D4526E\",\"#D5536D\",\"#D6556D\",\"#D7566C\",\"#D7576B\",\"#D8586A\",\"#D95969\",\"#DA5A68\",\"#DB5B67\",\"#DC5D66\",\"#DC5E66\",\"#DD5F65\",\"#DE6064\",\"#DF6163\",\"#DF6262\",\"#E06461\",\"#E16560\",\"#E26660\",\"#E3675F\",\"#E3685E\",\"#E46A5D\",\"#E56B5C\",\"#E56C5B\",\"#E66D5A\",\"#E76E5A\",\"#E87059\",\"#E87158\",\"#E97257\",\"#EA7356\",\"#EA7455\",\"#EB7654\",\"#EC7754\",\"#EC7853\",\"#ED7952\",\"#ED7B51\",\"#EE7C50\",\"#EF7D4F\",\"#EF7E4E\",\"#F0804D\",\"#F0814D\",\"#F1824C\",\"#F2844B\",\"#F2854A\",\"#F38649\",\"#F38748\",\"#F48947\",\"#F48A47\",\"#F58B46\",\"#F58D45\",\"#F68E44\",\"#F68F43\",\"#F69142\",\"#F79241\",\"#F79341\",\"#F89540\",\"#F8963F\",\"#F8983E\",\"#F9993D\",\"#F99A3C\",\"#FA9C3B\",\"#FA9D3A\",\"#FA9F3A\",\"#FAA039\",\"#FBA238\",\"#FBA337\",\"#FBA436\",\"#FCA635\",\"#FCA735\",\"#FCA934\",\"#FCAA33\",\"#FCAC32\",\"#FCAD31\",\"#FDAF31\",\"#FDB030\",\"#FDB22F\",\"#FDB32E\",\"#FDB52D\",\"#FDB62D\",\"#FDB82C\",\"#FDB92B\",\"#FDBB2B\",\"#FDBC2A\",\"#FDBE29\",\"#FDC029\",\"#FDC128\",\"#FDC328\",\"#FDC427\",\"#FDC626\",\"#FCC726\",\"#FCC926\",\"#FCCB25\",\"#FCCC25\",\"#FCCE25\",\"#FBD024\",\"#FBD124\",\"#FBD324\",\"#FAD524\",\"#FAD624\",\"#FAD824\",\"#F9D924\",\"#F9DB24\",\"#F8DD24\",\"#F8DF24\",\"#F7E024\",\"#F7E225\",\"#F6E425\",\"#F6E525\",\"#F5E726\",\"#F5E926\",\"#F4EA26\",\"#F3EC26\",\"#F3EE26\",\"#F2F026\",\"#F2F126\",\"#F1F326\",\"#F0F525\",\"#F0F623\",\"#EFF821\"]},\"id\":\"1001\",\"type\":\"LogColorMapper\"},{\"attributes\":{\"fill_alpha\":{\"value\":0.5},\"fill_color\":{\"value\":\"lightgrey\"},\"level\":\"overlay\",\"line_alpha\":{\"value\":1.0},\"line_color\":{\"value\":\"black\"},\"line_dash\":[4,4],\"line_width\":{\"value\":2},\"plot\":null,\"xs_units\":\"screen\",\"ys_units\":\"screen\"},\"id\":\"1139\",\"type\":\"PolyAnnotation\"},{\"attributes\":{},\"id\":\"1165\",\"type\":\"UnionRenderers\"},{\"attributes\":{},\"id\":\"1134\",\"type\":\"WheelZoomTool\"},{\"attributes\":{},\"id\":\"1115\",\"type\":\"LinearScale\"},{\"attributes\":{\"formatter\":{\"id\":\"1162\",\"type\":\"BasicTickFormatter\"},\"plot\":{\"id\":\"1110\",\"subtype\":\"Figure\",\"type\":\"Plot\"},\"ticker\":{\"id\":\"1120\",\"type\":\"BasicTicker\"}},\"id\":\"1119\",\"type\":\"LinearAxis\"},{\"attributes\":{\"fill_alpha\":{\"value\":0.1},\"fill_color\":{\"value\":\"#1f77b4\"},\"line_alpha\":{\"value\":0.1},\"line_color\":{\"value\":\"#1f77b4\"},\"size\":{\"units\":\"screen\",\"value\":5},\"x\":{\"field\":\"dim_1\"},\"y\":{\"field\":\"dim_2\"}},\"id\":\"1147\",\"type\":\"Circle\"},{\"attributes\":{\"data_source\":{\"id\":\"1109\",\"type\":\"ColumnDataSource\"},\"glyph\":{\"id\":\"1146\",\"type\":\"Circle\"},\"hover_glyph\":null,\"muted_glyph\":null,\"nonselection_glyph\":{\"id\":\"1147\",\"type\":\"Circle\"},\"selection_glyph\":null,\"view\":{\"id\":\"1149\",\"type\":\"CDSView\"}},\"id\":\"1148\",\"type\":\"GlyphRenderer\"},{\"attributes\":{\"active_drag\":\"auto\",\"active_inspect\":\"auto\",\"active_multi\":null,\"active_scroll\":\"auto\",\"active_tap\":\"auto\",\"tools\":[{\"id\":\"1129\",\"type\":\"HoverTool\"},{\"id\":\"1130\",\"type\":\"SaveTool\"},{\"id\":\"1131\",\"type\":\"ResetTool\"},{\"id\":\"1132\",\"type\":\"PanTool\"},{\"id\":\"1133\",\"type\":\"LassoSelectTool\"},{\"id\":\"1134\",\"type\":\"WheelZoomTool\"}]},\"id\":\"1135\",\"type\":\"Toolbar\"},{\"attributes\":{\"callback\":null,\"overlay\":{\"id\":\"1139\",\"type\":\"PolyAnnotation\"}},\"id\":\"1133\",\"type\":\"LassoSelectTool\"},{\"attributes\":{},\"id\":\"1130\",\"type\":\"SaveTool\"},{\"attributes\":{},\"id\":\"1166\",\"type\":\"Selection\"},{\"attributes\":{\"plot\":null,\"text\":\"\"},\"id\":\"1160\",\"type\":\"Title\"},{\"attributes\":{},\"id\":\"1132\",\"type\":\"PanTool\"},{\"attributes\":{\"callback\":null,\"tooltips\":[[\"Molecular Weight\",\"@{Molecular_Weight}\"]]},\"id\":\"1129\",\"type\":\"HoverTool\"},{\"attributes\":{},\"id\":\"1164\",\"type\":\"BasicTickFormatter\"},{\"attributes\":{\"callback\":null,\"end\":101.10802459716797,\"start\":-70.24498748779297},\"id\":\"1111\",\"type\":\"Range1d\"},{\"attributes\":{},\"id\":\"1120\",\"type\":\"BasicTicker\"},{\"attributes\":{},\"id\":\"1162\",\"type\":\"BasicTickFormatter\"},{\"attributes\":{},\"id\":\"1131\",\"type\":\"ResetTool\"},{\"attributes\":{\"dimension\":1,\"plot\":{\"id\":\"1110\",\"subtype\":\"Figure\",\"type\":\"Plot\"},\"ticker\":{\"id\":\"1125\",\"type\":\"BasicTicker\"}},\"id\":\"1128\",\"type\":\"Grid\"},{\"attributes\":{\"formatter\":{\"id\":\"1164\",\"type\":\"BasicTickFormatter\"},\"plot\":{\"id\":\"1110\",\"subtype\":\"Figure\",\"type\":\"Plot\"},\"ticker\":{\"id\":\"1125\",\"type\":\"BasicTicker\"}},\"id\":\"1124\",\"type\":\"LinearAxis\"},{\"attributes\":{\"callback\":null,\"end\":43.76791000366211,\"start\":-73.69450378417969},\"id\":\"1113\",\"type\":\"Range1d\"},{\"attributes\":{},\"id\":\"1125\",\"type\":\"BasicTicker\"},{\"attributes\":{\"fill_color\":{\"field\":\"Molecular_Weight\",\"transform\":{\"id\":\"1001\",\"type\":\"LogColorMapper\"}},\"line_color\":{\"field\":\"Molecular_Weight\",\"transform\":{\"id\":\"1001\",\"type\":\"LogColorMapper\"}},\"size\":{\"units\":\"screen\",\"value\":5},\"x\":{\"field\":\"dim_1\"},\"y\":{\"field\":\"dim_2\"}},\"id\":\"1146\",\"type\":\"Circle\"},{\"attributes\":{\"callback\":null,\"data\":{\"Molecular_Weight\":{\"__ndarray__\":\"t0WZDTL/UEDZCMTr+gNRQMr49xkXBFFAVcGopE5EUUDjOzHrxYJRQHiXi/hOwlFAOgZkr3cBUkAkC5jArYNSQFOWIY51BVNAh85r7BKFVEBAMEeP38NUQGGJB5RNA1VA7DTSUnmFVUCHM7+aA4ZVQJUO1v85AlZAwi/186bGVkD/z2G+vMZWQHPXEvJBA1dAWrvtQnNDWEDJyFnY00RYQJayDHGsRVhASzygbMpFWEAF+kSeJINYQHztmSUBhlhAJV0z+WbBWEBzEd+JWYNZQLmI78SshVlAirDh6ZVCWkDDnnb4awRbQBYTm49rQ1tAbCbfbHNDW0Bpb/CFyWBbQBWRYRVvgltAAvG6fsGGW0BQU8vW+oZbQNwuNNdpxFtAdk8eFmrHW0BJY7SOqgBcQIW2nEtxQ1xAz/dT46VDXED68gLso0VcQG1zY3rCglxAAp8fRgiDXECVDtb/OYRcQDElkuhlhFxAmBdgH52GXEAMAiuHFgNdQH245LhTBF1AyHvVyoRBXUAdyeU/pEFdQDJyFva0QV1AW0I+6NlCXUBGrMWnAERdQM9r7BLVf11Acclxp3SAXUDWrZ6T3oFdQADGM2jog11AWfrQBfWDXUDO34RCBIRdQGe4AZ8fhF1A/ACkNnGGXUA9IqZEEqFdQPJBz2bVA15A9fOmIhUGXkDo9pLGaENeQMUbmUf+RF5ABWnGoumEXkCbAwRz9IReQPc7FAX6xF5AO+l942shX0BcGyrG+UVfQDemJyzxgl9ATIkkehmDX0DRBfUtc6JfQHh/vFetol9AEg8om3IBYEDb/pWVJgNgQG9HOC14IWBA6X3ja88iYEDuWkI+6CRgQJMYBFYOQmBADWyVYHFRYEAB2evdH4JgQH2zzY3pgmBAE4PAyqGhYEDZlCu8y8FgQB/0bFZ9w2BAmN2Th4XgYEDshm2LMv9gQMR8eQH2AGFAMnIW9rQBYUDZmULnNQNhQDlKXp1jH2FATHFV2XcfYUBTliGOdSBhQLql1ZC4IWFA8gcDz70hYUCEgefewyFhQL0Yyol2MWFAaJYEqKkxYUCxxAPKpkFhQIHPDyOEYGFAsUtUbw1iYUBcyY6NQGJhQELUfQBSYmFAZQETuHViYUDytWeWBG9hQPOrOUAwcmFAOUAwR4+BYUBNSkG3l4FhQFKbOLnfgWFANJ2dDI6fYUAYldQJaKFhQOgTeZJ0omFAU9DtJY2iYUCgT+RJ0qJhQCnLEMe6o2FAbeLkfofCYUBPO/w1WeVhQBN0e0lj5WFAoo0j1uIBYkBSuB6F6wJiQFX2XRH8AmJAgy9MpgoDYkCp2QOtwBFiQNJvXwfOEWJAHXIz3IAhYkC9UpYhjiNiQBvYKsHiQWJA63O1FftBYkBvDWyVYEJiQINRSZ2AQmJAWBzO/GpDYkA/HY8ZqENiQBniWBe3UWJA2lVI+UliYkD/If32dX5iQIgRwqONgGJAZPNxbaiDYkDNO07RkaNiQG05l+Kqo2JAJ9pVSPmwYkBwTE9Y4sFiQHtOet/4wWJAtr5IaMvCYkBa2NMOf8NiQApVavZA4mJAHHxhMlXiYkC+h0uOO+NiQIv9ZffkAWNAMsnIWdgCY0DnGJC93iJjQNy6m6c6QGNAS4CaWrZBY0AZkL3e/UFjQHEgJAuYX2NAjzaOWIthY0Dw7zMuHGJjQDdUjPM3Y2NALH3ogvp/Y0D3zJIANYJjQNy6m6c6gmNAzBXe5SKFY0CXi/hOzKJjQNPe4AuTo2NAP8bctYSwY0AWNZiG4bBjQMwolltasWNAk+NO6WCxY0DYyeAoebFjQOs56X3jwWNA3qtWJvzBY0CTUtDtJcJjQHTqymd5wmNAOiNKe4PCY0CG8GjjiNBjQDP+fcaF4GNAZwqd19jiY0DymIHK+OJjQIfOa+wS5GNAMXxETInxY0B4nKIjuQFkQA7z5QXYAWRAj3qIRncRZECb02UxsSFkQEDL8+DuIWRAxRuZR/4iZEDzVIfcDCNkQCNnYU87Q2RAvfvjvWpfZEBa2NMOf19kQDl/EwoRYmRA3P6VlSZiZEAHtkqwOGJkQPgZFw6EY2RApsLYQpBjZEDbDDfg83FkQLul1ZC4gmRAkuhlFMuCZEBdRrHc0oJkQOT3Nv3ZgmRAwqONI9aiZEDThy6ob6NkQLHEA8qmsGRAKdAn8iTDZEDFaB1VTcNkQLF3f7xXw2RAlWWIY13DZECOQLyuX8RkQE0VjErq4WRAP6n26XgCZUDfKHl1jgJlQG+e6pCbA2VAozuInSk/ZUBRZoNMMj9lQMNkqmBUQWVABg39E1xBZUBl3xXB/0FlQGsr9pfdQmVAvzWwVYJDZUAr3sg88mRlQN7b9Gc/ZWVAZqAy/n1/ZUCllq31RYJlQAisHFpkgmVArIvbaACEZUCzzY3pCYRlQEX/BBcrhGVAxrWhYpyhZUCIS447paFlQDj4wmSqoWVA/N6mP/uhZUDrrYGtEqJlQNi2KLNBo2VAZkmAmlqjZUCz0qQUdL5lQKjtX1lpv2VAETY8vVLCZUCA1CZO7sJlQPs6cM6Iz2VAHs78ag7iZUCGVbyReQJmQMTE5uPaAmZAlxJJ9DIDZkBkIxCv6xBmQMxFfCdmIWZA8Rtfe2YhZkCTOgFNhCJmQBsN4C2QImZArW71nPRBZkDi6ZWyDEJmQJc5XRYTQmZAGJXUCWhCZkDaci7FVUNmQJ4kXTP5X2ZAkL3e/fFhZkDrc7UV+2JmQPUtc7osY2ZAJ9pVSPlwZkAtPgXAeH9mQLdFmQ0ygWZArthfdk+BZkBsCfmgZ4FmQOl942vPgWZAHVpkO9+BZkDy6hwDsoJmQGGOHr+3g2ZAoE/kSdKjZkAb9RCN7qNmQAmnBS/6o2ZApKoJou7QZkCYaftXVt9mQAkzbf/K4WZAuY0G8BbjZkCKq8q+K+NmQHwPlxx3/2ZAEeSghJkDZ0DNr+YAwQRnQGXkLOxpI2dAdAzIXu9CZ0AoCvSJPGJnQEj+YOC5gmdAsBu2LcqCZ0CfzarP1YJnQGsr9pfdgmdAtB8pIsOgZ0ANcayL26BnQMRCrWneomdAvAUSFD+jZ0AVkWEVb6NnQEErMGR1o2dADqFKzR6yZ0B6/N6mP7JnQIEhq1s9v2dAfjUHCObDZ0CAK9mxEcVnQL99HThnBGhANIC3QIIEaEBIMxZNZyJoQJ2AJsKGJGhA9pfdk4ckaED0iTxJuiRoQGqHvyZrJWhA0CfyJOlBaECgibDh6UFoQDp15bM8QmhAfPKwUGtDaEC/DpwzokNoQJkqGJXUQ2hAtWytLxJhaEBA3qtWJmFoQJRNucK7YWhAVRNE3QdjaED3r6w0KYJoQFpkO99PgmhATyMtlbeDaEAXDoRkAYRoQD0nvW98o2hAWMoyxLGxaEDsEtVbA+NoQIJWYMjq42hADYl7LH0BaUBuUWaDTANpQEgzFk1nA2lA9KYiFcYiaUBLqyFxj0FpQIkHlE25QmlAqdkDrcBCaUAXmus00kJpQMPTK2UZQ2lAtrkxPWFDaUArweJw5kNpQGdhTzv8Q2lAqZ83Fal+aUAUXKyowYFpQOSghJm2g2lATrnCu1yhaUCJDKt4I8NpQPZAKzBkxWlAR3L5D+nhaUB7ZkmAmuRpQGhcOBCSA2pABWnGoukhakCMZ9DQPyJqQA+XHHdKImpACI82jlgjakA1RuuoaiNqQHh/vFetI2pAuECC4scjakBfRrHc0iNqQGdEaW/wP2pA8RExJZJCakA9fm/Tn0JqQKQZi6azQmpAXeFdLuJCakB6whIPKGVqQFa3ek56g2pAuoPYmUKfakCph2h0B6FqQNGRXP5Do2pAaVIKur3CakB2VDVB1MNqQAmnBS/6w2pAyy2thsTjakBkIxCv6+RqQFRvDWyVBWtAFNBE2PAFa0AktOVciiNrQAt72uGvI2tA/bypSIUka0BOl8XE5kFrQDvpfeNrQ2tAm/7sR4pDa0B8fhghPERrQOjB3Vm7YWtA5zV2iepia0DlCu9yEWNrQMP1KFyPgmtAJCh+jLmCa0Aom3KFd4NrQH3ogvqWhGtABg39E1yfa0BfRrHc0qBrQEJg5dAioWtArrZif9nBa0DsL7snD8RrQDpY/+cwxGtA4V0u4jvFa0CL4H8r2eBrQBLCo40j42tA0QX1LXMCbECMSuoENANsQPzjvWplA2xAQ5CDEmYDbEDGihpMwwNsQF97ZkmAI2xAGVbxRuYxbECygAncukJsQF2Kq8q+QmxAYKsEi8NCbEB+Oh4zUERsQI7pCUs8g2xAXmiu00iDbEAz/n3GhaJsQDjb3Jiew2xAHy457pTjbEBYrUz4peNsQOZciqvK42xAODKP/MHkbEC3lzRG6+VsQKEt51Jc/2xAfA+XHHcxbUCrz9VW7EJtQO4ljdE6RW1AeAskKH5FbUCfH0YIj0VtQJd4QNmURW1AfCx96IJlbUAd5ssLsGVtQFjKMsSxZW1ALA5nfjWBbUAl6ZrJN4FtQGlXIeUngm1A+GuyRj2CbUChSs0eaINtQNPe4AuThG1AXMmOjUCFbUAK9Ik8SYVtQGDI6lbPhW1ACp3X2CUDbkAK16NwPQNuQATidf2CIG5A8gcDz71DbkAAjGfQ0ENuQDdxcr9DRW5AtHbbheZkbkD3Hi457oJuQD4ipkQSg25Al+Kqsu+ibkBHj9/b9KNuQKMBvAUSpG5AjBAebRykbkCh20sao6tuQI/k8h/SsW5AEtpyLsXlbkAOLbKd7+ZuQGGOHr+3/G5AcOtunur9bkAR/G8lOwJvQOOItfgUBG9AW9O84xQGb0AtQxzr4iRvQF3+Q/rtPm9A4h5LH7pCb0C0sKcd/kJvQK1RD9HoQ29Aa32R0JZEb0AOSphp+2RvQKneGtgqoG9AfGEyVTChb0BwtrkxPbpvQFqBIatbv29AH2gFhqzgb0AwuycPiwFwQK4NFeN8AnBAI2dhT7shcEDPTgZHySFwQFslWBzOIXBAB84ZUVoicED/JhQiYCJwQOM2GsDbMHBA3Xu45LgxcEDZ0w5/zTFwQD6zJEBNMnBAgy9MpgpCcEC9V61M+FFwQMKjjSNWYXBA0VynkRZ+cEC+NbBVAoFwQByxFp+CgXBATWcngyOCcEAychb2NIJwQOhNRSqMkXBAPX5v0x+ScEC4BrZKMJJwQJxQiIBDknBAt5xLcVWScEDAz7hwIJpwQJhMFYxKoXBAD9HoDuKwcEAGgZVDi8FwQBo09E/wwXBA8BZIUPzBcEBVTRB1H8JwQD1+b9MfwnBADeAtkCDCcEC/t+nPfs5wQDV7oBWY0XBAGsBbIEHicEA/AKlNHORwQP28qUgF8nBAAmVTrvDycEBrZcIv9fJwQIaUn1T7/XBAR+aRPxj/cECU+x2KggFxQC0+BcD4AnFATyMtlbchcUCwPbMkwCFxQCIa3UHsIXFAhqxu9RwkcUAziuWW1jJxQOoENBE2NHFAv7fpz/5DcUAu/yH9dlJxQLA9syRAYXFAYFlpUopicUBCQ/8El2JxQNUmTu73fnFAzF1LyIeBcUAZ529CIYJxQK1p3nEKg3FAT135LM+RcUAEBHP0+J9xQDoQkgXMoXFABYvDmV+icUDkFB3JZatxQKVrJt9ssnFAoRABh9CycUBnwi/187JxQEpBt5e0s3FALA5nfrWzcUB9y5wuC8JxQIasbvUc2HFAAB3my4vhcUD7kSIyrOFxQBM6r7FL4nFAw2SqYFTicUAk1uJTgOJxQGB2Tx6W73FAbosyG+QBckBS1QRR9wFyQBpR2hv8AXJA+HDJcScEckARAYdQpQ5yQA4yycjZIXJAHT1+b1MnckD4QCsw5C9yQNRgGoYPQnJABARz9PhQckDVITfDDVFyQCs1e6AVYXJAETY8vVJickBiodY072NyQOHurN12gXJACyQofgyCckBuF5rrNINyQAw89x6uoXJA2ZlC57WhckCcxCCw8qFyQOWbbW5MonJAwqONI1aickDohxHCo75yQNuK/WX3wXJAcQM+P4zCckDysFBrGsRyQAE1tWwtxHJAvRjKiXbSckAF3V7SmNJyQNxoAG8B03JA3wcgtQnTckA/xty1BOByQEI+6Nks4nJAXKyowTTickCO6QlLPOJyQEM50a5C4nJARwN4CyTyckBp44i1ePNyQHY3T3VI9HJAV0PiHsshc0Bn8s02NzRzQJKRs7AnQHNA2G670FxAc0BX2XdFcEFzQF+YTBUMQnNA0ZZzKa5hc0DBxYoaTGJzQBv1EI1uaHNAyF7v/viBc0B3Sgfr/4FzQGPuWkI+gnNAMsnIWViCc0CGPe3w15lzQOlILv+hoXNAbluU2SCic0DhYkUNJqJzQMjvbfozonNAUORJ0jWic0C+h0uOO6JzQLm0GhL3rnNAPzVeukmyc0AtQxzr4sFzQBUKEXCI0HNAVryReeTSc0AW+8vuydRzQM1YNJ0d3nNA4/xNKMThc0CRJ0nXzOFzQC63tBoS4nNAS+XtCCfic0BDyk+qfeJzQF7XL9iN4nNA6StIM5bic0DHuriNBgJ0QJxtbkxPEnRAB9MwfEQidEASg8DKoSJ0QI1/n3FhMHRADJOpgtE/dEDYqIdo9EF0QAisHFrkQnRAt0WZDbJIdEDL1voioV50QEtZhjjWX3RAS8gHPZthdECp+wCkNmJ0QLLXuz/egXRAMGR1q+eBdEDokT8YeIJ0QCsYldSJgnRAw552+OuEdEAtsp3vp4h0QN+mP/sRonRAUKp9Oh6idEB3oblOI6J0QKAaL90konRArcCQ1S2idEBa9bnaiqN0QAVbJVico3RAsYo3Mg+ydEC+TX/2o7J0QE2EDU+vtHRA7ncoCvS3dEBpjNZR1bx0QDUpBd3evHRALZW3I5y+dEAMur2kMcJ0QPlJtU9HwnRAXwfOGVHCdECgw3x5gdB0QNXsgVbg0nRA0/avrLThdEDgoSjQp/h0QPMf0m9fAXVAmkLnNfYBdUCIhVrTvAR1QMPYQpADEXVAewH20akZdUCOBvAWyCx1QIleRrHcQXVAXCBB8eNcdUDgEKrU7Fx1QCTW4lOAX3VAvJF55A9idUA1mIbhI2J1QD2bVZ8rYnVAx4Ds9e5sdUATfqmft4F1QHIz3IBPgnVAC+9yEV+CdUCeKXReY4J1QNBE2PB0gnVA+rg2VIyDdUCmJyzxAI11QBV0e0njknVA0VynkZaidUCOrz2zpKJ1QDsZHCWvonVAGxL3WHq7dUArTUpBt8N1QO1kcJQ80nVAhxbZzvfUdUB0mC8vQNV1QL5qZcIv4nVAl/+QfnvydUCjzAaZ5AF2QL2MYrklInZAdc3km+0tdkDhfyvZMTJ2QHFV2XfFQXZAkGYsmk5KdkDjwoGQLFV2QIuJzce1X3ZAFytqMA1idkBhN2xbFGJ2QLPqc7WVZHZA8tJNYhBldkB1H4DUpnF2QI0LB0IygXZA2T15WCiCdkDg2/RnP4J2QMNHxJRIgnZAXcR3YlaCdkBYqDXNO5J2QEGasWi6knZAK4cW2c6SdkBWDi2yHaJ2QLpm8s02onZAg/qWOd3BdkDlszwP7tB2QMMN+Pyw0nZAPL1SliHidkD1EI3uIPF2QLMkQE0t8XZAGHjuPVwCd0DCPjp1ZQJ3QBIUP8ZcBHdADDz3Hi4Od0AiT5KuGRF3QAzNdRppFHdApkQSvQwid0C70FynESJ3QCJseHqlIndAdCSX/xAvd0DVz5uKVEJ3QCyC/63kQndAy6FFtnNFd0CjryDNWFJ3QNLj9zb9YXdATtGRXP5hd0BEhlW8kWJ3QAOV8e8zgndA0PI8uDuCd0DB4nDmV5V3QNmUK7xLondAY3rCEg+td0D9pNqnY8J3QEaU9gZf1HdA+1xtxX7hd0C70FynEeJ3QAxZ3eq5AXhAuqC+ZU4CeED7rgj+N0J4QIBgjh4/QnhAB7Ezhc5CeECfk943vlJ4QIGyKVd4ZHhAg/qWOV1yeEAxmSoYFZN4QOKS407pnXhADmd+NQeieEAnpaDbS8J4QEa28/1UwnhA8BZIUPzheEDrbp7qkOJ4QC9uowE8AnlA7yB2ptACeUDzH9JvXxB5QA2Jeyx9InlAfJv+7EdLeUBdUN8yp1J5QLbz/dR4m3lA16NwPQqeeUCFsYUgh6J5QJp8s82NonlADLCPTt3deUD8471q5eF5QDylg/V/4nlA/reSHZvieUBdUN8yJwJ6QMTr+gW7AnpAT0ATYcMCekAb2CrB4gV6QLkZbsBnInpA3IDPD6MsekCTxmgd1Sx6QM78ag4QM3pAW5TZIBNCekCgMv59RkJ6QO9VKxP+UXpASino9pJSekA/V1uxP4J6QP7UeOkmwnpAUkSGVbzCekAqqRPQxMJ6QLsKKT+p0npACp3X2KXUekDZCMTr+tR6QCGYo8fv4npAokW28/3iekCjC+pb5vR6QDGZKhiVEntAruKNzCMTe0BOtKuQ8iF7QJNS0O2lIntAf7xXrUwke0AGL/oKUkR7QMqmXOFdRHtA/+cwX95he0BK7xtfe2J7QOChKNAngntA+u3rwLmCe0Crtwa2Sp57QGZmZmZmontAHZQw0/aie0BFwCFUqcJ7QNDtJY3R9HtA8u8zLhwFfECr56T3DRV8QBtMw/ARFXxAol2FlB8lfEBL5e0Ip4J8QK9fsBs2g3xAKwDGM+iifEB4RfC/lcJ8QFrwoq+gxnxAokW28/0EfUCkiAyr+BR9QMUbmUf+HH1A/n3GhQMlfUDNAYI5+jx9QAN4CySoQn1AzHoxlJNFfUBVE0Tdh4B9QKbydoTTon1AiboPQGolfkAbKsb5G0N+QJM16iGa5n5AJa/OMaAEf0CjryDNWBZ/QDqSy3/INH9AZOlDF1Rjf0Cgppat9Xl/QIfEPZY+nX9Axu9t+jMrgED4iJgSCWCAQOepDrlZeoBAl1ZD4p6RgEAMAiuHFpKAQDdPdciNmoBAcOFASJaigEAa0xOWOKqAQMCV7NhI2oBAnfS+8bX6gED3Bl+YTBqBQBbB/1ZyIYFAptWQuMeBgUC6vaQx2oGBQGyVYHF4EoJAf8Fu2DYhgkB7oBUYsiOCQGAfnboyKYJAvsEXJpMsgkD4QCswpCyCQBUA4xk0LYJAhBJm2j4tgkBY4gFlky2CQMQv9fPmLYJAZfLNNncugkBuW5TZYC+CQDCBW3dzL4JAwCFUqVlKgkAhWcAE7k2CQG3F/rK7e4JA0vvG196egkBegH106p6CQCh+jLkroIJAe6AVGDKggkAVkWEVb6qCQLhAguIHuoJAJo3ROiq/gkCRJ0nXTMCCQF+1MuEXwoJA5sHdWTvFgkD/eK9aWcWCQHReY5foy4JA/TBCeLTOgkCLRdPZSc+CQE1KQbdXz4JALA5nfjXQgkCQHr+3adCCQPkP6bfv0IJAmGn7V5bRgkDqgvqWudGCQM25FFfV0YJAd6G5TmPSgkA2AvG6ftKCQDOx+bi21IJA0AoMWR3VgkCMLQQ5aNWCQHkQO1Po1YJA/TBCePTVgkBNofMa+9WCQMHFihqM1oJAFsH/VrLWgkA486s5gNeCQOW4UzpY2IJAuXpOep/YgkD8Uj9v6tmCQK9M+KU+2oJAOPOrOYDagkAHfH4YIduCQDOx+bg224JAvHSTGITbgkCllq31xduCQJvJN9tc3IJAPBQF+oTdgkCoHf6arN+CQL1lTpcF4IJAH0sfuqDggkDEd2LWS+GCQF/v/njv4YJAPujZrDrigkCPNo5Yi+KCQKO5TiOt4oJAzQGCOTrjgkBnuAGfX+OCQMXm49rQ5IJA4umVsgzmgkCx+bg2FOaCQFj/5zBf5oJAM8SxLu7ngkDeWbvtAuiCQJM6AU1E6IJAsDic+VXogkBKRs7CnuiCQLUy4Zf66IJA+dozSwLpgkCuZMdGoOmCQFYrE37p6YJArOKNzGPqgkCRD3o2a+qCQCgPC7Um64JA/c9hvnztgkD6J7hY0e2CQHDOiNLe7YJAHHxhMlXxgkDL6bKY2PeCQEpBt5d0+IJA5WGh1jT8gkBg6udNRfyCQDFfXoB9/YJAv0NRoM/9gkDCX5M1KguDQChXeJcLEoNABaOSOoEag0BNqyFxjxqDQIB9dOrKHINA/Bhz19Icg0B9BWnGIh6DQKCcaFdhJINAd0DZlGskg0Btxf6yeyqDQENWt3qOMoNAFBiyupUyg0CLJHoZRTmDQKq3BrZKOYNAITzaOOI5g0ADz72HC0ODQACRfvv6SINAYOrnTQVJg0C6AZ8fRk2DQIo8SbqmUoNA0LNZ9blSg0CASL99HVmDQNttF5orWYNATmIQWPlcg0DBbti2aF2DQM/abRcaXoNA9DehEMFfg0CXOV0W01+DQOxMofPaX4NAmQMEc7Rpg0A486s5wGmDQNaQuMfSaYNAK64q+65tg0DopPeNb26DQMCV7NiIcINA30+Nl65xg0DsTKHzGnKDQMLdWbstcoNAzzEge710g0DPMSB7fXWDQNpVSPnJdoNAgCvZsdF2g0CC9X8Os3iDQAaUTbnCeINA9XFtqNh4g0CIG/D54XiDQGk1JO7xeINA76zdduF7g0AMzXUa6X2DQMbvbfqzgINAlUiil1GEg0CA8Qwa+oSDQFr1udpKhYNAvYxiuWWFg0AGu2HbooWDQH5lpUkphoNAOiNKe4OGg0CyaDo7mYaDQH4KgPEMh4NAEQGHUGWHg0BwTE9YooeDQBsS91g6iINAntLB+j+Jg0BfB84ZkYqDQFwNiXvsioNAHEKVmv2Kg0D7V1aaVIuDQKMBvAVSjINA2A3bFqWMg0CitDf4woyDQHOdRloqjYNAfdCzWbWNg0BGmQ0yyY2DQJAev7fpjYNAGAltOVeOg0C83v3xno6DQMCV7NjIjoNA9EVCWw6Qg0AwZHWrp5CDQJEPejarkYNATaHzGruRg0DIBz2bFZKDQD+fyJMkkoNAdjdPdUiSg0DOGVHaW5KDQPQyiuVWk4NA8Nx7uKSTg0C14EVfAZSDQAx2w7ZFlINAuQ9AalOUg0DZJaq3hpSDQEUgXtevlINAbEPFOP+Ug0ANpmH4CJWDQBzr4jZalYNA43DmV3OVg0BUdCSXf5WDQO53KAq0lYNABJDaxEmWg0CrF0M5UZaDQONw5ldzloNA8s02N6aWg0Cob5nTpZeDQOW4UzoYmINAzzEgez2Yg0AiwyreCJmDQEmil1FsmYNAU1xV9p2Zg0A82jhirZmDQACRfvs6moNA7sSsFwObg0AZTMPwUZuDQMy0/Surm4NA1NSytb6bg0CjzAaZpJyDQCmWW1rNnINANhWpMPadg0D3Tsx6cZ6DQLecS3GVnoNABrth26Kfg0Dso1NX/p+DQJqxaDr7oINA30+Nly6hg0AwKqkTUKGDQEsychb2oYNARSBe16+ig0BfDOVE+6KDQMPYQpADo4NAMCqpE1Ckg0CbWrbWV6WDQBTQRNhwpYNAw552+Oulg0C7OseArKaDQGE3bFtUqINAIAw8956pg0Atz4O786qDQOBnXDhQq4NAkoMSZlqrg0ABy0qTkquDQEZfQZrxq4NApWYPtAKsg0ARx7q4DayDQEgp6PZSrINAd/hrskatg0DF5uPaUK2DQO2LhLZcrYNAvrwA+6itg0C1MuGX+q2DQMx/SL+9roNAMV9egP2vg0CAK9mxUbCDQBQi4BCqtINAm+Ydp6i2g0DYZI16CLeDQDP5Zpsbt4NALbKd76e3g0A486s5QLmDQLJoOjtZuoNAJsed0gG9g0Af9GxW/b2DQDGZKhiVw4NA5EnSNVPHg0Dek4eF2siDQCJUqdkDyYNA7PoFu+HOg0CbLouJDdODQJF++zqw04NAqz5XW7HWg0CwOJz5VdeDQLUaEvdY2YNAeTGUE+3Zg0CmD11QX9qDQPDce7ik2oNAOGdEaa/ag0DqgvqWudqDQMdLN4nB24NAPcJpwUveg0BxVdl3Bd+DQBPVWwMb4INAXaeRlgrhg0CL4H8r2eGDQFwNiXvs4YNA2SWqtwbkg0CSIjKsYueDQN/gC5Op54NAT5Kumfzng0BCJhk5C+iDQHE9Ctdj6INATS1b60vsg0CMoZxoF/CDQB4zUBl/8INArthfdo/wg0BqEyf3u/CDQHTS+8YX9YNADr4wmar2g0DXTL7ZpveDQNAKDFnd+INAPBQF+kT7g0DvrN124fyDQBKgppZt/4NAcVXZd8X/g0Bfv2A3rAKEQG0csRbfA4RABcB4Bg0GhECERxtHLAiEQNywbVFmCYRAE9+JWW8JhEDdN772DAqEQFGzB1pBC4RAG2SSkbMMhEBcaK7TyAyEQPbRqSsfD4RAh5SfVPsWhEB3Z+22CxeEQLpm8s12F4RAtEY9RKMXhEApP6n2qReEQMtneR4cGIRAjC0EOSgYhEAOvjCZqhiEQNMTlnjAGIRAHhuBeB0ZhED3Tsx6MRmEQGcKnddYGYRAxY8xd+0ZhEAoV3iXSxqEQOutga1SGoRAPdUhN0MdhEBGmQ0yiSCEQJqZmZmZIIRA220XmqshhEDPMSB7vSGEQCyf5XmwJoRARUdy+Q8uhEBxPQrXIy6EQOWItfhULoRAcYV3ucgvhEDXTL7ZJjKEQPJBz2ZVMoRAJS2Vt2MyhEBjARO4NTaEQEYIjzZOOIRA4uR+hyI7hECAyvj3WTuEQOnUlc/yO4RAokW28/07hECLRdPZiTyEQA0a+if4PoRAC0YldQI/hEAukKD4cT+EQKT8pNrnQYRA3V7SGK1ChEDZJaq3hkOEQA9FgT7RQ4RAfeiC+tZEhEDMKJZbGkWEQDCBW3fzRYRA8fRKWYZGhEDUYBqGz0eEQEDeq1YmSIRAwRw9fm9IhEDqymd5nkiEQDaTb7b5SIRAIlSp2cNJhEAyychZGE2EQIcpkUSvTYRAn6ut2B9OhEA/xty1hE+EQNjJ4Cj5T4RA24XmOg1QhECBsilXeFCEQNdppKWyUIRAqkiFsUVRhEDedqG5TlGEQPfpeMwAUoRAHVVNELVShECMFTWYxlKEQE6JJHrZUoRAVn2utuJShECxKVd4V1OEQJovL8D+U4RAxu9t+vNUhECDmbZ/JVWEQPNUh9xMVYRAHVpkO19VhEDxG197ZlaEQHJtqBgnWIRAClVq9oBZhEAMdsO2xVmEQIkMq3jjWYRAxebj2hBchECWCb/UT1yEQGXyzTa3XIRA6fF7m/5chED2FaQZC12EQNLj9za9XYRAQ1a3es5dhEBvZB75A16EQM25FFeVXoRA6spneZ5ehECEKjV74F6EQFwNiXtsX4RAL6hvmZNfhEB4f7xXrV+EQEtZhjgWYIRA43DmV3NghED59xkXjmCEQF3+Q/qtYIRAzQGCObpghECVSKKX0WCEQL2MYrnlYIRA7wOQ2gRhhEAc6+I2GmGEQFfsL7snYYRAkwA1tWxhhEAIPZtV32GEQEMvo1juYYRAbjSAt4BihEDKiXYVkmKEQKHzGrvEYoRAWrvtQnNjhEALtaZ5h2OEQGFPO/y1Y4RAjdE6qhpkhEDu68A5I2SEQEYIjzZOZIRASFD8GHNkhEB6/N6mf2SEQDLJyFmYZIRARl9BmrFkhEBIKej2EmWEQGIQWDk0ZYRAaJHtfH9lhEB8Oh4zkGWEQJmo3hqYZYRA4dHGEatlhECVn1T79GWEQN03vvYMZoRAz2vsEhVmhEBxVdl3hWaEQJ+T3je+ZoRA0A8jhAdnhECC/61kR2eEQLl6TnqfZ4RA1QRR98FnhEAufeiCemiEQJ268lmeaIRAHjNQGf9ohECSBUzgVmmEQHOw/s9haYRAGyrG+RtqhED59xkXTmqEQDawVYLFaoRAww34/DBrhEAsn+V5cGuEQDXSUnm7a4RAcT0K1+NrhEBVpMLYAmyEQMiYu5YQbIRAZdF0djJshED3Bl+YjGyEQMOedvirbIRAZapgVNJshEBwlLw6h22EQDJVMCrpbYRAsVBrmjduhEDxdoTTQm6EQDHhl/q5boRA+Um1T8duhEDFjzF37W6EQIGyKVf4boRAFBiyupVvhEB/wW7Y9m+EQDINw0cEcIRAAiuHFllwhEBX7C+7p3CEQH0iT5KucIRAuoPYmcJwhEAQkgVMYHGEQH4AUpt4cYRAy46NQLxxhED++4wLB3KEQI47pYN1coRA3qtWJnxyhEChoX+Cy3KEQOcYkL0ec4RAI10z+WZzhEAFo5I6wXOEQK3npPfNc4RAZFjFG9lzhEBnCp3XGHSEQCveyDxydIRAClVq9oB0hECYTBWMinSEQJFX5xhQdYRA9wZfmIx1hEAR7s7aLXaEQHBMT1hidoRAvqQxWkd3hEBYxRuZx3eEQH15AfbRd4RAJqq3BvZ3hEDvA5DaRHiEQFdgyOpWeIRAEF1Q37J4hEDzRuaRv3iEQCh+jLnreIRApZat9QV5hEA0OEpeHXmEQKz/c5gveYRAeJyiI7l5hEClZg+0wnmEQBr6J7gYeoRAQN6rVmZ6hEDy6hwDcnqEQGxDxTh/eoRAdv2C3XB7hEC4kh0bwXuEQP5IERnWe4RA9RCN7mB8hEAf9GxWfXyEQEsychb2fIRA46qy70p9hECCc0aUNn6EQN03vvaMfoRA3P6VlaZ+hEAhPNo44n6EQHOdRlrqfoRA1CtlGSJ/hEAFWyVYXICEQCB7vftjgIRAiuWWVsOBhEDX+iKh7YGEQNttF5prgoRAa9RDNPqChEAF+kSeJIOEQCpvRzhtg4RA3Xu45HiDhEA9J71v/IWEQGB2Tx4WhoRAk2+2uTGGhEA8FAX6RIaEQNk9eVjohoRAgIKLFfWGhEDEacGL/oaEQAIrhxYZh4RASDMWTSeHhEDmeXB31oeEQBfxnZj1h4RAg1FJnQCIhEB+CoDxDIiEQHNLqyGxiIRAO/w1WSOJhECRD3o2a4mEQCIkC5gAioRA3EYDeAuKhEAjhEcbx4qEQOlg/Z+DjIRA7uvAOWOQhEBV9l0RvJCEQCaN0TpqkYRAVyb8Un+RhEC1MuGXupGEQKK0N/jCkYRA0JuKVNiRhEAw2A3bFpKEQOtWz0mvkoRAtTLhl7qShEBgqwSLQ5WEQEVHcvlPlYRAhqxu9dyVhECKPEm65pWEQN9PjZeul4RAkX77OnCahED3Tsx6MZuEQJAev7epnYRATaHzGrufhEA+BcB4hqOEQBnKiXaVo4RA5bhTOtikhEARDyibMqiEQM8xIHu9qIRApwUv+sqohEDyzTY3JqmEQDwx68VQr4RAxGnBi36vhEApP6n2qbCEQMmwijdysYRAwoanVwqyhED9MEJ4dLKEQIo8Sboms4RAvWVOl0W0hEA6zJcX4LSEQOgTeZI0tYRAC46SVye3hEAVV5V9V7eEQGj7V1aat4RAf5HQlrO4hEBrUgq6vbiEQDblCu9yuYRAPBQF+sS5hEA/HY8ZaLqEQPDce7ikuoRASaKXUay6hED6AKQ2sbyEQF2nkZYKvYRA1LfM6fK+hEBPr5RlCL+EQKt4I/PIv4RAOPOrOcDAhEDC+j+H+cGEQPYVpBkLwoRAHwclzDTEhEAAAAAAQMSEQKhSsweaxYRABRcravDFhECnBS/6SseEQHE9Ctfjx4RAp658lufIhEDdN772TMmEQHNLqyFxyYRARG6GG7DLhEB3+GuyxsuEQOBUpMJYzIRAZjGx+XjMhEDDu1zEN82EQFPL1vqizYRAGCE82vjOhECCmlq2ltSEQMGtu3nq1YRALn3ogvrXhED3deCcEdiEQLqzdtvF2oRAmpmZmZnchEC/fR04p92EQNI1k2/23oRA3Te+9gzfhECHM7+aw9+EQAqd19hl4IRA6Nms+tzghEAT34lZ7+CEQM4ZUdpb4YRACYofY+7khEAbKsb5m+2EQPYVpBlL7oRAR3cQO1PuhEB1djI4yu6EQN7IPPJH74RATUpBt1fvhEBhN2xbFPGEQM3z4O5s8oRAxXJLq2H3hECh+DHm7veEQIo8Sbpm+IRAaMu5FJf4hEAQr+sXrPiEQOS9amVC+YRAdEF9yxz8hEBo+1dWmvyEQNvSakjc/oRAmYHK+Pf/hEBh4Ln38ACFQD+MEB4tAoVASZ2AJkIChUBDVrd6zgKFQKt4I/NIA4VATUpBt1cDhUBO0ZFc/gOFQLg7a7fdBIVAKDYf1wYFhUDeyDzyRwWFQBBYObRIBoVAzt+EQoQGhUCcM6K0dweFQGLI6lbPCYVAho+IKVEMhUBad/NUxwyFQFDCTNv/DIVADTfg84MNhUD/If32NQ6FQLYQ5KCED4VAiuWWVoMQhUBbzqW4ahGFQLqzdtsFE4VAOsyXF2AYhUB5r1qZcBmFQKg65GZ4GYVAkB6/t+kZhUCAgosV9RmFQJk90ArMGoVAOdbFbXQchUDWHCCYoyCFQOIjYkokI4VARMAhVKkjhUBFIF7XbyaFQGRYxRuZKIVAvrwA+6gohUCrF0M50SmFQLx0kxjEKoVAOQt72mEshUB1djI4yiyFQI4G8BZILYVATashcQ8vhUDqymd5Hi+FQD4FwHhGNIVAT+lg/V80hUB90LNZ9TSFQLNBJhk5NYVAXjgQkkU1hUDVCWgirDiFQLzoK0izOIVA7KNTVz46hUCWeEDZVDuFQCmWW1rNO4VA1Bito+o9hUDuxKwXgz+FQKjGSzeJQYVApmH4iBhChUAplltaTUOFQHmvWpnwQ4VAnuqQm6FEhUAVAOMZ9EWFQPxvJTs2RoVAvalIhXFGhUC/fR04p0aFQKUUdHtJR4VAiV5GsVxHhUD+SBEZlkeFQAd8fhihR4VATfOOUzRIhUB4f7xXbUiFQCeIug/ASIVAFOgTeRJJhUAIrBxaJEmFQCV1ApqISYVAwHgGDb1JhUDgufdwyUqFQMCV7NhIS4VAdF5jl6hLhUAeG4F4XUyFQFKbOLmfTIVA8fRKWcZMhUCRfvs68EyFQOSghJm2TYVAjzaOWMtNhUDRXKeRFk6FQIXrUbgeToVAnIpUGJtOhUDfT42XLk+FQNUEUfdBT4VA5WGh1nRPhUAZyol2lU+FQLyWkA+6T4VAK64q+65QhUBa9bnaClGFQO+P96pVUYVAsAPnjGhRhUCUMNP2b1GFQFWH3Aw3UoVAUMJM239ShUDGFoIc1FKFQKT8pNrnUoVAOPOrOUBThUAvaYzWkVOFQGcKndcYVIVAYU87/HVUhUAKndfYpVSFQFg5tMi2VIVAcT0K1yNVhUCgppattVWFQOBKdmzEVYVAVHQkl/9VhUBcDYl7LFaFQIK7s3abVoVAsVBrmvdWhUD11sBWSVeFQIEJ3LqbV4VAfdCzWbVXhUBByk+qvVeFQNsWZTYIWIVA907MenFYhUBk6UMXlFiFQIDK+PfZWIVAu5unOiRZhUAdA7LXe1mFQPvo1JWPWYVAQiYZOctZhUCC4seYO1qFQMAma9RDWoVAwt1Zu21ahUCOdXEbjVqFQOz6BbvhWoVADuVEuwpbhUBvZB75Q1uFQKRTVz5LW4VA2bERiNdbhUBDL6NYLlyFQOYF2EenXIVA1sVtNMBchUDyJOmayVyFQPdOzHpxXYVACyk/qXZdhUDVBFH3wV2FQFR0JJc/XoVAi0XT2UlehUDP2m0Xml+FQNdMvtmmX4VABkfJq/NfhUCreCPzCGCFQOjZrPocYIVA14aKcT5ghUDNuRRXVWCFQJ3+7EeKYIVAaam8HaFghUC/8bVnFmGFQE2h8xq7YYVATokketlhhUDXTL7ZJmKFQBEPKJsyYoVAwgRu3U1ihUCIS447ZWKFQPA9XHLcYoVAYAK37uZihUCrPldbMWOFQPIau0Q1ZIVATS1b60tkhUBdFhObz2SFQAaUTbkCZYVAfPKwUGtlhUBwlLw6x2WFQFC0q5AyZoVA907MenFmhUBPr5RliGaFQJI/GHiuZoVA8Rtfe+ZmhUBl3xXBP2eFQCTusfShZ4VAqz5XW/FnhUCxKVd4V2iFQBGq1OzBaIVAUMdjBmpphUCeJF0zeWmFQIIclDDTaYVAVtRgGoZqhUBOiSR6mWqFQAcI5ugxa4VAzkBl/DtrhUBLzR5oRWuFQPonuFhRa4VAdCSX/1BshUAqb0c4rWyFQPNZnge3bIVA6+I2GsBshUDbFmU2yGyFQEs8oGzKbYVAvYxiuSVuhUDOwp52OG6FQJ268lleb4VAehnFcktwhUB798d7VXCFQMFu2LaocIVAZfLNNndxhUDp8XubfnKFQL/Uz5uKcoVAFjWYhuFyhUAyPWGJR3OFQG587Zmlc4VAxM4UOu90hUAlLZW3Y3WFQFXovMZudYVAOPOrOYB1hUADfSJP0nWFQL+aAwQzdoVAMLsnD0t2hUD0piIVhnaFQEd3EDuTdoVAWK1M+KV2hUB1ApoI23aFQCXMtP3rdoVA6gQ0ETZ3hUBuNIC3QHeFQHrHKTpSd4VA5gXYR6d3hUCx+bg21HeFQBniWBf3d4VAHEKVmr14hUBMXp1jAHyFQJsNMskIfIVAgbxXrUx8hUBhGoaPCH2FQC7/If12fYVAMXxETIl9hUB63/jas4CFQL5Nf/ZjgYVAjBAebdyBhUAjXTP55oGFQCoAxjMogoVA+zpwzoiChUCEEmbaPoOFQHdn7bZLg4VAPNo4Yq2DhUCVn1T7tISFQGxRZoMMhYVAjKGcaBeFhUD6pX7eVIiFQOezPA9uioVAcYV3uUiLhUAl6ZrJN4yFQCIkC5jAjIVAGTkLexqNhUALtaZ5B46FQIczv5oDkYVAU4NpGH6RhUCrWz0nPZOFQPUtc7qsk4VANbVsre+ThUDt0/GYAZSFQExxVdn3lIVAQ1a3ek6VhUAdWmQ7X5WFQGcKndfYloVAdXYyOIqahUDDnnb465qFQH/ZPXlYm4VAG1pkO9+ehUBtc2N6Qp+FQGdhTzv8n4VAjBU1mAaghUDH155ZEqCFQIDxDBp6oYVAITzaOOKhhUBangd356OFQMWPMXctpYVAQiYZOculhUCCu7N226WFQCv2l93TpoVANdJSefumhUAjhEcbR6eFQNgN2xalp4VA5X6HogCohUAZyol2FamFQH4AUps4qoVACGSvd3+qhUA1cXK/w6qFQHuIRnfQqoVARUdy+c+thUBPkq6ZPLKFQKgd/ppstIVAOkpenSO1hUDXTL7ZJraFQFjFG5lHt4VA4iNiSmS4hUAcQpWa/bmFQPT91HgpuoVAXRYTm4+6hUAjXTP55rqFQA+XHHcKu4VAeJyiIzm7hUB9PzVeeruFQJtattbXu4VAk2+2ufG+hUDZPXlYqL+FQHam0HkNwIVAoJxoV6HAhUD7P4f5MsGFQEOasWh6wYVAJ07udyjChUCYUSy3NMKFQBqZR/7gwoVAFsH/VnLDhUCrPldbscSFQBbe5SK+xIVAfqmfN9XEhUD04O6s3cSFQN4f71XrxIVAsDic+VXFhUBDVrd6jsWFQMWPMXctxoVAApoIG57HhUBx5ldzwMmFQHY3T3UIy4VAumsJ+eDNhUD7ljldltCFQEj5SbVP1IVAFeP8TejahUCxKVd4V9uFQD8djxlo3YVA/G8lO7bdhUAxmSoYld6FQII5evye3oVAahMn97vfhUC9xi5RveCFQBHHurjN4IVAM4rlltbghUCNXaJ6K+GFQIm1+BRA4YVAD5ccd4rhhUC7m6c6JOOFQFqeB3dn44VAlxx3SsflhUAOvjCZ6umFQGXRdHYy6oVA+1dWmlTrhUAx4Zf6ee2FQJtyhXc57oVAuDtrt53vhUDLEMe6uPCFQAnE6/rF8YVA7sSsFwPzhUCjzAaZZPSFQLEpV3jX9YVANTemJ+z1hUBsQ8U4f/aFQDCBW3dz94VA5bhTOhj6hUB0tRX7i/uFQIZVvJF5AIZAqFKzB9oAhkDOUx1yMwGGQJnwS/08AYZAwJXs2EgBhkDQ1VbsrwGGQHnWbrvQAYZARG6GG3AChkCk/KTaJwWGQL5Nf/YjDYZAAlKbOLkNhkAKEXAIFQ6GQPbuj/cqDoZArXyW5wEPhkCQHr+3KRGGQH4dOGeEEYZAznADPv8ShkCLRdPZCROGQM3MzMyMF4ZA6+I2GoAZhkCXkA96NhqGQOq8xi5RHIZAI2dhT7sfhkDedqG5DiCGQJkqGJWUIIZAZRniWFchhkAx4Zf6uSGGQC63tBoSIoZAkB6/tykihkBAy/Pg7iKGQAIrhxYZJoZANLqD2NkmhkBjC0EOiimGQPK1Z5ZEKoZAONvcmJ4uhkCPqiaI+i6GQCk/qfYpL4ZA+gCkNnEwhkAJ/reS3TCGQMi/z7jwMIZAyxDHujg1hkActi3KLDaGQDSitDc4OIZABwjm6DE5hkAiJAuYgDmGQCuHFtmOOYZAtDwP7s45hkAt2bERCDqGQAisHFqkOoZAPWGJBxQ7hkCLRdPZCT2GQIEhq1u9PYZArthfds89hkCzDHGsi0KGQNKMRdMZRIZAq/bpeIxEhkAVAOMZtEWGQBr6J7jYRYZAUbMHWkFGhkBxhXe5iEaGQHWOAdmrSIZA0oIXfUVJhkDbheY6jUmGQDS6g9jZSYZAwcWKGkxKhkCp3hrYqkqGQEiKyLDKSoZAsmg6O9lKhkBlcJS8+kqGQKfBNAwfS4ZAkSdJ10xLhkBSmzi5H0yGQFlMbD7uTIZAQj7o2axNhkBgsBu2LU6GQE1KQbcXUYZA4uR+hyJRhkDO8jy4e1GGQOGX+nkTUoZALJ/lebBShkBqJt9ss1OGQGdhTzu8U4ZAeqpDbsZThkC2+BQA41OGQE1d+SwPVIZAzojS3qBUhkDXNO84hVWGQC9pjNYRVoZA5nRZTKxWhkCasWg6O1eGQHE9CtejV4ZAUbMHWgFYhkDizK/mwFiGQPDce7jkWYZAMsnIWRhahkC8dJMYRFqGQPzQBfWtWoZAz4O7s/ZahkCUvDrHAFuGQPT91HhpW4ZA6oL6lrlbhkAvqG+Z01uGQIXrUbjeW4ZAQj7o2SxdhkDfpj/7EV6GQOjZrPocXoZAeH+8V21ehkCqDrkZ7l6GQHrHKToSX4ZAyL/PuHBghkAQr+sXLGGGQF3+Q/ptYYZATmIQWHlhhkC2EOSghGGGQHi0ccTaYYZA67si+N9hhkCrF0M5kWKGQEloy7lUY4ZAB+v/HGZjhkAR7s7abWOGQAKCOXq8Y4ZAe4hGd9BjhkA2qz5XG2SGQPhAKzAkZIZAurN224VkhkAFwHgGjWSGQM+9h0tOZYZA8gwa+mdlhkDG7236s2WGQGXRdHYyZoZANpNvtnlmhkAr9pfd02aGQKg1zTuOZ4ZAiVQYWwhohkBa9bnaSmiGQBbB/1ZyaIZALEgzFs1ohkB8J2a9GGmGQD7t8NckaYZAKZZbWk1phkA75Ga4gWmGQJhRLLf0aYZAvqQxWkdqhkATuHU3j2uGQNwuNNepa4ZAvmplwi9shkAbEvdYOmyGQBPfiVnvbIZAnYU97fBshkCbWrbWV22GQJdzKa5qbYZAHVpkOx9uhkAZVvFGpm+GQIQSZtr+b4ZA1CtlGSJwhkALtaZ5h3GGQHWAYI7ecYZAwW7YtuhxhkBWSPlJ9XGGQBakGYsmcoZAY7SOqiZ0hkB/kdCWM3SGQMKGp1fKdIZAzTtO0RF2hkDqeMxAJXaGQOV+h6JAd4ZAM1AZ//53hkBQet/4mniGQBKgppateYZAMBLacu55hkDkoISZ9nmGQP5g4Lk3eoZAzO7Jw0J6hkC1iZP7nXqGQC3ZsREIe4ZAq3gj80h7hkAcaam8XXuGQBbB/1Zye4ZAy9sRTst7hkDBxYoazHuGQB4zUBn/fIZAbS9pjFZ9hkANuRluAIWGQCznUlxVhYZAcYV3uUiHhkC2SrA4nIeGQAd8fhhhiIZAezvCacGIhkBdFhObz4iGQB3J5T8kiYZARSBe1++JhkDTE5Z4AIuGQMW2RZkNi4ZAhnKiXcWLhkD6AKQ28Y+GQNLj9zb9j4ZA8Rtfe2aQhkDFaB1VzZCGQBzr4jbakIZADbkZboCRhkBWKxN+aZOGQKSXUSw3lIZAnIpUGBuWhkCKjuTyn56GQHer56R3oYZAWK1M+OWihkCoNc07zqOGQHuDL0ympYZAjC0EOSinhkBkr3d/PKeGQKjtX1lpqIZAWK1M+CWphkAxwD469amGQILix5g7q4ZAu0T11kCshkBFR3L5T62GQDarPlcbroZARwN4C6SvhkDDKt7I/K+GQBZ9BWkGsIZAGnjuPRywhkBl8s02t7CGQGZOl8XEsIZAnbryWR6xhkCUMNP2L7GGQBL3WPqQsYZAApoIG96zhkAbKsb5W7WGQBEPKJtytoZAYwETuDW4hkBTXFX2HbmGQAaUTbmCuYZA0jqqmuC5hkCTjJyF/buGQIczv5qDvoZAHHxhMpW+hkAcfGEylb+GQFX7dDymv4ZA67si+F/AhkCLRdPZycCGQNxGA3iLwYZAuFhRg+nBhkDVBFH3wcKGQE6JJHqZxIZAQN6rVmbHhkBaKm9HuMeGQOnxe5s+yoZAhQg4hGrLhkDxPLg769KGQGxDxTj/0oZARSBe12/ThkAdA7LXO9SGQM07TtGR3IZA13xcG6rchkD6sx8p4tyGQKjtX1kp3YZAXwfOGRHlhkAnZr0YiuaGQEE1XrpJ54ZA8YCyKZf0hkAZc9cS8vaGQF44EJJF94ZA9hWkGQv4hkCcilQYm/qGQMzuycNC/IZAscQDyqb8hkDU8ZiBSv2GQMHFihoM/oZAQQ5KmKn/hkAxQni0MQCHQJWfVPt0A4dAa1IKun0Dh0ALtaZ5BwiHQBTQRNiwC4dAI6Et51INh0B0RpT2Rg6HQLl6TnpfEIdApOTVOcYQh0BrUgq6/RGHQOF/K9kxE4dASREZVrEVh0Dir8kadRaHQFfZd0WwF4dAtDwP7o4Yh0BuW5TZoBiHQHGsi9toGodAflcE/1sbh0BD5zV2yRuHQMsQx7p4HYdAgT6RJwkjh0Cfk943PiSHQAzNdRppJYdAZfLNNjcmh0AnZr0YiieHQAKCOXp8KYdAi/1l9yQrh0AJG55eaS2HQCdmvRjKLYdAKH6Mues0h0CdRloqL0GHQA+XHHfKRYdA5nlwd5ZJh0BubkxPGEqHQD8djxkoSodAho+IKdFNh0A8lj50AU6HQH3ogvoWT4dAK64q+y5Rh0CasWg6O1SHQEhQ/BizVIdA4lgXt9FVh0Be1y/YjVaHQB4bgXidVodABYvDmZ9Zh0BrK/aX3VmHQBTQRNiwXIdAeJeL+E5dh0AiJAuYQF6HQO7ErBcDX4dAITzaOCJgh0DnqQ652WCHQOZ5cHdWYodAedZuu9Bih0BkkpGzsGOHQDXSUnn7Y4dAYPiImNJkh0Bk6UMXlGWHQNL7xtdeZodA1VsDW6Vph0BQU8vW+mmHQJWfVPs0aodAy+mymFhqh0AeM1AZv2qHQPW52op9a4dAs0EmGTlsh0AvqG+ZU2yHQJVliGOdbIdAAoI5evxsh0BuNIC3AHCHQH3ogvpWcIdAZd8VwX9wh0DhfyvZMXGHQJZ4QNmUcYdAWMUbmQdyh0C/SGjLOXKHQA4V4/xNcodAppvEILByh0B3vp8aL3OHQM/abRdadIdAG7tE9dZ0h0ACUps4eXWHQIwVNZiGdYdAjBU1mAZ2h0APlxx3ynaHQF6FlJ/UdodAbmk1JO52h0BqEyf3e3eHQE1KQbeXd4dALSY2Hxd4h0D+SBEZ1niHQG0csRbfeIdAaHke3B15h0BF/wQXK3mHQOVhodY0eYdAhgMhWQB6h0DC3Vm7bXqHQLxcxHcie4dAN8MN+Dx7h0Dc9Gc/knuHQHjuPVzye4dAJ07udyh8h0AWMIFbt3yHQNMTlnjAfIdAmYHK+Dd9h0B/2T15mH2HQH9qvHTTfYdAM7H5uPZ9h0ALRiV1An6HQMXm49oQfodAeH+8V21+h0BHrMWngH6HQFFrmnecf4dAFK5H4fp/h0Age737Y4CHQHugFRjygYdANqs+V9uCh0Ay5q4lJIOHQNY5BmQvg4dAFsH/VvKDh0Dz5QXYx4SHQEVHcvnPhIdAjswjfzCFh0AWMIFbN4eHQBzr4jZah4dAduCcEWWHh0AyychZWIiHQNhkjXrIiIdA8s02NyaJh0BvqBjnL4mHQEgp6PaSiYdADr4wmeqJh0BrK/aXnYuHQI2XbhIDjodA0jqqmqCPh0DjcOZX84+HQAfTMHzEkodAcVXZdwWUh0A91SE3w5SHQHhF8L+VlYdACp3X2CWXh0AukKD4MZeHQGTpQxcUnIdAMEymCsach0DVWwNbJZ2HQGyLMhuknYdAY3/ZPfmdh0DAlezYCJ6HQBk5C3taoIdAUI2XbpKhh0CX2Hxcm6GHQMfXnlmSpYdAF2U2yKSnh0AqJ9pVyKiHQIQSZto+qYdA6WD9nwOqh0BP1qiHaKqHQLecS3HVqodAEBDM0eOqh0A2zTtOUauHQLx5qkMurYdAAaQ2cbKuh0BEboYbMK+HQJqxaDr7sYdAhzO/mgO0h0B/2T152LSHQJSHhVqTtYdA8Nx7uGS2h0CjzAaZZLeHQJMdG4E4uYdA5sHdWTu8h0A6zJcXYL+HQMLdWbvtwYdAwVYJFkfDh0Aqb0c4bc6HQDP5Zpub0YdAzbkUV5XTh0BYqDXN+9OHQP5D+u0r24dAcTjzq/nbh0BKmGn71+CHQD3VITdD44dAzU4GR8nkh0DONjemp+WHQMbvbfrz6YdAoJxoV2Hsh0BZox6i0eyHQMmwijcy7YdAIZ268pnth0DXfFwbKu+HQI4B2eud+odAkNrEyT37h0D6pX7elPuHQAltOZei+4dA3IDPD6P/h0D5D+m37wyIQCbkg55ND4hAr0z4pT4TiECTb7a5cRmIQHXIzXADHIhAFVJ+Um0ciEBLWYY41hyIQNXsgVagHYhAO0m6ZnIeiEDxG197ZiOIQLOiBtNwI4hAbEPFOL8niEB96IL61ieIQLD+z2E+LYhAsXJoke0uiEBEboYbcDiIQA+XHHdKSohABVslWFxKiEBgH526clqIQERuhhuwlYhAvHSTGMSViEC8XMR34piIQPYVpBlLmYhAXvQVpJmZiEC5ek5635qIQGMBE7h1nIhA5xiQvd6ciEDqymd5np2IQGdhTzv8nYhAVxNE3QeeiEBcDYl7bJ+IQIQSZtp+n4hASWjLuRSgiEC2ccRafKKIQNaQuMfSoohAAoI5ejyjiEDp8XubPqWIQGgibHh6pohA4Zf6eROqiECVYHE4s62IQG0csRYfr4hAgQncupu0iECRfvs6cLeIQJmByvg3uYhAOPOrOYC6iEA0orQ3+LqIQP2H9NtXu4hAlnhA2ZS/iEBIKej20sCIQD81XrqJwohAJS2Vt2PDiEATuHU3z8OIQKs+V1sxxIhABHP0+D3EiECE04IXfcWIQPPlBdhHxohAMZkqGFXGiEBnCp3XGMeIQKkmiLqPx4hAU8vW+mLKiECzQSYZecqIQBPfiVkvzIhAnKIjuTzMiEBTy9b6osyIQKlqgqh7zYhAbEPFOD/OiEADz72HS86IQBbB/1by0ohAmFEstzTUiEDFtkWZDdWIQPYVpBmL14hAQN6rVmbYiECYaftXltmIQKcFL/qK2ohAJt9sc2PbiEBhGoaPyNuIQNuF5jpN3ohArvAuF/HqiEDu68A5Y/OIQGYxsfl4+ohAk2+2ubERiUA429yYHhKJQK7YX3bPE4lAE7h1Nw8ViUALjpJXpymJQIOj5NV5YIlAAcEcPT58iUDAlezYSHyJQPOOU3RknIlA4UBIFnCeiUDO8jy4e6eJQJzc71CUyolAYygn2hXSiUB5r1qZMOKJQIDxDBr6+4lA8gwa+icJikDuxKwXgw+KQAiFCDhEEYpAQTVeukkZikCyaDo72RmKQFu21hcJG4pAJo3ROmogikDqymd53iCKQEQX1LfMIYpAPu3w12QkikDeH+9VayiKQKK0N/iCKIpAEoPAyuEoikACvAUSVCmKQJ+wxAPKKYpAYsjqVk8qikBnfjUHyC2KQA0a+ic4LopAFVeVfRcvikAGlE25wjGKQHdn7bYLM4pAuDtrtx0zikAgDDz3njOKQNgN2xZlNIpAumsJ+SA2ikBZngd35ziKQPcGX5jMOYpAkL3e/TE6ikDri4S2nDuKQPH0SllGPYpAONvcmF49ikCf5Xlwd0SKQGHD0yvlRIpAxY8xd+1HikC/fR04p0qKQJY+dEH9UYpABP9byU5WikDUK2UZIlqKQL99HTjnlIpAy+mymBiXikCrtwa2yquKQDehEAGHuopAmMCtu/nVikBtfZHQllqLQALU1LK1aotA/mDguTd9i0AK9Ik8SX6LQGsr9pfdlYtAvrwA++ioi0DH155ZUqqLQClmvRgKrotAJ8KGp5ezi0Dr4jYaALmLQNd8XBtquYtAdEaU9sa6i0C/lezYSLuLQE+Srpk8vYtAyHvVysTDi0BhN2xbFMWLQCqf5XkwxYtAJV0z+abFi0Bt/8pKk8aLQNJvXwcOx4tAAJF++/rHi0AXwf9WcsiLQMm+K4K/y4tAUVPL1nrQi0B4l4v4zuGLQBdlNsgkJoxA+vIC7GMujEB9kdCWs1yMQEEOSpipXYxAEK/rF+xjjEDRyyiWG6aMQMzR4/f2I41AUYNpGP4zjUAvwD46tUGNQIQSZto+Ro1AsCDNWHRHjUBBn8iTZEyNQIQSZtp+bY1AaNDQP4GIjUDQ8jy4e4mNQGUZ4liXB49AIF7XL5gHj0AIZK93v3qRQL2MYrkFMpJADvj8MAKzkkDjiLX4dPiSQLZKsDi8HZNAj6UPXXBok0A/HY8ZCNmTQIYgByVMDJRArP9zmM8glEBpqbwdwYCUQKdc4V2ujJRAza/mAAEllUC+pDFaB7yVQOz6BbtBzpVAPUm6ZvLklUAVAOMZ9FqWQEZ8J2Y9dZZA6ZrJN/uqlkA7x4DsNbWWQPtcbcWe4pZA+kSeJF3plkA4oRABR+2WQG2QSUZO+ZZApSxDHGshl0CFxD2WXtGXQCyf5XnQ1pdANZiG4cP+l0BfKcsQ5xWZQKW9wRempptAt39lpSmbnkA=\",\"dtype\":\"float64\",\"shape\":[2533]},\"dim_1\":{\"__ndarray__\":\"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\",\"dtype\":\"float32\",\"shape\":[2533]},\"dim_2\":{\"__ndarray__\":\"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\",\"dtype\":\"float32\",\"shape\":[2533]},\"index\":[0,1,2,3,4,5,6,7,8,9,10,11,12,13,14,15,16,17,18,19,20,21,22,23,24,25,26,27,28,29,30,31,32,33,34,35,36,37,38,39,40,41,42,43,44,45,46,47,48,49,50,51,52,53,54,55,56,57,58,59,60,61,62,63,64,65,66,67,68,69,70,71,72,73,74,75,76,77,78,79,80,81,82,83,84,85,86,87,88,89,90,91,92,93,94,95,96,97,98,99,100,101,102,103,104,105,106,107,108,109,110,111,112,113,114,115,116,117,118,119,120,121,122,123,124,125,126,127,128,129,130,131,132,133,134,135,136,137,138,139,140,141,142,143,144,145,146,147,148,149,150,151,152,153,154,155,156,157,158,159,160,161,162,163,164,165,166,167,168,169,170,171,172,173,174,175,176,177,178,179,180,181,182,183,184,185,186,187,188,189,190,191,192,193,194,195,196,197,198,199,200,201,202,203,204,205,206,207,208,209,210,211,212,213,214,215,216,217,218,219,220,221,222,223,224,225,226,227,228,229,230,231,232,233,234,235,236,237,238,239,240,241,242,243,244,245,246,247,248,249,250,251,252,253,254,255,256,257,258,259,260,261,262,263,264,265,266,267,268,269,270,271,272,273,274,275,276,277,278,279,280,281,282,283,284,285,286,287,288,289,290,291,292,293,294,295,296,297,298,299,300,301,302,303,304,305,306,307,308,309,310,311,312,313,314,315,316,317,318,319,320,321,322,323,324,325,326,327,328,329,330,331,332,333,334,335,336,337,338,339,340,341,342,343,344,345,346,347,348,349,350,351,352,353,354,355,356,357,358,359,360,361,362,363,364,365,366,367,368,369,370,371,372,373,374,375,376,377,378,379,380,381,382,383,384,385,386,387,388,389,390,391,392,393,394,395,396,397,398,399,400,401,402,403,404,405,406,407,408,409,410,411,412,413,414,415,416,417,418,419,420,421,422,423,424,425,426,427,428,429,430,431,432,433,434,435,436,437,438,439,440,441,442,443,444,445,446,447,448,449,450,451,452,453,454,455,456,457,458,459,460,461,462,463,464,465,466,467,468,469,470,471,472,473,474,475,476,477,478,479,480,481,482,483,484,485,486,487,488,489,490,491,492,493,494,495,496,497,498,499,500,501,502,503,504,505,506,507,508,509,510,511,512,513,514,515,516,517,518,519,520,521,522,523,524,525,526,527,528,529,530,531,532,533,534,535,536,537,538,539,540,541,542,543,544,545,546,547,548,549,550,551,552,553,554,555,556,557,558,559,560,561,562,563,564,565,566,567,568,569,570,571,572,573,574,575,576,577,578,579,580,581,582,583,584,585,586,587,588,589,590,591,592,593,594,595,596,597,598,599,600,601,602,603,604,605,606,607,608,609,610,611,612,613,614,615,616,617,618,619,620,621,622,623,624,625,626,627,628,629,630,631,632,633,634,635,636,637,638,639,640,641,642,643,644,645,646,647,648,649,650,651,652,653,654,655,656,657,658,659,660,661,662,663,664,665,666,667,668,669,670,671,672,673,674,675,676,677,678,679,680,681,682,683,684,685,686,687,688,689,690,691,692,693,694,695,696,697,698,699,700,701,702,703,704,705,706,707,708,709,710,711,712,713,714,715,716,717,718,719,720,721,722,723,724,725,726,727,728,729,730,731,732,733,734,735,736,737,738,739,740,741,742,743,744,745,746,747,748,749,750,751,752,753,754,755,756,757,758,759,760,761,762,763,764,765,766,767,768,769,770,771,772,773,774,775,776,777,778,779,780,781,782,783,784,785,786,787,788,789,790,791,792,793,794,795,796,797,798,799,800,801,802,803,804,805,806,807,808,809,810,811,812,813,814,815,816,817,818,819,820,821,822,823,824,825,826,827,828,829,830,831,832,833,834,835,836,837,838,839,840,841,842,843,844,845,846,847,848,849,850,851,852,853,854,855,856,857,858,859,860,861,862,863,864,865,866,867,868,869,870,871,872,873,874,875,876,877,878,879,880,881,882,883,884,885,886,887,888,889,890,891,892,893,894,895,896,897,898,899,900,901,902,903,904,905,906,907,908,909,910,911,912,913,914,915,916,917,918,919,920,921,922,923,924,925,926,927,928,929,930,931,932,933,934,935,936,937,938,939,940,941,942,943,944,945,946,947,948,949,950,951,952,953,954,955,956,957,958,959,960,961,962,963,964,965,966,967,968,969,970,971,972,973,974,975,976,977,978,979,980,981,982,983,984,985,986,987,988,989,990,991,992,993,994,995,996,997,998,999,1000,1001,1002,1003,1004,1005,1006,1007,1008,1009,1010,1011,1012,1013,1014,1015,1016,1017,1018,1019,1020,1021,1022,1023,1024,1025,1026,1027,1028,1029,1030,1031,1032,1033,1034,1035,1036,1037,1038,1039,1040,1041,1042,1043,1044,1045,1046,1047,1048,1049,1050,1051,1052,1053,1054,1055,1056,1057,1058,1059,1060,1061,1062,1063,1064,1065,1066,1067,1068,1069,1070,1071,1072,1073,1074,1075,1076,1077,1078,1079,1080,1081,1082,1083,1084,1085,1086,1087,1088,1089,1090,1091,1092,1093,1094,1095,1096,1097,1098,1099,1100,1101,1102,1103,1104,1105,1106,1107,1108,1109,1110,1111,1112,1113,1114,1115,1116,1117,1118,1119,1120,1121,1122,1123,1124,1125,1126,1127,1128,1129,1130,1131,1132,1133,1134,1135,1136,1137,1138,1139,1140,1141,1142,1143,1144,1145,1146,1147,1148,1149,1150,1151,1152,1153,1154,1155,1156,1157,1158,1159,1160,1161,1162,1163,1164,1165,1166,1167,1168,1169,1170,1171,1172,1173,1174,1175,1176,1177,1178,1179,1180,1181,1182,1183,1184,1185,1186,1187,1188,1189,1190,1191,1192,1193,1194,1195,1196,1197,1198,1199,1200,1201,1202,1203,1204,1205,1206,1207,1208,1209,1210,1211,1212,1213,1214,1215,1216,1217,1218,1219,1220,1221,1222,1223,1224,1225,1226,1227,1228,1229,1230,1231,1232,1233,1234,1235,1236,1237,1238,1239,1240,1241,1242,1243,1244,1245,1246,1247,1248,1249,1250,1251,1252,1253,1254,1255,1256,1257,1258,1259,1260,1261,1262,1263,1264,1265,1266,1267,1268,1269,1270,1271,1272,1273,1274,1275,1276,1277,1278,1279,1280,1281,1282,1283,1284,1285,1286,1287,1288,1289,1290,1291,1292,1293,1294,1295,1296,1297,1298,1299,1300,1301,1302,1303,1304,1305,1306,1307,1308,1309,1310,1311,1312,1313,1314,1315,1316,1317,1318,1319,1320,1321,1322,1323,1324,1325,1326,1327,1328,1329,1330,1331,1332,1333,1334,1335,1336,1337,1338,1339,1340,1341,1342,1343,1344,1345,1346,1347,1348,1349,1350,1351,1352,1353,1354,1355,1356,1357,1358,1359,1360,1361,1362,1363,1364,1365,1366,1367,1368,1369,1370,1371,1372,1373,1374,1375,1376,1377,1378,1379,1380,1381,1382,1383,1384,1385,1386,1387,1388,1389,1390,1391,1392,1393,1394,1395,1396,1397,1398,1399,1400,1401,1402,1403,1404,1405,1406,1407,1408,1409,1410,1411,1412,1413,1414,1415,1416,1417,1418,1419,1420,1421,1422,1423,1424,1425,1426,1427,1428,1429,1430,1431,1432,1433,1434,1435,1436,1437,1438,1439,1440,1441,1442,1443,1444,1445,1446,1447,1448,1449,1450,1451,1452,1453,1454,1455,1456,1457,1458,1459,1460,1461,1462,1463,1464,1465,1466,1467,1468,1469,1470,1471,1472,1473,1474,1475,1476,1477,1478,1479,1480,1481,1482,1483,1484,1485,1486,1487,1488,1489,1490,1491,1492,1493,1494,1495,1496,1497,1498,1499,1500,1501,1502,1503,1504,1505,1506,1507,1508,1509,1510,1511,1512,1513,1514,1515,1516,1517,1518,1519,1520,1521,1522,1523,1524,1525,1526,1527,1528,1529,1530,1531,1532,1533,1534,1535,1536,1537,1538,1539,1540,1541,1542,1543,1544,1545,1546,1547,1548,1549,1550,1551,1552,1553,1554,1555,1556,1557,1558,1559,1560,1561,1562,1563,1564,1565,1566,1567,1568,1569,1570,1571,1572,1573,1574,1575,1576,1577,1578,1579,1580,1581,1582,1583,1584,1585,1586,1587,1588,1589,1590,1591,1592,1593,1594,1595,1596,1597,1598,1599,1600,1601,1602,1603,1604,1605,1606,1607,1608,1609,1610,1611,1612,1613,1614,1615,1616,1617,1618,1619,1620,1621,1622,1623,1624,1625,1626,1627,1628,1629,1630,1631,1632,1633,1634,1635,1636,1637,1638,1639,1640,1641,1642,1643,1644,1645,1646,1647,1648,1649,1650,1651,1652,1653,1654,1655,1656,1657,1658,1659,1660,1661,1662,1663,1664,1665,1666,1667,1668,1669,1670,1671,1672,1673,1674,1675,1676,1677,1678,1679,1680,1681,1682,1683,1684,1685,1686,1687,1688,1689,1690,1691,1692,1693,1694,1695,1696,1697,1698,1699,1700,1701,1702,1703,1704,1705,1706,1707,1708,1709,1710,1711,1712,1713,1714,1715,1716,1717,1718,1719,1720,1721,1722,1723,1724,1725,1726,1727,1728,1729,1730,1731,1732,1733,1734,1735,1736,1737,1738,1739,1740,1741,1742,1743,1744,1745,1746,1747,1748,1749,1750,1751,1752,1753,1754,1755,1756,1757,1758,1759,1760,1761,1762,1763,1764,1765,1766,1767,1768,1769,1770,1771,1772,1773,1774,1775,1776,1777,1778,1779,1780,1781,1782,1783,1784,1785,1786,1787,1788,1789,1790,1791,1792,1793,1794,1795,1796,1797,1798,1799,1800,1801,1802,1803,1804,1805,1806,1807,1808,1809,1810,1811,1812,1813,1814,1815,1816,1817,1818,1819,1820,1821,1822,1823,1824,1825,1826,1827,1828,1829,1830,1831,1832,1833,1834,1835,1836,1837,1838,1839,1840,1841,1842,1843,1844,1845,1846,1847,1848,1849,1850,1851,1852,1853,1854,1855,1856,1857,1858,1859,1860,1861,1862,1863,1864,1865,1866,1867,1868,1869,1870,1871,1872,1873,1874,1875,1876,1877,1878,1879,1880,1881,1882,1883,1884,1885,1886,1887,1888,1889,1890,1891,1892,1893,1894,1895,1896,1897,1898,1899,1900,1901,1902,1903,1904,1905,1906,1907,1908,1909,1910,1911,1912,1913,1914,1915,1916,1917,1918,1919,1920,1921,1922,1923,1924,1925,1926,1927,1928,1929,1930,1931,1932,1933,1934,1935,1936,1937,1938,1939,1940,1941,1942,1943,1944,1945,1946,1947,1948,1949,1950,1951,1952,1953,1954,1955,1956,1957,1958,1959,1960,1961,1962,1963,1964,1965,1966,1967,1968,1969,1970,1971,1972,1973,1974,1975,1976,1977,1978,1979,1980,1981,1982,1983,1984,1985,1986,1987,1988,1989,1990,1991,1992,1993,1994,1995,1996,1997,1998,1999,2000,2001,2002,2003,2004,2005,2006,2007,2008,2009,2010,2011,2012,2013,2014,2015,2016,2017,2018,2019,2020,2021,2022,2023,2024,2025,2026,2027,2028,2029,2030,2031,2032,2033,2034,2035,2036,2037,2038,2039,2040,2041,2042,2043,2044,2045,2046,2047,2048,2049,2050,2051,2052,2053,2054,2055,2056,2057,2058,2059,2060,2061,2062,2063,2064,2065,2066,2067,2068,2069,2070,2071,2072,2073,2074,2075,2076,2077,2078,2079,2080,2081,2082,2083,2084,2085,2086,2087,2088,2089,2090,2091,2092,2093,2094,2095,2096,2097,2098,2099,2100,2101,2102,2103,2104,2105,2106,2107,2108,2109,2110,2111,2112,2113,2114,2115,2116,2117,2118,2119,2120,2121,2122,2123,2124,2125,2126,2127,2128,2129,2130,2131,2132,2133,2134,2135,2136,2137,2138,2139,2140,2141,2142,2143,2144,2145,2146,2147,2148,2149,2150,2151,2152,2153,2154,2155,2156,2157,2158,2159,2160,2161,2162,2163,2164,2165,2166,2167,2168,2169,2170,2171,2172,2173,2174,2175,2176,2177,2178,2179,2180,2181,2182,2183,2184,2185,2186,2187,2188,2189,2190,2191,2192,2193,2194,2195,2196,2197,2198,2199,2200,2201,2202,2203,2204,2205,2206,2207,2208,2209,2210,2211,2212,2213,2214,2215,2216,2217,2218,2219,2220,2221,2222,2223,2224,2225,2226,2227,2228,2229,2230,2231,2232,2233,2234,2235,2236,2237,2238,2239,2240,2241,2242,2243,2244,2245,2246,2247,2248,2249,2250,2251,2252,2253,2254,2255,2256,2257,2258,2259,2260,2261,2262,2263,2264,2265,2266,2267,2268,2269,2270,2271,2272,2273,2274,2275,2276,2277,2278,2279,2280,2281,2282,2283,2284,2285,2286,2287,2288,2289,2290,2291,2292,2293,2294,2295,2296,2297,2298,2299,2300,2301,2302,2303,2304,2305,2306,2307,2308,2309,2310,2311,2312,2313,2314,2315,2316,2317,2318,2319,2320,2321,2322,2323,2324,2325,2326,2327,2328,2329,2330,2331,2332,2333,2334,2335,2336,2337,2338,2339,2340,2341,2342,2343,2344,2345,2346,2347,2348,2349,2350,2351,2352,2353,2354,2355,2356,2357,2358,2359,2360,2361,2362,2363,2364,2365,2366,2367,2368,2369,2370,2371,2372,2373,2374,2375,2376,2377,2378,2379,2380,2381,2382,2383,2384,2385,2386,2387,2388,2389,2390,2391,2392,2393,2394,2395,2396,2397,2398,2399,2400,2401,2402,2403,2404,2405,2406,2407,2408,2409,2410,2411,2412,2413,2414,2415,2416,2417,2418,2419,2420,2421,2422,2423,2424,2425,2426,2427,2428,2429,2430,2431,2432,2433,2434,2435,2436,2437,2438,2439,2440,2441,2442,2443,2444,2445,2446,2447,2448,2449,2450,2451,2452,2453,2454,2455,2456,2457,2458,2459,2460,2461,2462,2463,2464,2465,2466,2467,2468,2469,2470,2471,2472,2473,2474,2475,2476,2477,2478,2479,2480,2481,2482,2483,2484,2485,2486,2487,2488,2489,2490,2491,2492,2493,2494,2495,2496,2497,2498,2499,2500,2501,2502,2503,2504,2505,2506,2507,2508,2509,2510,2511,2512,2513,2514,2515,2516,2517,2518,2519,2520,2521,2522,2523,2524,2525,2526,2527,2528,2529,2530,2531,2532]},\"selected\":{\"id\":\"1166\",\"type\":\"Selection\"},\"selection_policy\":{\"id\":\"1165\",\"type\":\"UnionRenderers\"}},\"id\":\"1109\",\"type\":\"ColumnDataSource\"},{\"attributes\":{\"below\":[{\"id\":\"1119\",\"type\":\"LinearAxis\"}],\"left\":[{\"id\":\"1124\",\"type\":\"LinearAxis\"}],\"renderers\":[{\"id\":\"1119\",\"type\":\"LinearAxis\"},{\"id\":\"1123\",\"type\":\"Grid\"},{\"id\":\"1124\",\"type\":\"LinearAxis\"},{\"id\":\"1128\",\"type\":\"Grid\"},{\"id\":\"1139\",\"type\":\"PolyAnnotation\"},{\"id\":\"1148\",\"type\":\"GlyphRenderer\"}],\"title\":{\"id\":\"1160\",\"type\":\"Title\"},\"toolbar\":{\"id\":\"1135\",\"type\":\"Toolbar\"},\"x_range\":{\"id\":\"1111\",\"type\":\"Range1d\"},\"x_scale\":{\"id\":\"1115\",\"type\":\"LinearScale\"},\"y_range\":{\"id\":\"1113\",\"type\":\"Range1d\"},\"y_scale\":{\"id\":\"1117\",\"type\":\"LinearScale\"}},\"id\":\"1110\",\"subtype\":\"Figure\",\"type\":\"Plot\"},{\"attributes\":{},\"id\":\"1117\",\"type\":\"LinearScale\"},{\"attributes\":{\"plot\":{\"id\":\"1110\",\"subtype\":\"Figure\",\"type\":\"Plot\"},\"ticker\":{\"id\":\"1120\",\"type\":\"BasicTicker\"}},\"id\":\"1123\",\"type\":\"Grid\"}],\"root_ids\":[\"1110\"]},\"title\":\"Bokeh Application\",\"version\":\"1.0.2\"}};\n",
       "  var render_items = [{\"docid\":\"3ff3c4e5-5285-4e96-84e2-f0ca47a88b84\",\"roots\":{\"1110\":\"7ff57666-cd58-4e0a-a3de-9b6a1ce78ac4\"}}];\n",
       "  root.Bokeh.embed.embed_items_notebook(docs_json, render_items);\n",
       "\n",
       "  }\n",
       "  if (root.Bokeh !== undefined) {\n",
       "    embed_document(root);\n",
       "  } else {\n",
       "    var attempts = 0;\n",
       "    var timer = setInterval(function(root) {\n",
       "      if (root.Bokeh !== undefined) {\n",
       "        embed_document(root);\n",
       "        clearInterval(timer);\n",
       "      }\n",
       "      attempts++;\n",
       "      if (attempts > 100) {\n",
       "        console.log(\"Bokeh: ERROR: Unable to run BokehJS code because BokehJS library is missing\");\n",
       "        clearInterval(timer);\n",
       "      }\n",
       "    }, 10, root)\n",
       "  }\n",
       "})(window);"
      ],
      "application/vnd.bokehjs_exec.v0+json": ""
     },
     "metadata": {
      "application/vnd.bokehjs_exec.v0+json": {
       "id": "1110"
      }
     },
     "output_type": "display_data"
    }
   ],
   "source": [
    "bp.output_notebook()\n",
    "p = plot_cluster('dim_1','dim_2',hue=mapper,data=tsne_df)\n",
    "bp.show(p)"
   ]
  },
  {
   "cell_type": "code",
   "execution_count": 16,
   "metadata": {},
   "outputs": [
    {
     "data": {
      "text/plain": [
       "<matplotlib.collections.PathCollection at 0x7f4967e96eb8>"
      ]
     },
     "execution_count": 16,
     "metadata": {},
     "output_type": "execute_result"
    },
    {
     "data": {
      "image/png": "[encoded data removed]",
      "text/plain": [
       "<Figure size 432x288 with 1 Axes>"
      ]
     },
     "metadata": {
      "needs_background": "light"
     },
     "output_type": "display_data"
    }
   ],
   "source": [
    "plt.scatter(X_embedded[:,0],X_embedded[:,1],c=comp_ts_profile.index.values)"
   ]
  },
  {
   "cell_type": "code",
   "execution_count": null,
   "metadata": {},
   "outputs": [],
   "source": []
  }
 ],
 "metadata": {
  "kernelspec": {
   "display_name": "Py3-GPU (Python3.5.2)",
   "language": "python",
   "name": "py3-gpu"
  },
  "language_info": {
   "codemirror_mode": {
    "name": "ipython",
    "version": 3
   },
   "file_extension": ".py",
   "mimetype": "text/x-python",
   "name": "python",
   "nbconvert_exporter": "python",
   "pygments_lexer": "ipython3",
   "version": "3.5.2"
  }
 },
 "nbformat": 4,
 "nbformat_minor": 2
}
