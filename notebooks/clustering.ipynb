{
 "cells": [
  {
   "cell_type": "code",
   "execution_count": 1,
   "metadata": {},
   "outputs": [],
   "source": [
    "import os\n",
    "import pandas as pd\n",
    "import seaborn as sns\n",
    "import numpy as np\n",
    "import matplotlib.pyplot as plt\n",
    "%matplotlib inline\n",
    "import quilt\n",
    "from quilt.data.elijahc import ripc\n",
    "\n",
    "from sklearn.manifold import TSNE,Isomap\n",
    "\n",
    "import bokeh.plotting as bp\n",
    "from bokeh.models import ColumnDataSource, Span"
   ]
  },
  {
   "cell_type": "code",
   "execution_count": 2,
   "metadata": {},
   "outputs": [
    {
     "data": {
      "text/html": [
       "<div>\n",
       "<style scoped>\n",
       "    .dataframe tbody tr th:only-of-type {\n",
       "        vertical-align: middle;\n",
       "    }\n",
       "\n",
       "    .dataframe tbody tr th {\n",
       "        vertical-align: top;\n",
       "    }\n",
       "\n",
       "    .dataframe thead th {\n",
       "        text-align: right;\n",
       "    }\n",
       "</style>\n",
       "<table border=\"1\" class=\"dataframe\">\n",
       "  <thead>\n",
       "    <tr style=\"text-align: right;\">\n",
       "      <th></th>\n",
       "      <th>min</th>\n",
       "      <th>Molecular_Weight</th>\n",
       "      <th>log2fc_mean</th>\n",
       "      <th>log2fc_var</th>\n",
       "      <th>p-value</th>\n",
       "    </tr>\n",
       "  </thead>\n",
       "  <tbody>\n",
       "    <tr>\n",
       "      <th>726485</th>\n",
       "      <td>60</td>\n",
       "      <td>268.20519</td>\n",
       "      <td>0.094736</td>\n",
       "      <td>0.812804</td>\n",
       "      <td>0.569362</td>\n",
       "    </tr>\n",
       "    <tr>\n",
       "      <th>726486</th>\n",
       "      <td>60</td>\n",
       "      <td>190.17731</td>\n",
       "      <td>-0.092935</td>\n",
       "      <td>0.587453</td>\n",
       "      <td>0.511858</td>\n",
       "    </tr>\n",
       "    <tr>\n",
       "      <th>726487</th>\n",
       "      <td>60</td>\n",
       "      <td>150.14178</td>\n",
       "      <td>-0.099776</td>\n",
       "      <td>1.926829</td>\n",
       "      <td>0.696683</td>\n",
       "    </tr>\n",
       "    <tr>\n",
       "      <th>726488</th>\n",
       "      <td>60</td>\n",
       "      <td>568.38420</td>\n",
       "      <td>-0.024295</td>\n",
       "      <td>0.092641</td>\n",
       "      <td>0.665231</td>\n",
       "    </tr>\n",
       "    <tr>\n",
       "      <th>726489</th>\n",
       "      <td>60</td>\n",
       "      <td>268.20540</td>\n",
       "      <td>-0.367258</td>\n",
       "      <td>0.681297</td>\n",
       "      <td>0.021178</td>\n",
       "    </tr>\n",
       "  </tbody>\n",
       "</table>\n",
       "</div>"
      ],
      "text/plain": [
       "        min  Molecular_Weight  log2fc_mean  log2fc_var   p-value\n",
       "726485   60         268.20519     0.094736    0.812804  0.569362\n",
       "726486   60         190.17731    -0.092935    0.587453  0.511858\n",
       "726487   60         150.14178    -0.099776    1.926829  0.696683\n",
       "726488   60         568.38420    -0.024295    0.092641  0.665231\n",
       "726489   60         268.20540    -0.367258    0.681297  0.021178"
      ]
     },
     "execution_count": 2,
     "metadata": {},
     "output_type": "execute_result"
    }
   ],
   "source": [
    "pop_df = ripc.untargeted.log2fc_plasma_agg_stats()\n",
    "pop_df = pop_df.dropna()\n",
    "pop_df.tail()"
   ]
  },
  {
   "cell_type": "markdown",
   "metadata": {},
   "source": [
    "## Extract compounds that have statistically significant p-values at all timepoints after 10min"
   ]
  },
  {
   "cell_type": "code",
   "execution_count": 3,
   "metadata": {},
   "outputs": [],
   "source": [
    "timepoint_dfs = []\n",
    "for t in [2,4,6,8,10]:\n",
    "    t_df = pop_df.query(\"min == {}\".format(t))\n",
    "    timepoint_dfs.append(t_df[t_df['p-value'] <= 0.01])\n",
    "tp_mol_w_dfs = [np.unique(df['Molecular_Weight'].values) for df in timepoint_dfs]"
   ]
  },
  {
   "cell_type": "code",
   "execution_count": 4,
   "metadata": {},
   "outputs": [
    {
     "data": {
      "text/plain": [
       "array([  66.98955,   67.98707,   67.98743, ..., 1769.6622 , 1958.79067,\n",
       "       2040.82265])"
      ]
     },
     "execution_count": 4,
     "metadata": {},
     "output_type": "execute_result"
    }
   ],
   "source": [
    "tp_mol_w_dfs[-1]"
   ]
  },
  {
   "cell_type": "code",
   "execution_count": 5,
   "metadata": {},
   "outputs": [
    {
     "name": "stdout",
     "output_type": "stream",
     "text": [
      "2533\n"
     ]
    }
   ],
   "source": [
    "# Keep only compounts that appear in all 5 timepoints\n",
    "u_idx = tp_mol_w_dfs[0]\n",
    "for arr in tp_mol_w_dfs[1:]:\n",
    "    u_idx = np.intersect1d(u_idx,arr)\n",
    "print(len(u_idx))"
   ]
  },
  {
   "cell_type": "code",
   "execution_count": 6,
   "metadata": {},
   "outputs": [],
   "source": [
    "def set_filter(df,column,criteria):\n",
    "    return df[df[column].isin(criteria)]"
   ]
  },
  {
   "cell_type": "code",
   "execution_count": 7,
   "metadata": {},
   "outputs": [],
   "source": [
    "pop_df_short = set_filter(pop_df,'Molecular_Weight',u_idx)"
   ]
  },
  {
   "cell_type": "code",
   "execution_count": 8,
   "metadata": {},
   "outputs": [],
   "source": [
    "comp_ts_profile = pop_df_short.pivot_table(columns='min',index='Molecular_Weight',values='log2fc_mean')"
   ]
  },
  {
   "cell_type": "code",
   "execution_count": 9,
   "metadata": {},
   "outputs": [],
   "source": [
    "X = comp_ts_profile.values"
   ]
  },
  {
   "cell_type": "code",
   "execution_count": 10,
   "metadata": {},
   "outputs": [
    {
     "name": "stdout",
     "output_type": "stream",
     "text": [
      "[t-SNE] Computing 91 nearest neighbors...\n",
      "[t-SNE] Indexed 2533 samples in 0.015s...\n",
      "[t-SNE] Computed neighbors for 2533 samples in 0.146s...\n",
      "[t-SNE] Computed conditional probabilities for sample 1000 / 2533\n",
      "[t-SNE] Computed conditional probabilities for sample 2000 / 2533\n",
      "[t-SNE] Computed conditional probabilities for sample 2533 / 2533\n",
      "[t-SNE] Mean sigma: 0.063966\n",
      "[t-SNE] KL divergence after 250 iterations with early exaggeration: 66.655647\n",
      "[t-SNE] Error after 5000 iterations: 1.152107\n"
     ]
    }
   ],
   "source": [
    "X_embedded = TSNE(n_components=2,verbose=1,n_iter=5000).fit_transform(X)"
   ]
  },
  {
   "cell_type": "code",
   "execution_count": 11,
   "metadata": {},
   "outputs": [
    {
     "data": {
      "text/html": [
       "<div>\n",
       "<style scoped>\n",
       "    .dataframe tbody tr th:only-of-type {\n",
       "        vertical-align: middle;\n",
       "    }\n",
       "\n",
       "    .dataframe tbody tr th {\n",
       "        vertical-align: top;\n",
       "    }\n",
       "\n",
       "    .dataframe thead th {\n",
       "        text-align: right;\n",
       "    }\n",
       "</style>\n",
       "<table border=\"1\" class=\"dataframe\">\n",
       "  <thead>\n",
       "    <tr style=\"text-align: right;\">\n",
       "      <th></th>\n",
       "      <th>Molecular_Weight</th>\n",
       "      <th>dim_1</th>\n",
       "      <th>dim_2</th>\n",
       "    </tr>\n",
       "  </thead>\n",
       "  <tbody>\n",
       "    <tr>\n",
       "      <th>0</th>\n",
       "      <td>67.98743</td>\n",
       "      <td>-36.205143</td>\n",
       "      <td>14.735681</td>\n",
       "    </tr>\n",
       "    <tr>\n",
       "      <th>1</th>\n",
       "      <td>68.06219</td>\n",
       "      <td>-27.303459</td>\n",
       "      <td>16.370192</td>\n",
       "    </tr>\n",
       "  </tbody>\n",
       "</table>\n",
       "</div>"
      ],
      "text/plain": [
       "   Molecular_Weight      dim_1      dim_2\n",
       "0          67.98743 -36.205143  14.735681\n",
       "1          68.06219 -27.303459  16.370192"
      ]
     },
     "execution_count": 11,
     "metadata": {},
     "output_type": "execute_result"
    }
   ],
   "source": [
    "tsne_df = pd.DataFrame(X_embedded,index=comp_ts_profile.index,columns=['dim_1','dim_2']).reset_index()\n",
    "tsne_df.head(2)"
   ]
  },
  {
   "cell_type": "code",
   "execution_count": 41,
   "metadata": {},
   "outputs": [],
   "source": [
    "X_embedded = Isomap(n_neighbors=6,n_components=2).fit_transform(X)"
   ]
  },
  {
   "cell_type": "code",
   "execution_count": 59,
   "metadata": {},
   "outputs": [
    {
     "data": {
      "text/html": [
       "<div>\n",
       "<style scoped>\n",
       "    .dataframe tbody tr th:only-of-type {\n",
       "        vertical-align: middle;\n",
       "    }\n",
       "\n",
       "    .dataframe tbody tr th {\n",
       "        vertical-align: top;\n",
       "    }\n",
       "\n",
       "    .dataframe thead th {\n",
       "        text-align: right;\n",
       "    }\n",
       "</style>\n",
       "<table border=\"1\" class=\"dataframe\">\n",
       "  <thead>\n",
       "    <tr style=\"text-align: right;\">\n",
       "      <th></th>\n",
       "      <th>Molecular_Weight</th>\n",
       "      <th>dim_1</th>\n",
       "      <th>dim_2</th>\n",
       "    </tr>\n",
       "  </thead>\n",
       "  <tbody>\n",
       "    <tr>\n",
       "      <th>0</th>\n",
       "      <td>67.98743</td>\n",
       "      <td>0.565927</td>\n",
       "      <td>0.024607</td>\n",
       "    </tr>\n",
       "    <tr>\n",
       "      <th>1</th>\n",
       "      <td>68.06219</td>\n",
       "      <td>0.655651</td>\n",
       "      <td>0.234022</td>\n",
       "    </tr>\n",
       "  </tbody>\n",
       "</table>\n",
       "</div>"
      ],
      "text/plain": [
       "   Molecular_Weight     dim_1     dim_2\n",
       "0          67.98743  0.565927  0.024607\n",
       "1          68.06219  0.655651  0.234022"
      ]
     },
     "execution_count": 59,
     "metadata": {},
     "output_type": "execute_result"
    }
   ],
   "source": [
    "isomap_df = pd.DataFrame(X_embedded,index=comp_ts_profile.index,columns=['dim_1','dim_2']).reset_index()\n",
    "isomap_df.head(2)"
   ]
  },
  {
   "cell_type": "code",
   "execution_count": 60,
   "metadata": {},
   "outputs": [
    {
     "data": {
      "text/plain": [
       "2533"
      ]
     },
     "execution_count": 60,
     "metadata": {},
     "output_type": "execute_result"
    }
   ],
   "source": [
    "len(isomap_df)"
   ]
  },
  {
   "cell_type": "code",
   "execution_count": 44,
   "metadata": {},
   "outputs": [],
   "source": [
    "from bokeh.palettes import Plasma256\n",
    "from bokeh.transform import log_cmap\n",
    "from bokeh.models import LassoSelectTool\n",
    "\n",
    "mapper = log_cmap(field_name='Molecular_Weight', palette=Plasma256 ,low=min(isomap_df['Molecular_Weight'].values) ,high=max(isomap_df['Molecular_Weight'].values))\n",
    "\n",
    "def plot_cluster(x,y,hue=None,data=None,tools='hover,save,reset,pan,lasso_select,wheel_zoom',**kwargs):\n",
    "    X_vals = data[x]\n",
    "    Y_vals = data[y]\n",
    "    source = ColumnDataSource(data)\n",
    "    p = bp.figure(tools=tools, x_range=(min(X_vals),max(X_vals)), y_range=(min(Y_vals),max(Y_vals)))\n",
    "    p.hover.tooltips = [\n",
    "        (\"Molecular Weight\", \"@{Molecular_Weight}\"),\n",
    "        (\"dim_1\", \"@dim_1\"),\n",
    "        (\"dim_2\", \"@dim_2\")\n",
    "    ]\n",
    "    p.circle(x,y, line_color=hue, color=hue, size=5,source=source)\n",
    "    \n",
    "    return p\n"
   ]
  },
  {
   "cell_type": "code",
   "execution_count": 45,
   "metadata": {},
   "outputs": [
    {
     "data": {
      "text/html": [
       "\n",
       "    <div class=\"bk-root\">\n",
       "        <a href=\"https://bokeh.pydata.org\" target=\"_blank\" class=\"bk-logo bk-logo-small bk-logo-notebook\"></a>\n",
       "        <span id=\"1773\">Loading BokehJS ...</span>\n",
       "    </div>"
      ]
     },
     "metadata": {},
     "output_type": "display_data"
    },
    {
     "data": {
      "application/javascript": [
       "\n",
       "(function(root) {\n",
       "  function now() {\n",
       "    return new Date();\n",
       "  }\n",
       "\n",
       "  var force = true;\n",
       "\n",
       "  if (typeof (root._bokeh_onload_callbacks) === \"undefined\" || force === true) {\n",
       "    root._bokeh_onload_callbacks = [];\n",
       "    root._bokeh_is_loading = undefined;\n",
       "  }\n",
       "\n",
       "  var JS_MIME_TYPE = 'application/javascript';\n",
       "  var HTML_MIME_TYPE = 'text/html';\n",
       "  var EXEC_MIME_TYPE = 'application/vnd.bokehjs_exec.v0+json';\n",
       "  var CLASS_NAME = 'output_bokeh rendered_html';\n",
       "\n",
       "  /**\n",
       "   * Render data to the DOM node\n",
       "   */\n",
       "  function render(props, node) {\n",
       "    var script = document.createElement(\"script\");\n",
       "    node.appendChild(script);\n",
       "  }\n",
       "\n",
       "  /**\n",
       "   * Handle when an output is cleared or removed\n",
       "   */\n",
       "  function handleClearOutput(event, handle) {\n",
       "    var cell = handle.cell;\n",
       "\n",
       "    var id = cell.output_area._bokeh_element_id;\n",
       "    var server_id = cell.output_area._bokeh_server_id;\n",
       "    // Clean up Bokeh references\n",
       "    if (id != null && id in Bokeh.index) {\n",
       "      Bokeh.index[id].model.document.clear();\n",
       "      delete Bokeh.index[id];\n",
       "    }\n",
       "\n",
       "    if (server_id !== undefined) {\n",
       "      // Clean up Bokeh references\n",
       "      var cmd = \"from bokeh.io.state import curstate; print(curstate().uuid_to_server['\" + server_id + \"'].get_sessions()[0].document.roots[0]._id)\";\n",
       "      cell.notebook.kernel.execute(cmd, {\n",
       "        iopub: {\n",
       "          output: function(msg) {\n",
       "            var id = msg.content.text.trim();\n",
       "            if (id in Bokeh.index) {\n",
       "              Bokeh.index[id].model.document.clear();\n",
       "              delete Bokeh.index[id];\n",
       "            }\n",
       "          }\n",
       "        }\n",
       "      });\n",
       "      // Destroy server and session\n",
       "      var cmd = \"import bokeh.io.notebook as ion; ion.destroy_server('\" + server_id + \"')\";\n",
       "      cell.notebook.kernel.execute(cmd);\n",
       "    }\n",
       "  }\n",
       "\n",
       "  /**\n",
       "   * Handle when a new output is added\n",
       "   */\n",
       "  function handleAddOutput(event, handle) {\n",
       "    var output_area = handle.output_area;\n",
       "    var output = handle.output;\n",
       "\n",
       "    // limit handleAddOutput to display_data with EXEC_MIME_TYPE content only\n",
       "    if ((output.output_type != \"display_data\") || (!output.data.hasOwnProperty(EXEC_MIME_TYPE))) {\n",
       "      return\n",
       "    }\n",
       "\n",
       "    var toinsert = output_area.element.find(\".\" + CLASS_NAME.split(' ')[0]);\n",
       "\n",
       "    if (output.metadata[EXEC_MIME_TYPE][\"id\"] !== undefined) {\n",
       "      toinsert[toinsert.length - 1].firstChild.textContent = output.data[JS_MIME_TYPE];\n",
       "      // store reference to embed id on output_area\n",
       "      output_area._bokeh_element_id = output.metadata[EXEC_MIME_TYPE][\"id\"];\n",
       "    }\n",
       "    if (output.metadata[EXEC_MIME_TYPE][\"server_id\"] !== undefined) {\n",
       "      var bk_div = document.createElement(\"div\");\n",
       "      bk_div.innerHTML = output.data[HTML_MIME_TYPE];\n",
       "      var script_attrs = bk_div.children[0].attributes;\n",
       "      for (var i = 0; i < script_attrs.length; i++) {\n",
       "        toinsert[toinsert.length - 1].firstChild.setAttribute(script_attrs[i].name, script_attrs[i].value);\n",
       "      }\n",
       "      // store reference to server id on output_area\n",
       "      output_area._bokeh_server_id = output.metadata[EXEC_MIME_TYPE][\"server_id\"];\n",
       "    }\n",
       "  }\n",
       "\n",
       "  function register_renderer(events, OutputArea) {\n",
       "\n",
       "    function append_mime(data, metadata, element) {\n",
       "      // create a DOM node to render to\n",
       "      var toinsert = this.create_output_subarea(\n",
       "        metadata,\n",
       "        CLASS_NAME,\n",
       "        EXEC_MIME_TYPE\n",
       "      );\n",
       "      this.keyboard_manager.register_events(toinsert);\n",
       "      // Render to node\n",
       "      var props = {data: data, metadata: metadata[EXEC_MIME_TYPE]};\n",
       "      render(props, toinsert[toinsert.length - 1]);\n",
       "      element.append(toinsert);\n",
       "      return toinsert\n",
       "    }\n",
       "\n",
       "    /* Handle when an output is cleared or removed */\n",
       "    events.on('clear_output.CodeCell', handleClearOutput);\n",
       "    events.on('delete.Cell', handleClearOutput);\n",
       "\n",
       "    /* Handle when a new output is added */\n",
       "    events.on('output_added.OutputArea', handleAddOutput);\n",
       "\n",
       "    /**\n",
       "     * Register the mime type and append_mime function with output_area\n",
       "     */\n",
       "    OutputArea.prototype.register_mime_type(EXEC_MIME_TYPE, append_mime, {\n",
       "      /* Is output safe? */\n",
       "      safe: true,\n",
       "      /* Index of renderer in `output_area.display_order` */\n",
       "      index: 0\n",
       "    });\n",
       "  }\n",
       "\n",
       "  // register the mime type if in Jupyter Notebook environment and previously unregistered\n",
       "  if (root.Jupyter !== undefined) {\n",
       "    var events = require('base/js/events');\n",
       "    var OutputArea = require('notebook/js/outputarea').OutputArea;\n",
       "\n",
       "    if (OutputArea.prototype.mime_types().indexOf(EXEC_MIME_TYPE) == -1) {\n",
       "      register_renderer(events, OutputArea);\n",
       "    }\n",
       "  }\n",
       "\n",
       "  \n",
       "  if (typeof (root._bokeh_timeout) === \"undefined\" || force === true) {\n",
       "    root._bokeh_timeout = Date.now() + 5000;\n",
       "    root._bokeh_failed_load = false;\n",
       "  }\n",
       "\n",
       "  var NB_LOAD_WARNING = {'data': {'text/html':\n",
       "     \"<div style='background-color: #fdd'>\\n\"+\n",
       "     \"<p>\\n\"+\n",
       "     \"BokehJS does not appear to have successfully loaded. If loading BokehJS from CDN, this \\n\"+\n",
       "     \"may be due to a slow or bad network connection. Possible fixes:\\n\"+\n",
       "     \"</p>\\n\"+\n",
       "     \"<ul>\\n\"+\n",
       "     \"<li>re-rerun `output_notebook()` to attempt to load from CDN again, or</li>\\n\"+\n",
       "     \"<li>use INLINE resources instead, as so:</li>\\n\"+\n",
       "     \"</ul>\\n\"+\n",
       "     \"<code>\\n\"+\n",
       "     \"from bokeh.resources import INLINE\\n\"+\n",
       "     \"output_notebook(resources=INLINE)\\n\"+\n",
       "     \"</code>\\n\"+\n",
       "     \"</div>\"}};\n",
       "\n",
       "  function display_loaded() {\n",
       "    var el = document.getElementById(\"1773\");\n",
       "    if (el != null) {\n",
       "      el.textContent = \"BokehJS is loading...\";\n",
       "    }\n",
       "    if (root.Bokeh !== undefined) {\n",
       "      if (el != null) {\n",
       "        el.textContent = \"BokehJS \" + root.Bokeh.version + \" successfully loaded.\";\n",
       "      }\n",
       "    } else if (Date.now() < root._bokeh_timeout) {\n",
       "      setTimeout(display_loaded, 100)\n",
       "    }\n",
       "  }\n",
       "\n",
       "\n",
       "  function run_callbacks() {\n",
       "    try {\n",
       "      root._bokeh_onload_callbacks.forEach(function(callback) { callback() });\n",
       "    }\n",
       "    finally {\n",
       "      delete root._bokeh_onload_callbacks\n",
       "    }\n",
       "    console.info(\"Bokeh: all callbacks have finished\");\n",
       "  }\n",
       "\n",
       "  function load_libs(js_urls, callback) {\n",
       "    root._bokeh_onload_callbacks.push(callback);\n",
       "    if (root._bokeh_is_loading > 0) {\n",
       "      console.log(\"Bokeh: BokehJS is being loaded, scheduling callback at\", now());\n",
       "      return null;\n",
       "    }\n",
       "    if (js_urls == null || js_urls.length === 0) {\n",
       "      run_callbacks();\n",
       "      return null;\n",
       "    }\n",
       "    console.log(\"Bokeh: BokehJS not loaded, scheduling load and callback at\", now());\n",
       "    root._bokeh_is_loading = js_urls.length;\n",
       "    for (var i = 0; i < js_urls.length; i++) {\n",
       "      var url = js_urls[i];\n",
       "      var s = document.createElement('script');\n",
       "      s.src = url;\n",
       "      s.async = false;\n",
       "      s.onreadystatechange = s.onload = function() {\n",
       "        root._bokeh_is_loading--;\n",
       "        if (root._bokeh_is_loading === 0) {\n",
       "          console.log(\"Bokeh: all BokehJS libraries loaded\");\n",
       "          run_callbacks()\n",
       "        }\n",
       "      };\n",
       "      s.onerror = function() {\n",
       "        console.warn(\"failed to load library \" + url);\n",
       "      };\n",
       "      console.log(\"Bokeh: injecting script tag for BokehJS library: \", url);\n",
       "      document.getElementsByTagName(\"head\")[0].appendChild(s);\n",
       "    }\n",
       "  };var element = document.getElementById(\"1773\");\n",
       "  if (element == null) {\n",
       "    console.log(\"Bokeh: ERROR: autoload.js configured with elementid '1773' but no matching script tag was found. \")\n",
       "    return false;\n",
       "  }\n",
       "\n",
       "  var js_urls = [\"https://cdn.pydata.org/bokeh/release/bokeh-1.0.2.min.js\", \"https://cdn.pydata.org/bokeh/release/bokeh-widgets-1.0.2.min.js\", \"https://cdn.pydata.org/bokeh/release/bokeh-tables-1.0.2.min.js\", \"https://cdn.pydata.org/bokeh/release/bokeh-gl-1.0.2.min.js\"];\n",
       "\n",
       "  var inline_js = [\n",
       "    function(Bokeh) {\n",
       "      Bokeh.set_log_level(\"info\");\n",
       "    },\n",
       "    \n",
       "    function(Bokeh) {\n",
       "      \n",
       "    },\n",
       "    function(Bokeh) {\n",
       "      console.log(\"Bokeh: injecting CSS: https://cdn.pydata.org/bokeh/release/bokeh-1.0.2.min.css\");\n",
       "      Bokeh.embed.inject_css(\"https://cdn.pydata.org/bokeh/release/bokeh-1.0.2.min.css\");\n",
       "      console.log(\"Bokeh: injecting CSS: https://cdn.pydata.org/bokeh/release/bokeh-widgets-1.0.2.min.css\");\n",
       "      Bokeh.embed.inject_css(\"https://cdn.pydata.org/bokeh/release/bokeh-widgets-1.0.2.min.css\");\n",
       "      console.log(\"Bokeh: injecting CSS: https://cdn.pydata.org/bokeh/release/bokeh-tables-1.0.2.min.css\");\n",
       "      Bokeh.embed.inject_css(\"https://cdn.pydata.org/bokeh/release/bokeh-tables-1.0.2.min.css\");\n",
       "    }\n",
       "  ];\n",
       "\n",
       "  function run_inline_js() {\n",
       "    \n",
       "    if ((root.Bokeh !== undefined) || (force === true)) {\n",
       "      for (var i = 0; i < inline_js.length; i++) {\n",
       "        inline_js[i].call(root, root.Bokeh);\n",
       "      }if (force === true) {\n",
       "        display_loaded();\n",
       "      }} else if (Date.now() < root._bokeh_timeout) {\n",
       "      setTimeout(run_inline_js, 100);\n",
       "    } else if (!root._bokeh_failed_load) {\n",
       "      console.log(\"Bokeh: BokehJS failed to load within specified timeout.\");\n",
       "      root._bokeh_failed_load = true;\n",
       "    } else if (force !== true) {\n",
       "      var cell = $(document.getElementById(\"1773\")).parents('.cell').data().cell;\n",
       "      cell.output_area.append_execute_result(NB_LOAD_WARNING)\n",
       "    }\n",
       "\n",
       "  }\n",
       "\n",
       "  if (root._bokeh_is_loading === 0) {\n",
       "    console.log(\"Bokeh: BokehJS loaded, going straight to plotting\");\n",
       "    run_inline_js();\n",
       "  } else {\n",
       "    load_libs(js_urls, function() {\n",
       "      console.log(\"Bokeh: BokehJS plotting callback run at\", now());\n",
       "      run_inline_js();\n",
       "    });\n",
       "  }\n",
       "}(window));"
      ],
      "application/vnd.bokehjs_load.v0+json": "\n(function(root) {\n  function now() {\n    return new Date();\n  }\n\n  var force = true;\n\n  if (typeof (root._bokeh_onload_callbacks) === \"undefined\" || force === true) {\n    root._bokeh_onload_callbacks = [];\n    root._bokeh_is_loading = undefined;\n  }\n\n  \n\n  \n  if (typeof (root._bokeh_timeout) === \"undefined\" || force === true) {\n    root._bokeh_timeout = Date.now() + 5000;\n    root._bokeh_failed_load = false;\n  }\n\n  var NB_LOAD_WARNING = {'data': {'text/html':\n     \"<div style='background-color: #fdd'>\\n\"+\n     \"<p>\\n\"+\n     \"BokehJS does not appear to have successfully loaded. If loading BokehJS from CDN, this \\n\"+\n     \"may be due to a slow or bad network connection. Possible fixes:\\n\"+\n     \"</p>\\n\"+\n     \"<ul>\\n\"+\n     \"<li>re-rerun `output_notebook()` to attempt to load from CDN again, or</li>\\n\"+\n     \"<li>use INLINE resources instead, as so:</li>\\n\"+\n     \"</ul>\\n\"+\n     \"<code>\\n\"+\n     \"from bokeh.resources import INLINE\\n\"+\n     \"output_notebook(resources=INLINE)\\n\"+\n     \"</code>\\n\"+\n     \"</div>\"}};\n\n  function display_loaded() {\n    var el = document.getElementById(\"1773\");\n    if (el != null) {\n      el.textContent = \"BokehJS is loading...\";\n    }\n    if (root.Bokeh !== undefined) {\n      if (el != null) {\n        el.textContent = \"BokehJS \" + root.Bokeh.version + \" successfully loaded.\";\n      }\n    } else if (Date.now() < root._bokeh_timeout) {\n      setTimeout(display_loaded, 100)\n    }\n  }\n\n\n  function run_callbacks() {\n    try {\n      root._bokeh_onload_callbacks.forEach(function(callback) { callback() });\n    }\n    finally {\n      delete root._bokeh_onload_callbacks\n    }\n    console.info(\"Bokeh: all callbacks have finished\");\n  }\n\n  function load_libs(js_urls, callback) {\n    root._bokeh_onload_callbacks.push(callback);\n    if (root._bokeh_is_loading > 0) {\n      console.log(\"Bokeh: BokehJS is being loaded, scheduling callback at\", now());\n      return null;\n    }\n    if (js_urls == null || js_urls.length === 0) {\n      run_callbacks();\n      return null;\n    }\n    console.log(\"Bokeh: BokehJS not loaded, scheduling load and callback at\", now());\n    root._bokeh_is_loading = js_urls.length;\n    for (var i = 0; i < js_urls.length; i++) {\n      var url = js_urls[i];\n      var s = document.createElement('script');\n      s.src = url;\n      s.async = false;\n      s.onreadystatechange = s.onload = function() {\n        root._bokeh_is_loading--;\n        if (root._bokeh_is_loading === 0) {\n          console.log(\"Bokeh: all BokehJS libraries loaded\");\n          run_callbacks()\n        }\n      };\n      s.onerror = function() {\n        console.warn(\"failed to load library \" + url);\n      };\n      console.log(\"Bokeh: injecting script tag for BokehJS library: \", url);\n      document.getElementsByTagName(\"head\")[0].appendChild(s);\n    }\n  };var element = document.getElementById(\"1773\");\n  if (element == null) {\n    console.log(\"Bokeh: ERROR: autoload.js configured with elementid '1773' but no matching script tag was found. \")\n    return false;\n  }\n\n  var js_urls = [\"https://cdn.pydata.org/bokeh/release/bokeh-1.0.2.min.js\", \"https://cdn.pydata.org/bokeh/release/bokeh-widgets-1.0.2.min.js\", \"https://cdn.pydata.org/bokeh/release/bokeh-tables-1.0.2.min.js\", \"https://cdn.pydata.org/bokeh/release/bokeh-gl-1.0.2.min.js\"];\n\n  var inline_js = [\n    function(Bokeh) {\n      Bokeh.set_log_level(\"info\");\n    },\n    \n    function(Bokeh) {\n      \n    },\n    function(Bokeh) {\n      console.log(\"Bokeh: injecting CSS: https://cdn.pydata.org/bokeh/release/bokeh-1.0.2.min.css\");\n      Bokeh.embed.inject_css(\"https://cdn.pydata.org/bokeh/release/bokeh-1.0.2.min.css\");\n      console.log(\"Bokeh: injecting CSS: https://cdn.pydata.org/bokeh/release/bokeh-widgets-1.0.2.min.css\");\n      Bokeh.embed.inject_css(\"https://cdn.pydata.org/bokeh/release/bokeh-widgets-1.0.2.min.css\");\n      console.log(\"Bokeh: injecting CSS: https://cdn.pydata.org/bokeh/release/bokeh-tables-1.0.2.min.css\");\n      Bokeh.embed.inject_css(\"https://cdn.pydata.org/bokeh/release/bokeh-tables-1.0.2.min.css\");\n    }\n  ];\n\n  function run_inline_js() {\n    \n    if ((root.Bokeh !== undefined) || (force === true)) {\n      for (var i = 0; i < inline_js.length; i++) {\n        inline_js[i].call(root, root.Bokeh);\n      }if (force === true) {\n        display_loaded();\n      }} else if (Date.now() < root._bokeh_timeout) {\n      setTimeout(run_inline_js, 100);\n    } else if (!root._bokeh_failed_load) {\n      console.log(\"Bokeh: BokehJS failed to load within specified timeout.\");\n      root._bokeh_failed_load = true;\n    } else if (force !== true) {\n      var cell = $(document.getElementById(\"1773\")).parents('.cell').data().cell;\n      cell.output_area.append_execute_result(NB_LOAD_WARNING)\n    }\n\n  }\n\n  if (root._bokeh_is_loading === 0) {\n    console.log(\"Bokeh: BokehJS loaded, going straight to plotting\");\n    run_inline_js();\n  } else {\n    load_libs(js_urls, function() {\n      console.log(\"Bokeh: BokehJS plotting callback run at\", now());\n      run_inline_js();\n    });\n  }\n}(window));"
     },
     "metadata": {},
     "output_type": "display_data"
    },
    {
     "data": {
      "text/html": [
       "\n",
       "\n",
       "\n",
       "\n",
       "\n",
       "\n",
       "  <div class=\"bk-root\" id=\"f8766a09-bf27-4490-a30e-eba65d49777b\"></div>\n"
      ]
     },
     "metadata": {},
     "output_type": "display_data"
    },
    {
     "data": {
      "application/javascript": [
       "(function(root) {\n",
       "  function embed_document(root) {\n",
       "    \n",
       "  var docs_json = {\"ab5b4764-cf06-4dd4-bf9a-8ce1f59241b4\":{\"roots\":{\"references\":[{\"attributes\":{},\"id\":\"1790\",\"type\":\"BasicTicker\"},{\"attributes\":{\"callback\":null,\"end\":5.0084980079301475,\"start\":-4.05910590039199},\"id\":\"1778\",\"type\":\"Range1d\"},{\"attributes\":{},\"id\":\"1795\",\"type\":\"SaveTool\"},{\"attributes\":{\"callback\":null,\"overlay\":{\"id\":\"1804\",\"type\":\"PolyAnnotation\"}},\"id\":\"1798\",\"type\":\"LassoSelectTool\"},{\"attributes\":{\"high\":1958.79067,\"low\":67.98743,\"palette\":[\"#0C0786\",\"#100787\",\"#130689\",\"#15068A\",\"#18068B\",\"#1B068C\",\"#1D068D\",\"#1F058E\",\"#21058F\",\"#230590\",\"#250591\",\"#270592\",\"#290593\",\"#2B0594\",\"#2D0494\",\"#2F0495\",\"#310496\",\"#330497\",\"#340498\",\"#360498\",\"#380499\",\"#3A049A\",\"#3B039A\",\"#3D039B\",\"#3F039C\",\"#40039C\",\"#42039D\",\"#44039E\",\"#45039E\",\"#47029F\",\"#49029F\",\"#4A02A0\",\"#4C02A1\",\"#4E02A1\",\"#4F02A2\",\"#5101A2\",\"#5201A3\",\"#5401A3\",\"#5601A3\",\"#5701A4\",\"#5901A4\",\"#5A00A5\",\"#5C00A5\",\"#5E00A5\",\"#5F00A6\",\"#6100A6\",\"#6200A6\",\"#6400A7\",\"#6500A7\",\"#6700A7\",\"#6800A7\",\"#6A00A7\",\"#6C00A8\",\"#6D00A8\",\"#6F00A8\",\"#7000A8\",\"#7200A8\",\"#7300A8\",\"#7500A8\",\"#7601A8\",\"#7801A8\",\"#7901A8\",\"#7B02A8\",\"#7C02A7\",\"#7E03A7\",\"#7F03A7\",\"#8104A7\",\"#8204A7\",\"#8405A6\",\"#8506A6\",\"#8607A6\",\"#8807A5\",\"#8908A5\",\"#8B09A4\",\"#8C0AA4\",\"#8E0CA4\",\"#8F0DA3\",\"#900EA3\",\"#920FA2\",\"#9310A1\",\"#9511A1\",\"#9612A0\",\"#9713A0\",\"#99149F\",\"#9A159E\",\"#9B179E\",\"#9D189D\",\"#9E199C\",\"#9F1A9B\",\"#A01B9B\",\"#A21C9A\",\"#A31D99\",\"#A41E98\",\"#A51F97\",\"#A72197\",\"#A82296\",\"#A92395\",\"#AA2494\",\"#AC2593\",\"#AD2692\",\"#AE2791\",\"#AF2890\",\"#B02A8F\",\"#B12B8F\",\"#B22C8E\",\"#B42D8D\",\"#B52E8C\",\"#B62F8B\",\"#B7308A\",\"#B83289\",\"#B93388\",\"#BA3487\",\"#BB3586\",\"#BC3685\",\"#BD3784\",\"#BE3883\",\"#BF3982\",\"#C03B81\",\"#C13C80\",\"#C23D80\",\"#C33E7F\",\"#C43F7E\",\"#C5407D\",\"#C6417C\",\"#C7427B\",\"#C8447A\",\"#C94579\",\"#CA4678\",\"#CB4777\",\"#CC4876\",\"#CD4975\",\"#CE4A75\",\"#CF4B74\",\"#D04D73\",\"#D14E72\",\"#D14F71\",\"#D25070\",\"#D3516F\",\"#D4526E\",\"#D5536D\",\"#D6556D\",\"#D7566C\",\"#D7576B\",\"#D8586A\",\"#D95969\",\"#DA5A68\",\"#DB5B67\",\"#DC5D66\",\"#DC5E66\",\"#DD5F65\",\"#DE6064\",\"#DF6163\",\"#DF6262\",\"#E06461\",\"#E16560\",\"#E26660\",\"#E3675F\",\"#E3685E\",\"#E46A5D\",\"#E56B5C\",\"#E56C5B\",\"#E66D5A\",\"#E76E5A\",\"#E87059\",\"#E87158\",\"#E97257\",\"#EA7356\",\"#EA7455\",\"#EB7654\",\"#EC7754\",\"#EC7853\",\"#ED7952\",\"#ED7B51\",\"#EE7C50\",\"#EF7D4F\",\"#EF7E4E\",\"#F0804D\",\"#F0814D\",\"#F1824C\",\"#F2844B\",\"#F2854A\",\"#F38649\",\"#F38748\",\"#F48947\",\"#F48A47\",\"#F58B46\",\"#F58D45\",\"#F68E44\",\"#F68F43\",\"#F69142\",\"#F79241\",\"#F79341\",\"#F89540\",\"#F8963F\",\"#F8983E\",\"#F9993D\",\"#F99A3C\",\"#FA9C3B\",\"#FA9D3A\",\"#FA9F3A\",\"#FAA039\",\"#FBA238\",\"#FBA337\",\"#FBA436\",\"#FCA635\",\"#FCA735\",\"#FCA934\",\"#FCAA33\",\"#FCAC32\",\"#FCAD31\",\"#FDAF31\",\"#FDB030\",\"#FDB22F\",\"#FDB32E\",\"#FDB52D\",\"#FDB62D\",\"#FDB82C\",\"#FDB92B\",\"#FDBB2B\",\"#FDBC2A\",\"#FDBE29\",\"#FDC029\",\"#FDC128\",\"#FDC328\",\"#FDC427\",\"#FDC626\",\"#FCC726\",\"#FCC926\",\"#FCCB25\",\"#FCCC25\",\"#FCCE25\",\"#FBD024\",\"#FBD124\",\"#FBD324\",\"#FAD524\",\"#FAD624\",\"#FAD824\",\"#F9D924\",\"#F9DB24\",\"#F8DD24\",\"#F8DF24\",\"#F7E024\",\"#F7E225\",\"#F6E425\",\"#F6E525\",\"#F5E726\",\"#F5E926\",\"#F4EA26\",\"#F3EC26\",\"#F3EE26\",\"#F2F026\",\"#F2F126\",\"#F1F326\",\"#F0F525\",\"#F0F623\",\"#EFF821\"]},\"id\":\"1772\",\"type\":\"LogColorMapper\"},{\"attributes\":{},\"id\":\"1796\",\"type\":\"ResetTool\"},{\"attributes\":{\"plot\":null,\"text\":\"\"},\"id\":\"1870\",\"type\":\"Title\"},{\"attributes\":{},\"id\":\"1875\",\"type\":\"UnionRenderers\"},{\"attributes\":{\"data_source\":{\"id\":\"1774\",\"type\":\"ColumnDataSource\"},\"glyph\":{\"id\":\"1811\",\"type\":\"Circle\"},\"hover_glyph\":null,\"muted_glyph\":null,\"nonselection_glyph\":{\"id\":\"1812\",\"type\":\"Circle\"},\"selection_glyph\":null,\"view\":{\"id\":\"1814\",\"type\":\"CDSView\"}},\"id\":\"1813\",\"type\":\"GlyphRenderer\"},{\"attributes\":{},\"id\":\"1782\",\"type\":\"LinearScale\"},{\"attributes\":{\"plot\":{\"id\":\"1775\",\"subtype\":\"Figure\",\"type\":\"Plot\"},\"ticker\":{\"id\":\"1785\",\"type\":\"BasicTicker\"}},\"id\":\"1788\",\"type\":\"Grid\"},{\"attributes\":{\"callback\":null,\"tooltips\":[[\"Molecular Weight\",\"@{Molecular_Weight}\"],[\"dim_1\",\"@dim_1\"],[\"dim_2\",\"@dim_2\"]]},\"id\":\"1794\",\"type\":\"HoverTool\"},{\"attributes\":{\"callback\":null,\"end\":7.96366207591778,\"start\":-3.531704738310572},\"id\":\"1776\",\"type\":\"Range1d\"},{\"attributes\":{\"source\":{\"id\":\"1774\",\"type\":\"ColumnDataSource\"}},\"id\":\"1814\",\"type\":\"CDSView\"},{\"attributes\":{\"below\":[{\"id\":\"1784\",\"type\":\"LinearAxis\"}],\"left\":[{\"id\":\"1789\",\"type\":\"LinearAxis\"}],\"renderers\":[{\"id\":\"1784\",\"type\":\"LinearAxis\"},{\"id\":\"1788\",\"type\":\"Grid\"},{\"id\":\"1789\",\"type\":\"LinearAxis\"},{\"id\":\"1793\",\"type\":\"Grid\"},{\"id\":\"1804\",\"type\":\"PolyAnnotation\"},{\"id\":\"1813\",\"type\":\"GlyphRenderer\"}],\"title\":{\"id\":\"1870\",\"type\":\"Title\"},\"toolbar\":{\"id\":\"1800\",\"type\":\"Toolbar\"},\"x_range\":{\"id\":\"1776\",\"type\":\"Range1d\"},\"x_scale\":{\"id\":\"1780\",\"type\":\"LinearScale\"},\"y_range\":{\"id\":\"1778\",\"type\":\"Range1d\"},\"y_scale\":{\"id\":\"1782\",\"type\":\"LinearScale\"}},\"id\":\"1775\",\"subtype\":\"Figure\",\"type\":\"Plot\"},{\"attributes\":{\"fill_color\":{\"field\":\"Molecular_Weight\",\"transform\":{\"id\":\"1772\",\"type\":\"LogColorMapper\"}},\"line_color\":{\"field\":\"Molecular_Weight\",\"transform\":{\"id\":\"1772\",\"type\":\"LogColorMapper\"}},\"size\":{\"units\":\"screen\",\"value\":5},\"x\":{\"field\":\"dim_1\"},\"y\":{\"field\":\"dim_2\"}},\"id\":\"1811\",\"type\":\"Circle\"},{\"attributes\":{},\"id\":\"1780\",\"type\":\"LinearScale\"},{\"attributes\":{\"fill_alpha\":{\"value\":0.1},\"fill_color\":{\"value\":\"#1f77b4\"},\"line_alpha\":{\"value\":0.1},\"line_color\":{\"value\":\"#1f77b4\"},\"size\":{\"units\":\"screen\",\"value\":5},\"x\":{\"field\":\"dim_1\"},\"y\":{\"field\":\"dim_2\"}},\"id\":\"1812\",\"type\":\"Circle\"},{\"attributes\":{\"fill_alpha\":{\"value\":0.5},\"fill_color\":{\"value\":\"lightgrey\"},\"level\":\"overlay\",\"line_alpha\":{\"value\":1.0},\"line_color\":{\"value\":\"black\"},\"line_dash\":[4,4],\"line_width\":{\"value\":2},\"plot\":null,\"xs_units\":\"screen\",\"ys_units\":\"screen\"},\"id\":\"1804\",\"type\":\"PolyAnnotation\"},{\"attributes\":{\"formatter\":{\"id\":\"1872\",\"type\":\"BasicTickFormatter\"},\"plot\":{\"id\":\"1775\",\"subtype\":\"Figure\",\"type\":\"Plot\"},\"ticker\":{\"id\":\"1785\",\"type\":\"BasicTicker\"}},\"id\":\"1784\",\"type\":\"LinearAxis\"},{\"attributes\":{},\"id\":\"1874\",\"type\":\"BasicTickFormatter\"},{\"attributes\":{},\"id\":\"1876\",\"type\":\"Selection\"},{\"attributes\":{\"formatter\":{\"id\":\"1874\",\"type\":\"BasicTickFormatter\"},\"plot\":{\"id\":\"1775\",\"subtype\":\"Figure\",\"type\":\"Plot\"},\"ticker\":{\"id\":\"1790\",\"type\":\"BasicTicker\"}},\"id\":\"1789\",\"type\":\"LinearAxis\"},{\"attributes\":{},\"id\":\"1785\",\"type\":\"BasicTicker\"},{\"attributes\":{\"dimension\":1,\"plot\":{\"id\":\"1775\",\"subtype\":\"Figure\",\"type\":\"Plot\"},\"ticker\":{\"id\":\"1790\",\"type\":\"BasicTicker\"}},\"id\":\"1793\",\"type\":\"Grid\"},{\"attributes\":{},\"id\":\"1872\",\"type\":\"BasicTickFormatter\"},{\"attributes\":{},\"id\":\"1797\",\"type\":\"PanTool\"},{\"attributes\":{},\"id\":\"1799\",\"type\":\"WheelZoomTool\"},{\"attributes\":{\"callback\":null,\"data\":{\"Molecular_Weight\":{\"__ndarray__\":\"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\",\"dtype\":\"float64\",\"shape\":[2533]},\"dim_1\":{\"__ndarray__\":\"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\",\"dtype\":\"float64\",\"shape\":[2533]},\"dim_2\":{\"__ndarray__\":\"RRQ+daoymT/1WMNHa/TNP6i5dgfKefW/+MmmEQhU6b+cBDg+lDCCPyeI0F1Xb3E/10nk6eGSvT/+9+TQy+SLP/yfAmHgcb6/j7SFrmEQtL/pp7+4cfOrv8NXxYPWmMm/IghizxTd4L/oKexCiCPtv8aqk0l545k/39CmwYfazb+i4CFB15GdvwsOg7vl0ZK/hgeTGoEFq79IUJfoyuIBwE6aYHDow6E/M8DzbFNlpr/DeNahXbWZv7CnKN2Lyde//RsQVSUFtj/bVnuv9dvHP3Mrv1bQc7Q/gIXLbfOOtj/CyvIRnuTdv8ZS7g7FdJK/gbC8K/Ax0L8mAhR60zKTPxKZdvBCSdq/4/wlulvaqj9SUinxvnRrPylw7b+CwL8/X/9JcO5mhz9V2qBTwzGmP4rv7whMlXY/pLI1Y+P/wL8s2vWdzhCtv4Qp6BEs2tG/w3K9FQ0AwD93TacNwnWaPxGkJL/gZ6s/tJdZ/sufvT+GaVtqzZbZv7qm6hYh/tC/tnF+o9lA1b/CQ1R1YdfAv4BvsB5GjsS/48D4beEfrj/yirxFV27Qv9UvVReQDRDAUIJlpEpwvb/Db4AOMcq7P+SJX2H8edS/4l+ujxBj07+WxJYVdWnHP5DA458OGLm/97SBQYU7wj8axYeRfOxKP4NzRBOrU7c/Cfk10rhQwT+bRgVORA/cvw2VFW17r7A/lCet2szNqb961PsjccO0P7kYOg6YOLk/qzU+UypNvL8NLkW4zFO4P1G69oL8+5a/51TaPqHHnz9qyWSRCcKjv06OuEXkQMI/2g9zNuLbwb/YvI9XfAepPxrt+Pywc3O/jjYxnIduZD8l228EcF2JP/kLtx4UQ7c/vzmBdJwMvj90i6hoBqujvwnuQK/sa7A/zqxkLA3vy78fq9ljsNC0Pw15ON9k9rE/HUtXXU5Otr9GOWsvmjt6P60rhxNoVaW/lDvDNYeC0r/CPekVzqTOvz+qq9GgWtK/BxRIw57lrz/YV6Tn1KC9v3av+/dfqb8/uf55pJHlkL9T9aDEBTfQv/QTutOzx8U/l6LnT8hPsr/TLT/maXa7v7c6tACSp7y/l7ayj2tKqz9a58SvJffCPx3xJ6YSAaM/w71lwxsxuT88CkIRnCi7v/M0libZuMy/p9987vqDdL/C4k1iSVauP30nbPYi/qe/HExCrFgulD+jtOq8fYisP9kgOtt4Iqo/sIa8Vh7A0r+eiq18E4vVv4T0759mV7u/YRjCIBdhoj+dVLcRxirBP3pBdUX8Jbo/9UarViH7vL8j9xc0bdyeP5iQQmUB4tG/7LPDOj8Il78yNE3AW4+gv92mOilXorI/bKJwBz+dvb8m2tk0LqG2P69westmfpC/YX8tyBo9vj8a49xqvzK0vyfk9lRDQ4g/yM495uWVhL/fRg9jkZyPP/ZAYb3mbbs/zOqmRiCMqz+U8qlyg4qhP0DvN75rgLC/SnBY0VW2q7+BXpk6BDOvvyEdMu8OuKs/mBZgzM8Fq7/5P13hozDCv028kf1H7pu/ROzW0+oKy7+rdg/BPOS6P0K/5N3HyJy//R11ge6ntL/5lSjhj4uTv48gBuramMK/qJPhkIkGkb+ChbZtRdyLv7bnwG8a3Hk/WzFI44cAvb8IK9njRBaqP97i41ns4MG/5SqpaKvpwr+pCeQZ3mZgv3E9imGRGJg/SImro3Rvs7/Nanu4vyDDP9fzftCDr4y/V2DujpJHAMC65EKz7MC1P1suJEC+Abu/HzsFRIZotL8X+iVU/HWqv2kn9TQ3v6k/ek2rE9eyVj8pAZ5eAZ+ov1Ugce0fn+G/jhtlau+ItD9J+rE3jmDRvyQ71uyTnda/jLOz9Xftnr89kf6ovKO9vwuLKclmFNm/bB9E7SX/wb8b3yn5+lnFv+p05rJzb6Q/kpRhcXhVmT8zG4N0oIysPynqudOw5Kw/X8TR+5sXrD/pqE64AS/Cv4eQN5bigLI/Go+iI6jLwL8pDoV6bva7P9QwLFF248K/lkIG46rHyr/gHarHOFjAPx6VPOrsn7E/Hi9i56wt4r+NKctCBW2SP4hbpOzT9Lw/Q88fM7hvpj//Lw7CN2m6Pw13uLMDeKm/URlup2xLuT+QvT8NovGbvxO144tPVJu/rse9f/AVwr9O/0045GvEv9otWpkRVrM/7eErr2okwL8TwBjxjdqWvxkR1NT7E3e/QZbJj2sHkz+ZjwVqr8zRv+H667yyWsE/TqThnxXu0j+EM96rPWvav7f3J+rjF8e//8LbWnwY0b85kC4QlW2xP57sobPuYLG/FkfxaL24kL/WzRP10YPRv6Obq/YPYcO/yEImk1KL0L+Odo9Tu+kAwGYAhv/u02U/GB3KQQpb0r+AhhYNovGbv3EwnvFhi7q/k1/1WgHpvb8stJkD7Iy/vybnW2Wse6s/n5b6Hhq61r9T60Ub2oLVv86Q9KG1+pa/Uit0OMP6xL9GU9CH7RbFvwcu2+zS3LQ/sXsQELa+lD+Jg97FeainP1TjboAyb5G/YPr2iVQZt79Wm14FRaegv7CLehKodcW/+3I0MD3qjT//vSiNYsOtv9JRqoKQyaG/lYVXfTmjyL8hwgJGTu29v3IsJ9NeSLu/+brzdroYtL8nSFxzRyLqvxzooueFOOC/R9kn3Gflk7+lGaGI0rHRv6sBk9VEDbI/vMOCuK2Joz8uq5ERDeS9v/uCDEMPyLY/GXUbjxlF0b+TaFkjt1HGv4Lk8aC1ScQ/Lwdh+pCR0L884bGTjmDAP6Trb6IyYZ4/B0ulqJLEl7/KnEPhXve0P6//mQBuS6u/wgkFDB3Ci79bRXG76KHBP7Xu+IR7tMq/SPGagIsOp79ODTuemSq4P7/ehwqJHKE/0zYt3k4hwL99Fs5gL2a2P9FyCTzX5qo/rhyPfDzFl7+xX/0/eaa7v8w0J2QW1MC/hdkGbM+/yb/LNCo/aU/fv32/tIw1BNG/J0qSG8IDvr8tVM5BM/6bPybS/1crGKA/xthh/v2pm7/rjjCpmMK1P0ENSZWQTn6/1ayFEgw8vb8f4jJxREu7v+Kt2NZl09I/U5dlBnQXrr/3nRQMTfZQvyEA+v5oWZG/8YOQsTgOt79PWVA3tQLGP5GC7TNKH8k/KPuXlcp+kj/Z7MkV8HuNP4ZCCAKTR6o/r55Vc2NN0b/BG6UM5cnSvyD+20UfV8Y/XcIUCGkUwr/Uc3eI+2KmPwOVjg1AF8E/iX0uFeCJxD+sSq8xcfSDP8RGa+zmGYq/W60tV+gtk79gdpBlZsKiv84mlqgyPcO/UjgAsV2UnD8oDgivKK7Fv+U6gImpirQ/PtxZJhhHzr+oYlYPr5m5v1aZph7Qgay/eN2w85cvxb/kFDi20D7Rv+jD5AVbx7Y/OcaYdcETvb+cWy/j4LyFP2/iIwARU5s/sasIR0U3ur9fuk1hKai6P3iBgkZq7rK/NzfjQWtpuj//pJiK6gi6v1pzkPMTOrk/nSgWzOf1xL8wKFEaRPWuv4LLTSg3NM0/NLlM+/Qtwr9iyUrkgrrHv/BAq9YhWqK/CW7JEbonDsDukPdA2eV1v+17aI3PUtW/lF7gEws4qj+lP5/7whLCP+jSu/gdiN+/Z7IgjRVgsD/8lLlsp0uwP6LpxST6tKU/HpXZQUzYvj8TxR8dy0yFv+w+nXAfR1s/hFJWGJhktj8P+jBHeBKZPyt9NfpaAcS/2UJfS5yHtr8A+5rvVHLSv4h1xNBFWoS/R3ZLjZNBgz9kAxlOEZGiv1Fq9pZlxb8/d63BqE1fsT/PDIovire5P0OnxztYGsy/E9JQY/53oL8gANIfZLezvzeiHVinhMu/uByL2rBPrj/fm2ke9Q28v65tO0SYtZ+/BxSfGG+81r+Z6Oc24auNvz/iyTuYNqM/JRodc2Ixo7+5X/QmjjnEvwRciEHFl6I/zyWgHU6Pwb8zBssUfy+hP6Bitc9OY8y/0DOEwCaJab+HJ3UlIsrLvy31ECR6Mc6/V8Vi37Cctz83GXSm/BW7PxkZO/9m5LE/fuO5I6jLwL8pQ21pe8qfP0LndjuwVcW/c44d3RyTD8DT4yAk7qe2P7QHOHR57ai/TWiePGLV0L/Sjn+e12Oyv4Zu42Rzs7O/OYPhvpNcvT/KFLAtBcKgP2QHWu+ZqsM/tJHePmoqwr/ZtuTLwmNVP0jlH/ZB+7o/pT5apkM6qj8Qu0dqigvTv9DAYIM9iZk/KYVz5uRbr79paqJMG2zbv10/iu/P5KG/YLYLXFuXvj8pTQL+aJBoP0BidXDIn8a/OIfL7jJNsT+L5q6Jgzmqv956YifBoK0/ZABVqEMhkT8bnDbkpiOQP9ZAVJ5lGqg/KfmVw3mOwD+/bKJWs5bXv1YuKu6Zlsi/FjNlAnLmwL+Y5RruYB2uv59hVZER/wPAlkiWisrKpT82q7EUJMrzv3cCNyvgNP+/pklrOU1KAcBI/qesC1cAwNfCtOiupbQ/It/f+Ba2oD9I5CVkFtTAv3i9wCiGNcK/Dt6qWAHYt7+AwpLIGZK0v0Hc1DOF3WO/AZkorzb+qb8NmLwbYZyMv8Sz3ABQWde/Y/yjHD4Pn7/+QV4xc52OP0HqLoTuC6U/SCZ+RzrTlD9cZardKzGwP0qg+PQ1HbE/+EQ4nzNwwL9w3V9JhGG2P2TzbSs6WMC/5tZvNAYGhL9zxOF4eGe0P4t8x9oxfI8/LB9QbRqDmj/kiFNRC/StP4XWNWZbhbE/VWXPPxWZvD94BUK801SyPx0pecZu06Y/RpA/1a/yrj+cJU4YJduqPy8J78UuXtC//Q72RmLr0j/ijYMnBF7Vv2XW+zw4b2G/d2eiSV9Yqj+Bq/WYSYjCP0wPl9EFXqg/HSgOyTkssT9O4XDedkuUP1SqEtJmyq+/VfIZndtvmz/kBCYch8IPwM7azXsqVaw/iiUAjNNMoD8VIQbREkvcv4rx7Ag9Ksy/7Z44YM18lT8EGmzV1y2YP0QHpyOefZ4/HCLJT1VFr78tnVXkIsqkP2Zpba0/1YA/kG5/9aA/sz/VXU4sIT6jv0MW0qJikKc/1Ubx/T6h0b9daTH3hp2FP0ojta+S250/ZKfy7W6dvb++ZtV+2pm9vwPxCQyrjLW/WVddKXFvw78LCcpDv2u0P+FhaHdzoM2/N9KMKLK1tj8rs9cQ59IwP0E95eoPrpM/vFBos0yNsb/WZDQ80ZjAv9dBDRWoJZq/73cXvnQIXr9iDVF4LsaSv7+EdQvUxMM/sfzk2k9pvr8F1Gck3t+IP/LobVbCwsU/BqU9AzNmo792Z95bs6qRv4nTHUAXMMy/pWOR9uuVpD/bSdI7/Kh8vxYQL7xQO7S/hvMoTSJWsr+loKzD1Hq3Pw8LV5DFf6q/+Hb8/5L2DsBSKRh6uK3OvyBMQINeB2Q/SUgPVKstxL9/IA2TsMnRv5YZKZwmJKg/337fUEqvrb+Mtu4Vm8+1Pw4eesDWybk/oCAk97SYqT8xPULsxxa5v9wX4pJAe+G/yraXRxanqz9yoJXj1xTGP1CzwuVM6KY/zVaOe/kOcj8NpxcpUe+7v6O5OMF1KsO/UNP7HBV3pj/U19SSSnG3P6uB97cDEKQ/NAkq7Ebutj8ECXQQnpzDPyOad53haqA/lCqp85cvxb8nHDAnkUW5P2JO+gLeQcY/A6xIla9WhT9jNQdsmniuv1E2zmaVF2+/cd3tGgFAsj9JVQs74YKJv1uDIyktrMG/n+/YWeGDoT8Rx5Ijh0+qv+gp75idUa6/DUGEf+Otgz/x3DTm+Se4vzkM6C5TK7O/rwKmUWL1ij9WzvMW2BS1P3cZluBRc7+/rfpViiWauj/1q1/xKlxov3/mYgPZTsW/+Tm2N8KVxz+uAFK2sbyTPzSTWDiuHaA/52PVZMbQbT+aJSCM3ebHv6MNv4M8J7G/uyaWMhegwD+BCaeHnhXNvxlF4yZNstC/oLa/UVbCvj9iLwU0Od/DP2xB/dnpALW/5ksPgqYy0b/NmX4TaoaqPxUOVUe+rbg/t90u41Qtpr8Ha03QvVGjP+3tTEf6zpK/JBx0IEylqD/PuoTyz8DRv+NChGFQp7Q/h1yiX9Mf078k0j1TlEXQv+eS/q9tMpc/kIsAmGz1rz9d3PTr9JGJv/AZa5xT7au/svpPiPUP078Px521TI/Av+sUedbSRtS/R/NiR8IQ179xGcmqrXrBPweY2B+FxMA/jYuoyM5bpb9bCR+ZNnHCv6qu5tJu27Y/eWXRs2kRoz/39Sci9dGvv8NSiYDPH6E/PYnULHVYeL9AYZO4mUekP45EtLRy7q8/FDEom07vw7/0Nn3LDISiv+tYE99AZ6O/7dElsYi5cD8k2Eda9eTCvywveYxUycA/9VIi87cUtz8PLIR93ii4P1KYDWQW1MC//DE9jcpYk7/NLwqB7BWxv1JEOeugLl8/UXvCUQve278rOApuqp7CPybnMDbO/Jy/bq/AjHC9nD+X0F0urjG2P1PeTAduo52/YTniZLPgvT8jsopevszAv/nKy3Iwsdu/h4KiDgoWxb9PZ+qj7/vHP9QHNhyQK4g/pbF6lsy6oz8AMKYCFhCXP8Djwk8Rn5a/cr7YXpL0uL9TMWIxNuujPw3w5F57BKQ/kOg5PxK6tL9YgFwraI+gv5C8JieS8qU/GVeErNbv0L93Zy88fFqbv0RMqD2xrXm/01t0FBGA1L9j9cvifbe5v3DtLbpMOLU/sh/TPoQzyD9qDmV445GtP79vHfznCMQ/oPTZD72omb+a8AwggYvWvxkpConFGLA/96iV6wTbmb9sUssncbnTv3CqpJs4NLo/Nu6stfVNmT/zCWQP1P24P99asn/JgcK/gFx4HbWeuT/e0VtYnhOzP0PZBNyUEaw/AgAdZBbUwL87Sof2vV+bP/ju3WkzVMs/nqa/1/tvuL/SV7s2917Yv4bdYVfbbb6/U/EBky+EpL9gAEV8TLibP7rPv0T/3Nm/gy1YpZEunT/kePg/I7jCvyLfXdQS3MC/A3gMgWUvyT/aZACdeEqzv13fQC041LK/+jFWgOOdsD/zGukim/edv6UeImQW1MC/qYPXPZlZuL+5Zn9MhoGjP89SBQ6i8Zu/6Au+d5Tfkb/6Us5m5nu/v5ELexwEp7C/tgfMWIAX0D+6sIHOJxqdP8cFVtqdnJS/wYu7hs3twD88xLT1O8WWv9d3N3h136Y/5CRX4VDnsz+YTW3zaw+8v/8+QF2PRqO/1TkLc1iRsT8oLVOg9VTav9unrfO2rsO/0REhirb2sj8NQY+xpHalv5mt/F0mtrK/1d5G70jsqT9hDaXPY2CuP6ofHCpXyKO/cUguZBbUwL+mC5Q0NTCSv4ha7CWaRtW/XmIKWnpKv7/eFy47nK6qv22321hr5Zo/4Q1rGQIIp79oXEm5HEuXP5RXWc/aBKW/kIQJOn2hmj9vPYjRExaXvxBvW5gWGbm/+q3rXSgQsz+sZhqCkMmhvwi75dffw9I/1CVL/4z3xz9MX9gEVltzv6rRVCVWqZ0/J9xneVxLnT84xmcSmxnUvxi/+fFkgZM/Yg1Bfhfzlz/HzlwUpYe0v6cxkO3YBKY/Ikga7T+Koj/LOdZV2p+nv/jUKPhdYdC/1fDhrHOyhj/urAlByVWTP1Kv3fXg9rm/YkrP4Lb7279ebRciAhwPwIHTcDWWvsu/Wg+/f3TaUz9ndpdUq8i1P+bBDoxqsaQ/EZ28gugUoL9F+YObkMGvv9bDXYQtMrG/42K1+rwBuT/Rwe1bu/2iv8j+fQU2AcC/okL27APr0L9Ri6lQ6Qcmv2d6pO742ry/DNaw65c6qr+LNwk6ReeNvywPoZjn5aA/hDVOWTjYuj/hTkNMN3y2P2HBnd7qQdG/VklpYYMg0L9WB5rgKvmevxeWoj0pcrY/5Bv6OdO1tD8gkz4eELifv1dc4aX2nNG/rhOJfRKEpT9NIyDDguCnv1PFu8YqS9y/u6FS4s5kkT9GBW3seyrHP0/5POF1N+W/Gx7bXSALvT/DlGZ60tOqP7IX7BHtvbe/L9VIoNQJsz/Q829UNBqjv++QJ852yaQ/2snVqr/RoL93vkaKG0qdP4a5Ul+5Jq6/xUTXA0b0ob8Fvr2LEaawv6+aGmNLI7G/zz2eiMAouT/Asb9X3CjCv5/JvJ6kpbI/pisF2jGLVj+fsQe5qTZ2vx9e1oQNp7O/AtMLDKGwur9KF2tikyqfP+mqFFTZk2u/aSRX7dkPk79oJ5JPaJ+ov7LNx/8cBZ6/cyBvlzwPsb+yTGpqu0K5P2XbSlZmTMC/ftyjp55isL+8dX0U/hq9v9RVHQeLgWC/OcsUNd8CsD+BQgMgouqwP2YBwXEFoLu/YDACWwrGm79OUdBWtPGiP7WqzvviGMW/5fcrUNI/3b/N1pLSdZLev2GcPHAs1dO/0e6ZdwVjpD8P5D83en/ev2zH/soJ9rA/9FmsDEW/pT8wFKjgCivAv0lZ5f+P9tG/y/ldBvojxz9nl4QucrWtPwzq3HwvTLk/dydVf0XPpj/P5PjfmmC5v4xqqN+Tq9C/8E3LkMUzsD9ytlGwlBeKP9DWR3WPJME/C0idQKHmuL8sq0t9jVvTv+Fk1xRo9d2//TaeR5KI4L+NolaotHngv8wgh2mgHOC/72mDvYhD3r/yBjK+qs2ZvxazxBeoScO/uLJRqwyKvb8X4VZfbGe1P6OMC0uTUJG/5S9X2awp1L9dJs2xGQHbv8nYLIzXco+/Yx+XU3Bu1b+RB3ST++UNwKmVZvhpcMC/p7zUQYY8EMAo2FLj1inBPzqFQ1ba7Ya/tJpH/fwP1L9QANZ3xn2oP8cSZhiSNK0/8OdBXJEa4L8PVYRY9lDCP/eTlruhX9y/TqM9WXURpj+gz0pmdQ7EP+zAju8Lzrg/6xwUUmoMDcCOyFFCpuKpPxC6NyRQYrI/X6MCgSrlur+uif+6hVbAv/rp2tLMEte/3lS36dRF17/10zQfWnncv9KYkcbPkOK/bIUuKyiQyr+8l+q6mbDHvyLyIVi20bK/TK5RnlgYpD8luUa5g2uZP74ndYL4INC/12YdCXuokT+E0WIHuAKxP8C1xgSWX8I/bPJ64pDdpz9Fpq1LqnayP7EkzKMiJXg/Dua/fCQOxz/ay2E8/IexP1dP+1UDjIY/J0w0MC8ivT9IKLZoLy/DP8ILhJZFiag/+IlqM1Iv4b8q90+AI8J9P92JI7BD/cO/JilhENNAbT/XuLoKTUStP6tqwau8RtC/x9k88pfHgj/Q7KYabe26vzBrPTvYpJ0/8F9D47Lbwz+AP/loAtjFP6C9EMGA88i/9jQMDjpDsj8pPnRd54p2PwCUn9YMGYQ/+su0KLTquj9PjDInpvLDv6BhaDePCsg/k5EyuKdVwb8jfZrGCve6v6bzX76ai8G/sMWglo/2k78/458TyWW4PzVVJaBITrC/Q2pmyFbbpD/CN3z3jBGwP9RS3hV2H7+/6eruSid+xL/YIB8LJJ2ePx8n8lec6qI/A9ym5gtOqz+PNFV+Xf1nPy7hIHgZFsG/NNd5wfHIpj/cac0/6Dq/v3iVKxBzw8I/tz/nc3FkwD8znWE9YCvRPwRuhnKwbsC/aGfzJZwFd79P8aKLNeeNP+wy4PVjXbk/xp9Zw7rhxL/LjTNo+c29P5PL14pPztY/kKMCXFC7rL9oNlaiGTnOP2xZHs4nn8s/Zl/0zYyI1T+0xacvRN7RP9+dm47ib8k/vkadLBBzyr+5i+ZDCeR7v9U4/UCbmpk/tvC9fAfftT9Ji6Lr/kqwP5NV7jRUBbG/TJePviH6ZD9kUs+jls2ov/ucjpWYlq0/crYDfPz3rz/ueU9DxlfVP+geci7JkLQ/UwBB7eI50j/CBnODH1vEv9HLxY7nVLU/WwHzSqVeyr+09qUISYXGP5EYieSYj7c/Q0j50Tq/sD/JwvAV125sP4N/nmRcMcs/+uT/2fEJtT+TYnoTx8azv1M4ErYNFpS/6mNcPDARzb+zd4wfrWlkP4SNgZ5qn1K/0Z5rtyhNkb9s+sSt0FzfP1UakCdDS8e/bg3+1LA8ub8deiK0ALXAv8JSMhwHa7g/jjjuVE9OrT8hT2MzIvmgPyGImkjQvdG/4fK0gLXGrD8WLQRYR3ytPztzqzlTQsa/e73HoNN2tD/+mPNfh7Stvwsvr4GepYQ/MiHi4Yq+yj8GjPQlWxatv3N/uZgl4rM/sx8CdaDo0D/ncEmpTsOVP1JBEyvam4W/ZN0RUwfpqj+CODg5JLRWP0BaR8QZv7I/Pawo1/Djbj8VvFBIBAGbvxWott5narQ/juckfO/Qdr9Y22xGO/iwv0birY+Jiqy/bf8ZI3zSnj/t+4Cldw3Av5Th+RDHJbo/iaCJ7ckE0D/OTUEbdxGxvybGvq1B6co/83s3BEKzub+eLX6eBU+/P4qtEAFMWL+/vC/9WFhXxL/xHgB2XH+8v2seXCtgN3e/KxEQxPdwqj8Jpn0DP2GwP2TeToO1XsM/KVEb3f8uqT8YF1wevLHUv7td5TfPyJU/PaTIhewjdj9TMM4Ili6ePzd9Jz9jE8A/+RypZj3Fs7/BZX2uvnDDvwHljm4wBaK/RP1QanN9nr/jWxpk20WpP1uZD3okpKm/vzDNuv3Hsr9a327//f+jv+RufMeZvLA/khNH6qMxsL9haNWX03uyv/bPCUpcicg/nsTTIHORdD/qT2PkNN18P2O9huUZTtK/z2jXPePGt7+ChWllYGuxP/4o/ObHVMG/YF+OcrJEsj8vqqC5DeuqP2HiFQ3NxaS/M0jTP0Wrxr+I6VYq0lvGP1aeSAU4+sK/PYw9yrfMtz+yie5P2xqUPymW+zV6v7g/A7dVwFTQy7+YcianhJiRP54lrD+oz8i/rkHmPElyvj/TpF+weq+gP7bKYrCUxq2/7gsVv+1Udz+9plhLeTnCv+EOYqhJfqi/EdZDbOeFwL826kt/Uku3P28j2P7Jdc4/lzw+GeDmyD9cwZS2IifAv32oZjzep6K/DIWuz/YKsb+Z6eqCiOm1v5qL3QJmeqQ/Gg9CHuEWtr+pLBb1U5PBP/3Zyknv76E/8dc3NEHCzj8yA0P/nJ9rv6M4usyXK70/JUIHlbhfsD/oLUw2p8c9P7uiViczXq4/jApYHaeAuT+by0kTQxy3v2Kr09zfWYy/RQPPFr0syr84yYSp4e7IPwRvUGxiV5e/bsnAE/3Mur/PgCcJ/aO4P+WxkkVgypK/Mux+/6hYsD9DVQYJzOm2v8WGQIt3X8I/UbbBVZuavL9leb+YkdyyP0ej03f7+ca/V+iTnUDFzr8TTcWNedGyP/kKwspGxcA/XNGgNh28jj8DraWXkVbfPzUvncoX2LQ/npg7aCipub9O0EiuieWcP9bQaw0zIMC/VMVE2PEN0D9Dz3f73uDGP6y0G64r4to/LtvRwZy81j/Q49RLBnniP3Fs2r9EyIQ/hSrgFli5rz+GfxncjcTTPxTJ0yWDtJ0/gkIpaZPD1z90N4y/prHXPywXAe1fkLQ/+sCvZVBn0L8s9WWDZf3GP3XGGRd9osa/2cZMbdUk3T8C96X81iXRP1kOmLbLlNE/07QxY7Da1r8sQTZU/l2qvyRhHQwcirk/1CcDBmvz3T/1NTcw8I3NP2e2w/+CR7S/Na6TaKYk1D8mLY80/R3FP7WnPK07t7e/W0VNEjEFhz+i8xdX26vBv1LEKzNYwIM/1lI1jIJazD9N2NsxeKWCv1hAUFXesag/Dvk88tlxlr8wO8dgihOnPzSyPIQv+JM//EG4CMYvoz+j87Yt4/vFP15XTg3VD2K/nyr7BWfjnT+j2HRQRgmyP29pyH3PpKg/rS+KFMnntb9K6mB4JVifv29ZZhIc4c+/TdbyRzRpsD9hs7hcT9XCP4jADNNGCcE/rneftBt9wj9RX8w0NNO2Py/7H63eAMC/z1neSreqv7+UblsFF1a7v/0I/QrVXsa/b38GxnI8rL9yLsI7w+mgv/1vNiy5gpc/RhxIYMG1vL++Rps53LDGP8gmsIVruZ4/BiWf7iN2o7+AtVZJ/+60P6o4a7QgirC/bJBzSgFztr81sgylJn+5v9S2iPccE6S/h8w1Kr8shr98AQD7CwitPzlNTA6SWps/zbQC5DJ7wr9fFHm3ja5sPygJJrNIWoa/DneTC7+Xtr/1HW8s8TmwP2V/2MjF2qQ/NRr+gZmqvb+RtCoa80eYvzo+hoM50sa/pYFLT0pCob+WhXQjZMm/v7s75Tyddb2/kYjPPIslwz8wnwDeuWfQv4fHbYsXg54/YV556vU+wL/5HjBixDzBvwqQVb7U+qY/xg3Uffsgo79dSQ2z9+LSPw82+eygeLi/cVTVsY4Slr+BJ9mtkWKyvzEak4PDj4S/asz3N9ICkD9AOaoj6p+pP3gTfQCHf7Q/TpweGsOMpz9MXvwDoofBP7oA7Kdv28G/FcHacfY/uD98qX17uje1v8ADCFDH8r8/18EUWPMPtD9a3NyOLz+wv46z4xg+R8e/sURX1Tfrrj9eOqoBhBeyv+7ZrX5n47K/D5qa9h/Tsz/EQjvoofzCv3FYQT8+BsC/tAnzDNILrz8nEOK9tPXOv8ZAMOPlKdg/hcRhk2qDs79+cmYDqJ3Gv3HoGpzAQLk/zuS6hIDesD8CjS7j9BOev+Mu4LY7Dro/d9t5S684yj8O4iTUXsrAv6z3YkOO17W/YQOaIWtc2b/TANGwG9OBP5CDwThN1a+/3IMY51cOqz8wVr7imPukv5mWFxUN1MW/0TqfmmZAvL8EgpNDsrHLPw4cAMaYZLU/qowyP2OYib/63nx9JI2pP7Ujs3WvuKg/4ku9GhsjrD+8zrrOzie6vwlnTn4TIbg/a3bEkop+nj+JYESera3Av7KBONYLk54/J1Roll+tqj/7/Nw3W5O4P25nuopJt8G/zaFJBFRpxb9vLMTF9JW8P2x+DMBBmLQ/IcJMsnkrwr+UoINP9wvDvw9VRMczkpq/+O9lFKdTyz88Xg9GOB2SP7GTbf1SvKS/sSUIwMOOsz9PalY4RLKaP3r5143jmLk/0c/eCBVXsD/b1d52YLStP8jeVs2FP4u/ONujk4uAoj8f5g2mn0y4P7CoMonhJb0/9qAfvoDq0j9q9hEz+SuBPyiiErD6XaA/y+as94WzuL8tMqydCfKrPzov23u9Y7s/97Qw0VSAlD+lz64e1L61P9shdoiswcK/ktN54VlRtb/9/GCgEhnIPxFZWbh4qLW/BVFlqbU2pD9QW7BfWXa8v88Y4rBkRbE/YVDQbWiQyT/KtF7e/oJ8P9O2QHmK6MS/nGVdI9luwr9hIqT8F0ZrPzOtd/Xu2p+/fxc8T6Rcu78sm1vdXp+kv/41j6/gXpu/mT8UmvPDeL92pmJONwa/PyXiBUUZDr6/PCpIPCdksj+3wP+syKl/P2SFcLsIRaQ/+Ov44AXEv7+5o7Ulcgq1v8dWENU2t8M//2YBn/Itnz+gok0jyTuKP/lpj8AWR68/ugkjmhcoyD8eF2VnKZXOP2atmgdbU8c/RKI21B6Xq7/7F2ptReu+vwqd2IlhlZA/FOzAXhJztz/DZ8W1J4PMP2Gfik3PE8G/KK7GpAMF0T+nZiAHTNaqPxOa6eM1u6C/I9MrmQFUvD+qQ/t7s5iiP7ysnyoPtLO/PfaZn8DuVT9OaKGE1bu5vwNM4pMt7tM/JL+j30+bqb9E/1HmKQCev16jfhLij64/+imsoKg+vz/IksaCdyq0PxkxmB8dXrI/oNYz2M6qtj/0Mxj8ACamP55sZgV3Rcs/kdbtY/h/nD8P+hmM9GTGv+dEV7b0LLo/uI54hR1ZwD/84aJNU3jDP2YCCPSPKKE/HoEO0nZ21j+3JST5RMa2P+NbEbWmFr4/t2AemeMMyL8ZOsBsPIfbP0BkQjmlx7g/UCnL9ohizT8mA654z9m+P8kWTG0p+9M/9X6O5s3rxD9hZ2Omri+9P1O+YGNI9qk/efoMnKKm2z8YoIn4t77RP91En58decg/ntPvTS78wz9i9KDfrDfIP+dM+iR+q6I/tiYBlxs5sz/Nne1/Dwe5P/Ntfe7F1K8/P7TQj4YlnT+zUsY1AslYv8gB7HSNy5y/plkM4Oj+s7/r3wIVhWmqvy78ZMQN7rU/LleQVHQNtj9cAdCkf0ulv8/gk6ZJvaY/7k0yp427vT/bzSrWDfigP2+PT50ZzsA/RluwpjOJ2j+5EsB9PeHbPwDpa7FYSLY/9Vx7PaK1yD9KiNmGhGu3PzfBU2j7vsw/yXsiFvsPir99x8uY66fJP/ek2H0nj7A/2tlWkx8soj/XPLiZ5SXDP5Ka5KtPjba/xKGbuzs80b9MgIuPap3DP4cSj3ROmKU/9vyHtMBQrr8Ow4xTIJrUP4PhX9t3N7U//m9YrungvD/ZGRi+PrPPv9zCyzy0OMA/uQI0i5mc2D/WqMnJHjyMv7kCqXcwScU/JsqtbP46tT82GOFIxzvRPwdBhWbketg/LXmIMslhsj/rllCqhmKlP3Ge7D5YGss/aGShnDCyrT82u0WFfWrDP9BygNR6EZQ/BQmF35uPvT9Bhv4fH8rCP5IhxPLX0sI/ikud9It01T/kwgug7/mov4DNMX1oeNQ/OMkY77NLsT/RIC7EFcGkP/fchMsgp70/QmEnqjTTpD9tfA9UNZq2P7y6cmSN/bE/UjsZ8itDvb9EtvkjlZfBP11JBIUBwrS/OU3cFKBnvz/0q+bBvnXaP7pTgOc6Zc+/rh8Y3DEb1D9uIcj+tCTCP/siOVQrg74/3kQ3tmZI1j+TE/anb4zZP8lLnyWUwKS/GhqppLSxqj/qmfWqjjLSP1WNxkaeNrO/xjJ9zo8atj/bKib64RG6PxHx6AFidr4/0VDkk5ZLtj8AbSZx3JWsvx/b1FreHc4/8HnxoHjy4j8+MN92QyDOP2wzvI7LkrI/XSvaUf/ysD/SkcphZGiyP3SXB8mBfrE/PkGmqmOttz87/SWTyCPOP5UiktAOWbi/O+gSPsGFqL/77Hy5srHcP8HpgIL7iLA/fj6rkTWavD+a7RTNgimzPyU3H13Czao/wtQ2mxc3sz8soN7SSg60P94GvDWhcbg/ZFV6EkkYzr9Pu7rc59WkvxgQJGlr8rS/lLmW5LuTvr8FempWdCylP5t9zlOZUZW/puccgfONoz93eEW3I5W7v9uP7eGAb8e/rcJppUKsvz8MmDA87rnCP272v9hrL6K/L7K3Zg/Ioj9pgru4bdiJP/2B0y4LMKU/5wfE9637sD9ACXxyip+Tv7lsHckOUqA/MVZHZya8u78aCIwy4ijEP/x+3fO13w/APVbQiHkLxD+0U7/KV9CyP8LK8Mt5Ba+/EXuQcJu8wD/7Cm1vhyTGvxBzMNk+4bi/ug7MCEhjsb8ieGjrmVLAv81W+/gL68G/+xJhME8/2D8xd5fTiJu8P8txnv7OLpM/1/2RRQ0StD+YRHweonuYP9LhiU6sVIC/6+UPuqG1ob/ujw88ywq5P7Y15IS2ZKQ/VS1eEvgpnT8lyJD8damUv1pZL6j6eLO/oSs2cldztD+8PbCydAjNP4y4TAKYnZM/OX/oEd8XvD8yJSnG+ga4P4HIHy0+/sS/5/5PPsM7nD/zIkkspWq3P/9FQThhQ72/IqSNLWrNVL/WEB9hnkzAv2i/6UA1ir0/iSMQZD5dwD9Fm07+NGy6vxZrfCIRrrM/JaoeIWTDnT+5NaddOYK8v3PJpW2w0cG/C1YR3BHMgT96r0H4aum2P1wEkn7mi8e/sOFiVwJKpj+CJ3syJ/7LP+7HvgPN6KY/V2vjw5jBtL8HzxPb9gG6v1ipFRq9dMi/6lqS2JCy0r9BuhvvkVm8v6MqztDoTqk/OwBx5RNH3D9riQA0npOUvyC3RQ4i6sQ/61l0HrEItL+foIVHnxyov8QsEFDnjZ2/HKIWC+4bkz9l3yrRMsTAv/Wdj1W6wHK/szD6uZjzrD8RF5f75SKxP9Tvj/sILcO/2VB8Txx6u7+wzct9FsWAP8nHb/f1GNM/Ez8/IDycsj9S9HguFEa6Py2r7xzGDbC/N1DcOBzKqj++Zy++HkyOP7xG2A9gd5I/6CGtJLThgj9UHK3ouIRtvzeCfhku4Zc/ubygS9Phub8aqxobZ8adP5KoPW6aGIG/wDh+ulUaQ7+Y7TYwu2+4v338G9SLDrm/d4gv6LVptz8BnI+wRH+nvzHPi5Gq3bU/iOE7+j43vr/ZU7vQ/UrHv1dh7iQ7AMI/356t8m0uo7/hNr6aVem1P9KprrboO8W/mh+xOtjxsj8dwyVICCe4v0Z+upCuK8o/9/RxyZMSej/czi0TGE2ZP7xL6URebL0/06lSFlJxrj/85xRozc2uP9cJr0WW1sG/FVdHapoUzr8BWjIRWJS/v01v36mbE4+/KSx681QDoz9nDfF4zoe0v27GxmwcQac/tZng9x4uib9MsQWUvWCSvwH1JdBm7NG/BTxlJ+Xw0z/viyNQqRzDv/hCyCkyy7S/3JPQ44xc2j+rmkuEloSwPxnsl5u6C7I/3/IHlJtSmT/OyS0iYSHJP9stI0PVR6a/89qJvOf6eL+Mi877zhqzvxWfKQduxrU/cOpwfAQ6rT+g74IJH4/KP5aQV8yV9rI/jrFTGiJTwL/Bkn0bmDaaP2g7kHkgNJY/3Stmfi3GwT+DyPzSOaSPP3JQP4BR/L+/jC113xDh2T/vRy4qod61P0Trv5vTLMG/ujBQM59rrT8kfVBCvAirPweZaotNc8Y/mf1Qoiponb+2B1ASLV62P5p+AwXKi7y/HYr214cGuT82Ab9AeQqnv+Mo99YS0L4/7ubHIVqrob9QYbt3U7DFP8U61pW23cC/Za/GMHrJvz//o2nrH9jCPxqyxwIJOLw/TYcXQ7cR1D8kCHdVaCe8vx/6kKmNUsQ/fwlEcd/z0D89rDlOs1nQP3hHp0iD2MG/1ywMnW5lxj9IVQvihQ1vv6YB/lmxMMA/lfoxbDCYtT/cpPQlQQLEv3tccnLRi7Q/J55D9blRvD8FTvEASbPJP7Y9/8RCScg/ipT8H6y10D/MZ8pcbUPCP0dfIY4hMMc/zzME5V75xD+geqY1UFavPzDa4lOf1tA/Wlq8pNIRtD/cig/hDRyyP9jC0gV9bLG/JiBTk7P6sD9NvFoLIyervyblDqFVlrA/2SRE5UFNh7/kLzrOQaKjvzsZRJ/DOcg/mOScdhaqp7+L0EggKt61P2qM0hXCTMc/AV/E872TcL9G6OnTixLHPytAjoHOyMw/yKN3fgS81j+lV4kyyEjAP359ptgUFcM/pVlwZm9vvD9ZEt20kb20vylzIFFXCcS/zxIpMAP12z+YcR66MGDQPy4/8+C5kcS/+XJdmYoZwb94pZqLRivXPwu1V58dV8S/9xiRN1Yd1D+FFjHjNcvWPyQlDzHFt8E/gZgmk7jEwz+tifScgUTGP0LBuTrcK7g/S+YcfUZ4tz/JzrQUGgfDP3GEA7ucoMA/4oh3D7XC0L9yLAanjdzAP5oxu0TLv8E/ebMlK7Lhoj8nrmns7J27PzFS55ECIdE/kITW57knrT94hBsfRFvCP934hGOuqtI/LBB+fHqFrj/yGsU53VfDvy3vBYIFLKw/Sw4fDfIYpb9SbElDf4qwP2nAS1O0V7W/HLZyayofvT9Ceul5jwStP8DPL2K/8as/qL6T3QFnoj/3GWp3evDBPwKc12Nyb5K/dG62smW9zL+oV0jZSumiv2x6N/1tl6+/9vd0BkF20D8GtHWb2W2tPxb3N4JhvsM/TXzmoeYqsr+WSi+bpYPRP6nbrYevINg/Yu0XyKBru7/MfQ09g8nNP7e92J/PL90/TrMWcAG7sz+By+bkoGbZP8TZCggrTL+/dMD6x6XOzj9qnCF4pOHNP96cneusV8y/reAesvSXxj8HhvL8QmO5P1W939TXD7c/kTe3KTaJyD9shVt5eJaRv0E63vp/eaU/5FhthwQd2D+GgUyvdLbIP8+kcYEYVcK/66tYdB0P3T9JgL8LT2LgP6Q+9QuvtdE/DBDeg2mqeb9n8cW8Nqi6P4sPqh/3GMY/tdwsPhKmwj8h66B/0qnSP6FVBeO3uLY/AjmOIQjHur/sdpJh9dO+P6sXI7v7/aY/Rjecn4OHdT+Cw+UEwzTQP2+3qb6g+rC/Z7LX6ZLDyz/poKuFcJLLP1IL123eOeA/PXn/3/Ho2j/QeQuFd9zcPz80bp6xkqM/yGlVBpu4kD8hQXkR4rOVP2tB0D74nOA/6twIw6v4yj+DirJovbm7Pw+y+81RcpM/aMIEzxogvz9WFnKsG9TZP1ci46T8t9g/PAlJsHtYvL+lsNSY2TO0v29fkLOiz9Y//jISJytGpb+NK6hfiHbNP0VA2oLGE8A/rTqer2lOkr/m9Fnhw0bHv1ogKp6Bask/MRmqky+2z79LLu5aksfRP8ZoxqQ9dcc/s8wwwVlEwz9Mf8w3mwrFP6cf7lAZcdA/QYVxcglxzT+SQLygdwzBP448TFIyQMQ/Yq7tSHgwwL9+Aq8iJkW3v2wmy2JSFr4/hkSA6Cx0jT+KgRD11S6xvzfW89Bch7K/WEJNM1mysT/MgGth4dkUvyRMKsDwr6M//q6O1LjfuT9g/X/iUnnDP4jDsjMBZ8I/zG00957kt7/4M+loJeCuv4hWZlGbB4m/cRYy948nvr+eOtsARnLBP7wMVV0qsrA/g2wsySIjrL8VIXaK10y9v5GsehjpHMG/C9MFhxZT3j/BmnM3EoSqPzdydCIoTLW/FdPuyF/EsT89wuN+BZvBv9AKfjRPAE4/ZpBjBim9xL9Ptrz3sInIPwZEexR+35w/MQK+fxHOrT+HpJXF3HK0Pzo4CvDt43Q/yD8z0XLAf7/qHu7j953Qvye2sep4H9A/smhsejlxw79nxkWQ6eqaP90aQ+ARXsK//I3xX0nJxz85T/UjTSTFv+xOw1za+Y4/pJkSdIvGvT9WvfX1AMF8v3MDnmKtDKE/pPNMgz60qL9xH8xvwAynPyoimIRb17o/HjE01/40c7/kEmwSNF+6v2+wPnmMcK4/un72e3rmxD/+WuifTbmpv2ZZeVWj/b8/sVGmyIklqD+6QXfVgVTAP5cV0q78asA/PEElFrpQoD9+NFvHMjzEP4zvhIzloqC/qkApBt8GpT+8VIGLq62nPxWq67nSaMA/SDzx9w423T+M2eAe+FSgv4oxn4Kj5bY/sqYsAO19sj+Vf7idJteiP2zUVbUT47q//+xUzBn6z78xctMJgBbSvzb9bJcpXpc/FXrxq3Ubwz8O4c+ApBu1P8aB+3hUQMU/ZE9IHpe7jz9cBJG1rHqxPwXdZIZDxaw/jFlBz7dXaz/KGgnW1SXGvz4AxdOY1q8/cBpuUIvAwb/52apkikOyv/J5cPSXV7c/abwfB+NFq79yl7txTXmLPxCXsqq+5ca/7Tr3NjI7yr9UN7ouwg6kP5kDiiMX18w/T5ktd9ORyT+Oc12nr+G5v4Ehlzz0kYI/ZOMq3samqz9CPVpZjyqpP3v30h8ZSaY/w66WlH7Rsj93y0CDdRGtP8qllBeuV4S/SI7QyapPvz9t8pRM1tm0v6uBDKgCCrA/o/2xN09ewr9G80Jhjaadv5G3NVULja8/LVaneTlYpz93QOtGzi+kPwahaPc4+J2/IecR+Funpj/mXwaDGUmUv+xt6wnnbsC/yQzbjW05rD/s3S9g78JSv8pFCLbH96K/LfDODUuuxb9j2aogPsXePwxtUUmD0Kk/xseFJ+1PmL8QE9PMx9HJv8l/XmGFS5S/0/yF6EPhsj+Omz4cwPO3vzEWJR/hS4o/7wN3sgYQsD8KFeuYy6u1vwMOfLgwf6U/RBNvvXBBsz9U8iyBAki8P7sLeiNKOqE/btUNKUs+nD87Z/JiJJumPxQ5cLsowcM/IFQqKHjOpT8bAYvxHKCzvxLyeEvcjqu/LRW1xMyYub+CjkIA68SdP3wLQCfaCpu/WyI1k12rmD9B8CQ/YXqfP8Wkh8pwIZ8/8C93/0x4qD8iViYhCQOTv5xDYMrp6aM/f6aW/ykOpj/R2HPnwgtFP49l7Ax6NKQ/c0RGOwVpxT+TMjFf/vnCvxJQp6LrDsi/EPCf/S2MxD9mQIwYP4vIPw5rnMcoD2S/Img+I+0wrr8m3IRPd7qsP2k78sWyEqK/GO2gxzkvZL+1q+mAi3GaP3o6l+WoT5+/Phqy42TSxz+SorNW6US5v/K0hCWRQrG/m0pLJAv+xL9qihkXEx2kP45i8VOUxpA/JscSSAOLmj8sU1Fh8u+jP7VSSkYsEcy/pbYjtEYTzT8VjTeG0VS6Pxu2Bn7aUK4/wgQIsUVEtj+Fwd+twSPFPz29izExbsa/aLSzTdlBkD/Q7Oyi0gS2P/WWIpH5IsE/+5T+PySQtL9ggxgJ/HDPP8I4OXtpv7e/RKkT9jzPx7/rbxBuSgK8v5tblQMb28S/cXvd0GECxj8otWlXhqmjP1NjpUBBnLs/bh2LUXTQnL/jW3FM5amBP7dgaq9J0oq/A/wvu6I/vD8rF2MoronBP0LBDRGEd6M/CL0EtRhbcb+z16Rjv127P+ZBYdJrRFk/zEA5thSKub+dLh5TtzfEv16JeJU8fcw//JBhEIi8oT+2pmkWBlXCP6ZQ0T4SycQ/KLTEJokArD+lMxLA63DFP2Cx5O2x/sE/evwPNRLJnL/eWCvXOazGPyeAtLDKobQ//xJff4qpvj8PTC2gMPXDvwXJjUboi82/CkX5b7TGtD+n+MvKR2CPP4FGTZtAlZS/0WTNEJRUqj8kZ7wqE8y9PxzQTJ9RR9s/KFp8uSodgL8lS9sl8CTFvybXljMiH7I/jlOJJ8q4vT8SbVnkJ7jEP4neM4QxgtE/6KaeG9jzyz+9KQLxtVjDP2G71bjSBri/I6lv8cFXlz/VWtKf55azP1a1o3o2usk/29ZJIuoBgz+gXE7+40qvP3SjEyygTMQ/+9lrJlPUyT9m68TCHaLCPy9GTcAGOsW/921pNA2Ixj/nwnOcgwy3PwKFZvYqBMK/cKCHRLz51j9fDH+hCuLNvyzWd7WCTIQ/ao8g4+yutz+zOuaF8w3EP9xPDNBpnrC/cOudV9WP0j+NeM0qzNvWP5C6C5c1T7+/laK0l1knsz+lmNFxGQS/P9rJuQJCxZE/Keqq30u5cj8L3IxQo+7PPyrp7hBA+pI/+e+AmqKqwT9U78wE9sG7PwXwYoBc+sA/gZyh8Peewj+BW2wDoFrEP0052yjSsKU/payiBkMlxj8TRjovbGLIP7m7eYdewso/ihxHjnQJwr+wODlMZAvdP0Tnrxpqt70/YM6C24vH1z+9hn34MK2pP8LZevP7xbM/KF70H2Ci1j80Y6SHzY7dPxrC8b2mqpk/Ohr2hrLK1D+rbLtejbjCP6kif1QhMbW/iHpXWTz1wj8dgs6MhAvTP7AdCuUlX9k/YyH+lQA6k7+TA2ei15/aP8CERhifZ9Y/4XldDUNe3j/frW+0CqTcPziKpffNY7S/Tayo99AdsD8zRcxGHMXdP13o9so9pd0/YHFioqB9tj8NqfFZs2Wgv+XpLHoKdcM/2dFigK89tT8De5Sytlq/P9l5COYw26e/Y3q2rUP50T+9BD6X9DjGPxoXRy/Lv78/XUJpc7QWyD+BK0PfNaWWP4g/+Shmztc/SgzDP/e2sz/VMUFUi0jDP1N1CvSp8rM/esncV1KPvD8RJMcTuPqrP4DDrQnChcE/aSYDcvBQtj+M/hq9kYivPyfuVH8DJ9U/XlnmJy3Lf78VCD4U4ZDIPy8gE4JX4cI/Rzui1V1NwT8WDMRi9vNgP5cN6WtS9b0/6WVFx08fvT9bH6pAJf6sv3BA7hQu8sY/pIUJAvyU4D+R6cvEDFm5v3zh0m6icnM/7bGulE0+uz/2xlHuXDnFv9RfqpzdkJI/0pQ1sIqJnD9ao+rOR1ipP42glDBTZJo/XnwuR71akT9BYZ+WQjS+P4cgFVWeZLc/wxZ9OZZXfb8i0WEKPC7Gv0kIdAX5jn2/cugiCovXnD/QEsDv7+i/Py2SLwJB170/NkIjHDR5qj95OIQb9uO7v0gfBiFeCLI/q01fywA8wr8epr7/cJaaP2ea15h1qao/ny+Cre5Gzj96akq3/f2/PzXsC3EOesu/NlzM60cxjT9gtbbbvfO6P6+PLIP6j7k/Z3GWZ0fsoz+FLPyX7cqqv+rNzXjv/cI/jn7qDjfamD/vhgkBqDiiv4/6Y7Gk/mO/0HUj1fZUkb9VShsRMgm0P34sllIbMM4/llAvU02izj9fuoL42Y6GPxDSFxcgW8A/ZkZh539opb835m1oWfSxv/LfEJtV/q+/Hz6+LgSdzD9qucozvEG/P1JCJgZ95Kg/IV8BEN4hgb8BZyvzJzGZP5dvG5EzCcU/nFpaCBOenb8dxE1ziD+nPytBrkfQEss/s0a2zJdY1z/iN5y9Kl+AP6qsDmWm5Ma/F/7WNm1koL/NdN7LrM+9P3QNiitZS4C/IanCEUS1sr+/IOR+oe2IP1zQhR9sJL2/hA3vUpgOob/5uyUlg06qPzJHFu/Pl4+/OxDaHdi8tD9Q9cUOgvmsP3gWC7KrG6A/7zkoYnAGw78O3pDo0wm9v14B1lAJ0b8/G0JJT7yH1D89/F+QJjq2v/vVH8ePHtI/eXtloGZHmr8sdWOpQvGnv1QTZcqDvbi/KRhH5VUApz9K765mYiSgv+493/RUtJS/AAxhmN74mr+MJQwsFPq/P4ABcA0me0Q/ENJP2Y2Wnj+MIRvvoy3BP60RAjNndss/W5d1qiRVvD+3+NoXjz2tv8k3foUXXMQ/QnzRiB86mT8RpgM24UKFv6+S4vKWdro/Ez/92PQTuz/roN1OYOicP45aMsjZMMm/S20sjC9ilD+EZDvcRo+Avwv97bobUay/0pfGZOnrt788mGkXzC2rP+dk3Mi28Lg/l1Lp54Xdnb/Q7UtV/zidP5TaBMNQDL4/kucnLmOYVL/aDc4adVqZv3p56Y8htaC/ENZkYAHqtL9M7syj/L+rP338rUbPOce/0xssikhnub8eh8dtVZOoPy33rAK4P7W/gp8izuYfxj/d1fq0OUHOP+caE068BLS/2fPY7lSSxr/UOvSpHjO0vzK40ZpBq7u/5XSv0/mItL/jXLj4qufCv+m9FMmsDa8/mVX/uZw2yT9V4WssbXDEv+/saAt76aW/TU3/SkTSvT+gJyi6mpCoP5w+5DHgY7k/xnyEYjI9vL/edMyDtE67P4HzhWnvpLc//yO1XzQWrb+Ii9mid4vKv2424V1ES7Y/ZkxZU+q/nD/ClSPtEBegP6vrL1Ozp6Y/giFBRKmhvb9D1mpdDZGmPzGbifRByby/eCjFoqiKu7+LZ07j3NqTP6JuT77Jr5C/ns4Q47HVtj9mXsbz6IOWv/FV67dWFrW/d/e5/J8HtL9ovP9jwYVbv3gODOUyw8e/HgB7sl3hoj/qZLowqTiiv4jkEAdr+a0/ze8hSHV2sL/3p9Q/ofyqP8QNtYMnq74/g4ynynoisT8a985xEI6kP2pm/D2DC6Y/3jixC7FktD+GOKMOYce1v6VUt+8iRL0/aNRYSEnbtj+nMPd6b3rAP0JwCGbpjNM/t/E8P/Pyuz8yziTW28m/P00tpWVvari/1hbB5eQpvz8y1HKRJSTLP5JJU0Xoopg/0kQPEGhUwD+gZ+pLe7ufv8xGJ637McM/0uKujVp7yT+jfoKK8ebEP6kCpD0mcq8/U0teBeR8vj89fbSA46+SvzCAlgsnr7g/dihG4U7Bwj8N+EIUxMHFPy+s53AxS8I/VarZtxBTsj9MUg+D2xinP+LzR+TsLcQ/5suIptEioT9IcDAwEFqrPzivN519urk/jekmBhfwsD/Y2elR51fdPzkqrQkvz6A/WLbzhLojzD+fPKDiBmRTP9G+mp0cLso/SsffzkrHtT9FRWjQzFCpP03XWCwLfMY/boxylXVxvj8/ARfhxjrBP8zKgkHYi8C/tOTR4+HSlb+lfypTZCvAPynjO1oqV7y/mmvJejwa0j/DWUj9aPbAP+joa6LD6tk/qEO+zjQCwj8Z5aY+dL6qv73AfETIw6g/6FCYPz0o3D87F/xpHu7JPxjNGdmY5to/UZ0Fcqgitz/aBdR5XG7APweIJF0LfLQ/iBIR9A322D/1ctbpYYOiv0bucFTHMLM/p3ARYIzDeL9vLid7WkrOP1uB9lTBMLM/AC4GF0ERqj+2HUzWC36yP/gGogMzgtk/BlEIvRI9wz94zFB/wEjbP3OJyPTb76Y/v8gDHTi9vL+eRhoowhnOP/vr972j/7I/PdsL+gYEsr+TzOJoeLmdPyYnaDXquaw/hyS/4Syj1j89cv1Dmtq+P07FA109J8U/hVGzkulX0j/y6Fn38uK2v8tG0WSjmb0/QYrAX3Wctj9oArdriW+3P1oUba3WfJk/O2lqt9yHuz/ePIuLpQW0P+SyOQNI2bI/BPwZCoVawD+aMhBeX+C7P6gbaPmFzLA/rINcM6Tmwz9+rnivs9OfP/N6s46qmIY/IeIvU8Ldij+6sHlK4o6Kv9mQgaSNTcw/Gb6VfTLDp7/pp0FUl6XSPzb5xZ+s58s/nHI/PEKDXD/MfceU5pyzP3TcAb8UA64/zBHkgfticj/i9N+xt+LMP2siBmZcm88/yUlmuFYp0z/x/csfHKisv6ZdvlFzF3c/H4jNnqF0u7/yUhlluWa4vz7UzwahJow/9qclcLxbq7+3Wh/95yCrP1j/ncUyR6W/Ji5DAKYlxr9UkwKrd+2rv9dEK+Clu4M/rS+HpvLA2D9Swt+7opudv7ntfXTjGMA/3g2RVjAZxz8MsRJvVdemPzfUP5PFGac/xi+bkkWvqT9OESOe8URrP3G7dnHYT6q/wAby00Sckz/4fXqZ65e0v6klOgefedA/Y68nltsZpb9wlHbEN12Bv4R42Mp5Grm/gQtp70TvrL9uXNaTA9a7PzBf6Jfb9cK/lFCxOMXitb/ixzRCoWGqv3OA8IKpIsI/jQdoCw5Kzj8V0U5jIByuv3POX8hI/Ki/IEc+bk98wT830kzzfxC8v7f3QcfYcba/WrXpBaxMoT/d51lCUTnJP5Ih+oi687e/RNCkTFoItj/Oc8mrRf+3v91UTi/qyMK/V40E8lDAiD8qD7CH5SfFP5LlhHukgbE/qKFs+OeIuj9NAyK7awbGP/uWtoXOzp0/wvm+04c60D/+oqvk/JS6P367DeiX6NG/c1L75Ps7yj9Q6iR1mffEvydP4kWHWdM/FiRE1XIkmL+nhespYA/BP3iP5W2ZDrw/z3KZhM5Arr/OdRaFVFmlP/2S7HyEbqc/HlVJz5UMwj8UfDZpUt2vv4v1GuiiDrQ/01iCq7yZb7+RXy7WW/jEP8BU1xODgcI/0AN9ktAfuj/npKCnU43DP9cw3zHxFcE/b948IC+Inr8WYMCLfsjEPz5A5UI/EtA/7rPitvBdwz8L3QlVJJ+2P+p+C8EuIOQ/aHIqG5rM0j/LaybQKB7Dv0obdQRTGtY/4Rb9Dl7E1j9ahGexRsq+P/tysMOtOZI/RUv9doR1uj9AYyXgzkO3P1/dJB9w/b8/dg4+ZT5qsz/AkQCVYnHZP6LMNEZ1vME/6xj1UpBmwz+zYd+2iqC2PzreI5rgZam/9608SBW6NT+2VMhNB1WxPwmjcyUXz7c/t1MEppuCuD/xO9IlX7KxP/yV8iH21LI/BCYbikWzkb8Rj3ZHwHC4vwcyqHmx5Lk/NOwDflBPt7/j/OxqcLejv5xKNaBCSYI/O4sfGQJSm78VkP+7YyCwv6aK/7+EBom/XYJGiFF1yz/z91pv2anHP0pEUrjRBM4/142td5lPuz+nGcDV9JHJP0J8YoNPhqC/ea1gDgK/1T8xvzqvmbeiv+CIgGxqfbC/toRwW0jOuj9CLxH8kFfVP+lPxB0EndU/WnWpAffM1z/T2tsH9zjCP9YB1+WGSM4/V3IxwYaXur8SlO6Bgs68v6fjp1xPPKs/pxY3LTWIyT/nO4B9Z+PHP5E98oWPHNg/VJuN0pRI1z+zodM9jq3WPwd0RJ4S7a0/RwoWxC0vuT/ypinLyrjPP2Pm7VslrJY/34795AtOsD8zN45xzvPGv22errBTl6I/fyEN7peEyj9mEBFjj0aNPyUuWr2ZoJU/Zr6vpYLKvD/abMIdLYi7P6xtX0MjiMc/meZ4qGN6oT+ZiR+pu8G/vzi2m9xHIMA/vTWin1D1rD/lj4I+LLuZPzuXVkMcSK2/n1eWvLvzsD96Tx5SEwCgP5bK24zuQtY/egL9l2ac0r8p3Vx6TnihP3WtBLOAjbg/mpRNIKl9vD9r5Ju/QIajv4i0Poooxsk/HtQxQUbrtz90NNgRuSDXP3r1jE0LJdc/ZqdyRDWxuD/oqVZYpBzVP3AM8wzAh78/QrF97DMixD9qOOrQH5bBP4q5Vpcgmcg/OvNwNk6JqL/9cxIFAlirvwIzxn2nILw/FRkQ+ZDE27+vFuLaNcKVvx/aGBBh+NC/4jUVRxlBmz/7R+tuKQDAPzJfjNPdpZU/lODh5Powsj+KRm0kqIrCv/ARNRER28U/Z3HbxgPAyz9ohbPvfOGiP5P2i1kcEMA/Q6ptxOuSvj/AiVzxEqCmPzys/3Fqma6/ook3CDKbpj8O4AkXZii/Pw1csAGH6sM/ihfkbzP6wT/KK5k+FVavP49c+mkzNLI/Gkt5y1MAw7+3cjFkc2PAP+NFBG50DqC/abQGkUl9dj/lEaPJtSPEv7c3BxyjfKq/Ds8JEDQWkz8VdobBcvpaP1KnnGy6lANAgdPCMTM2qj8MW3Hpr+TOv/v4d2jkvKC/yUgXufAKqD8quk8JK3OCv4WQqLOzCBRAW+0haOS8oL/6njbRxCyOP1bHK0Kg4MS/IFhloXiiZD90XpEi9I/Cvz4vqDSYbcU/R78RlriaCEAZeBy6Kc2+v6KRrRlTQMg/RBlB28mquz8=\",\"dtype\":\"float64\",\"shape\":[2533]},\"index\":[0,1,2,3,4,5,6,7,8,9,10,11,12,13,14,15,16,17,18,19,20,21,22,23,24,25,26,27,28,29,30,31,32,33,34,35,36,37,38,39,40,41,42,43,44,45,46,47,48,49,50,51,52,53,54,55,56,57,58,59,60,61,62,63,64,65,66,67,68,69,70,71,72,73,74,75,76,77,78,79,80,81,82,83,84,85,86,87,88,89,90,91,92,93,94,95,96,97,98,99,100,101,102,103,104,105,106,107,108,109,110,111,112,113,114,115,116,117,118,119,120,121,122,123,124,125,126,127,128,129,130,131,132,133,134,135,136,137,138,139,140,141,142,143,144,145,146,147,148,149,150,151,152,153,154,155,156,157,158,159,160,161,162,163,164,165,166,167,168,169,170,171,172,173,174,175,176,177,178,179,180,181,182,183,184,185,186,187,188,189,190,191,192,193,194,195,196,197,198,199,200,201,202,203,204,205,206,207,208,209,210,211,212,213,214,215,216,217,218,219,220,221,222,223,224,225,226,227,228,229,230,231,232,233,234,235,236,237,238,239,240,241,242,243,244,245,246,247,248,249,250,251,252,253,254,255,256,257,258,259,260,261,262,263,264,265,266,267,268,269,270,271,272,273,274,275,276,277,278,279,280,281,282,283,284,285,286,287,288,289,290,291,292,293,294,295,296,297,298,299,300,301,302,303,304,305,306,307,308,309,310,311,312,313,314,315,316,317,318,319,320,321,322,323,324,325,326,327,328,329,330,331,332,333,334,335,336,337,338,339,340,341,342,343,344,345,346,347,348,349,350,351,352,353,354,355,356,357,358,359,360,361,362,363,364,365,366,367,368,369,370,371,372,373,374,375,376,377,378,379,380,381,382,383,384,385,386,387,388,389,390,391,392,393,394,395,396,397,398,399,400,401,402,403,404,405,406,407,408,409,410,411,412,413,414,415,416,417,418,419,420,421,422,423,424,425,426,427,428,429,430,431,432,433,434,435,436,437,438,439,440,441,442,443,444,445,446,447,448,449,450,451,452,453,454,455,456,457,458,459,460,461,462,463,464,465,466,467,468,469,470,471,472,473,474,475,476,477,478,479,480,481,482,483,484,485,486,487,488,489,490,491,492,493,494,495,496,497,498,499,500,501,502,503,504,505,506,507,508,509,510,511,512,513,514,515,516,517,518,519,520,521,522,523,524,525,526,527,528,529,530,531,532,533,534,535,536,537,538,539,540,541,542,543,544,545,546,547,548,549,550,551,552,553,554,555,556,557,558,559,560,561,562,563,564,565,566,567,568,569,570,571,572,573,574,575,576,577,578,579,580,581,582,583,584,585,586,587,588,589,590,591,592,593,594,595,596,597,598,599,600,601,602,603,604,605,606,607,608,609,610,611,612,613,614,615,616,617,618,619,620,621,622,623,624,625,626,627,628,629,630,631,632,633,634,635,636,637,638,639,640,641,642,643,644,645,646,647,648,649,650,651,652,653,654,655,656,657,658,659,660,661,662,663,664,665,666,667,668,669,670,671,672,673,674,675,676,677,678,679,680,681,682,683,684,685,686,687,688,689,690,691,692,693,694,695,696,697,698,699,700,701,702,703,704,705,706,707,708,709,710,711,712,713,714,715,716,717,718,719,720,721,722,723,724,725,726,727,728,729,730,731,732,733,734,735,736,737,738,739,740,741,742,743,744,745,746,747,748,749,750,751,752,753,754,755,756,757,758,759,760,761,762,763,764,765,766,767,768,769,770,771,772,773,774,775,776,777,778,779,780,781,782,783,784,785,786,787,788,789,790,791,792,793,794,795,796,797,798,799,800,801,802,803,804,805,806,807,808,809,810,811,812,813,814,815,816,817,818,819,820,821,822,823,824,825,826,827,828,829,830,831,832,833,834,835,836,837,838,839,840,841,842,843,844,845,846,847,848,849,850,851,852,853,854,855,856,857,858,859,860,861,862,863,864,865,866,867,868,869,870,871,872,873,874,875,876,877,878,879,880,881,882,883,884,885,886,887,888,889,890,891,892,893,894,895,896,897,898,899,900,901,902,903,904,905,906,907,908,909,910,911,912,913,914,915,916,917,918,919,920,921,922,923,924,925,926,927,928,929,930,931,932,933,934,935,936,937,938,939,940,941,942,943,944,945,946,947,948,949,950,951,952,953,954,955,956,957,958,959,960,961,962,963,964,965,966,967,968,969,970,971,972,973,974,975,976,977,978,979,980,981,982,983,984,985,986,987,988,989,990,991,992,993,994,995,996,997,998,999,1000,1001,1002,1003,1004,1005,1006,1007,1008,1009,1010,1011,1012,1013,1014,1015,1016,1017,1018,1019,1020,1021,1022,1023,1024,1025,1026,1027,1028,1029,1030,1031,1032,1033,1034,1035,1036,1037,1038,1039,1040,1041,1042,1043,1044,1045,1046,1047,1048,1049,1050,1051,1052,1053,1054,1055,1056,1057,1058,1059,1060,1061,1062,1063,1064,1065,1066,1067,1068,1069,1070,1071,1072,1073,1074,1075,1076,1077,1078,1079,1080,1081,1082,1083,1084,1085,1086,1087,1088,1089,1090,1091,1092,1093,1094,1095,1096,1097,1098,1099,1100,1101,1102,1103,1104,1105,1106,1107,1108,1109,1110,1111,1112,1113,1114,1115,1116,1117,1118,1119,1120,1121,1122,1123,1124,1125,1126,1127,1128,1129,1130,1131,1132,1133,1134,1135,1136,1137,1138,1139,1140,1141,1142,1143,1144,1145,1146,1147,1148,1149,1150,1151,1152,1153,1154,1155,1156,1157,1158,1159,1160,1161,1162,1163,1164,1165,1166,1167,1168,1169,1170,1171,1172,1173,1174,1175,1176,1177,1178,1179,1180,1181,1182,1183,1184,1185,1186,1187,1188,1189,1190,1191,1192,1193,1194,1195,1196,1197,1198,1199,1200,1201,1202,1203,1204,1205,1206,1207,1208,1209,1210,1211,1212,1213,1214,1215,1216,1217,1218,1219,1220,1221,1222,1223,1224,1225,1226,1227,1228,1229,1230,1231,1232,1233,1234,1235,1236,1237,1238,1239,1240,1241,1242,1243,1244,1245,1246,1247,1248,1249,1250,1251,1252,1253,1254,1255,1256,1257,1258,1259,1260,1261,1262,1263,1264,1265,1266,1267,1268,1269,1270,1271,1272,1273,1274,1275,1276,1277,1278,1279,1280,1281,1282,1283,1284,1285,1286,1287,1288,1289,1290,1291,1292,1293,1294,1295,1296,1297,1298,1299,1300,1301,1302,1303,1304,1305,1306,1307,1308,1309,1310,1311,1312,1313,1314,1315,1316,1317,1318,1319,1320,1321,1322,1323,1324,1325,1326,1327,1328,1329,1330,1331,1332,1333,1334,1335,1336,1337,1338,1339,1340,1341,1342,1343,1344,1345,1346,1347,1348,1349,1350,1351,1352,1353,1354,1355,1356,1357,1358,1359,1360,1361,1362,1363,1364,1365,1366,1367,1368,1369,1370,1371,1372,1373,1374,1375,1376,1377,1378,1379,1380,1381,1382,1383,1384,1385,1386,1387,1388,1389,1390,1391,1392,1393,1394,1395,1396,1397,1398,1399,1400,1401,1402,1403,1404,1405,1406,1407,1408,1409,1410,1411,1412,1413,1414,1415,1416,1417,1418,1419,1420,1421,1422,1423,1424,1425,1426,1427,1428,1429,1430,1431,1432,1433,1434,1435,1436,1437,1438,1439,1440,1441,1442,1443,1444,1445,1446,1447,1448,1449,1450,1451,1452,1453,1454,1455,1456,1457,1458,1459,1460,1461,1462,1463,1464,1465,1466,1467,1468,1469,1470,1471,1472,1473,1474,1475,1476,1477,1478,1479,1480,1481,1482,1483,1484,1485,1486,1487,1488,1489,1490,1491,1492,1493,1494,1495,1496,1497,1498,1499,1500,1501,1502,1503,1504,1505,1506,1507,1508,1509,1510,1511,1512,1513,1514,1515,1516,1517,1518,1519,1520,1521,1522,1523,1524,1525,1526,1527,1528,1529,1530,1531,1532,1533,1534,1535,1536,1537,1538,1539,1540,1541,1542,1543,1544,1545,1546,1547,1548,1549,1550,1551,1552,1553,1554,1555,1556,1557,1558,1559,1560,1561,1562,1563,1564,1565,1566,1567,1568,1569,1570,1571,1572,1573,1574,1575,1576,1577,1578,1579,1580,1581,1582,1583,1584,1585,1586,1587,1588,1589,1590,1591,1592,1593,1594,1595,1596,1597,1598,1599,1600,1601,1602,1603,1604,1605,1606,1607,1608,1609,1610,1611,1612,1613,1614,1615,1616,1617,1618,1619,1620,1621,1622,1623,1624,1625,1626,1627,1628,1629,1630,1631,1632,1633,1634,1635,1636,1637,1638,1639,1640,1641,1642,1643,1644,1645,1646,1647,1648,1649,1650,1651,1652,1653,1654,1655,1656,1657,1658,1659,1660,1661,1662,1663,1664,1665,1666,1667,1668,1669,1670,1671,1672,1673,1674,1675,1676,1677,1678,1679,1680,1681,1682,1683,1684,1685,1686,1687,1688,1689,1690,1691,1692,1693,1694,1695,1696,1697,1698,1699,1700,1701,1702,1703,1704,1705,1706,1707,1708,1709,1710,1711,1712,1713,1714,1715,1716,1717,1718,1719,1720,1721,1722,1723,1724,1725,1726,1727,1728,1729,1730,1731,1732,1733,1734,1735,1736,1737,1738,1739,1740,1741,1742,1743,1744,1745,1746,1747,1748,1749,1750,1751,1752,1753,1754,1755,1756,1757,1758,1759,1760,1761,1762,1763,1764,1765,1766,1767,1768,1769,1770,1771,1772,1773,1774,1775,1776,1777,1778,1779,1780,1781,1782,1783,1784,1785,1786,1787,1788,1789,1790,1791,1792,1793,1794,1795,1796,1797,1798,1799,1800,1801,1802,1803,1804,1805,1806,1807,1808,1809,1810,1811,1812,1813,1814,1815,1816,1817,1818,1819,1820,1821,1822,1823,1824,1825,1826,1827,1828,1829,1830,1831,1832,1833,1834,1835,1836,1837,1838,1839,1840,1841,1842,1843,1844,1845,1846,1847,1848,1849,1850,1851,1852,1853,1854,1855,1856,1857,1858,1859,1860,1861,1862,1863,1864,1865,1866,1867,1868,1869,1870,1871,1872,1873,1874,1875,1876,1877,1878,1879,1880,1881,1882,1883,1884,1885,1886,1887,1888,1889,1890,1891,1892,1893,1894,1895,1896,1897,1898,1899,1900,1901,1902,1903,1904,1905,1906,1907,1908,1909,1910,1911,1912,1913,1914,1915,1916,1917,1918,1919,1920,1921,1922,1923,1924,1925,1926,1927,1928,1929,1930,1931,1932,1933,1934,1935,1936,1937,1938,1939,1940,1941,1942,1943,1944,1945,1946,1947,1948,1949,1950,1951,1952,1953,1954,1955,1956,1957,1958,1959,1960,1961,1962,1963,1964,1965,1966,1967,1968,1969,1970,1971,1972,1973,1974,1975,1976,1977,1978,1979,1980,1981,1982,1983,1984,1985,1986,1987,1988,1989,1990,1991,1992,1993,1994,1995,1996,1997,1998,1999,2000,2001,2002,2003,2004,2005,2006,2007,2008,2009,2010,2011,2012,2013,2014,2015,2016,2017,2018,2019,2020,2021,2022,2023,2024,2025,2026,2027,2028,2029,2030,2031,2032,2033,2034,2035,2036,2037,2038,2039,2040,2041,2042,2043,2044,2045,2046,2047,2048,2049,2050,2051,2052,2053,2054,2055,2056,2057,2058,2059,2060,2061,2062,2063,2064,2065,2066,2067,2068,2069,2070,2071,2072,2073,2074,2075,2076,2077,2078,2079,2080,2081,2082,2083,2084,2085,2086,2087,2088,2089,2090,2091,2092,2093,2094,2095,2096,2097,2098,2099,2100,2101,2102,2103,2104,2105,2106,2107,2108,2109,2110,2111,2112,2113,2114,2115,2116,2117,2118,2119,2120,2121,2122,2123,2124,2125,2126,2127,2128,2129,2130,2131,2132,2133,2134,2135,2136,2137,2138,2139,2140,2141,2142,2143,2144,2145,2146,2147,2148,2149,2150,2151,2152,2153,2154,2155,2156,2157,2158,2159,2160,2161,2162,2163,2164,2165,2166,2167,2168,2169,2170,2171,2172,2173,2174,2175,2176,2177,2178,2179,2180,2181,2182,2183,2184,2185,2186,2187,2188,2189,2190,2191,2192,2193,2194,2195,2196,2197,2198,2199,2200,2201,2202,2203,2204,2205,2206,2207,2208,2209,2210,2211,2212,2213,2214,2215,2216,2217,2218,2219,2220,2221,2222,2223,2224,2225,2226,2227,2228,2229,2230,2231,2232,2233,2234,2235,2236,2237,2238,2239,2240,2241,2242,2243,2244,2245,2246,2247,2248,2249,2250,2251,2252,2253,2254,2255,2256,2257,2258,2259,2260,2261,2262,2263,2264,2265,2266,2267,2268,2269,2270,2271,2272,2273,2274,2275,2276,2277,2278,2279,2280,2281,2282,2283,2284,2285,2286,2287,2288,2289,2290,2291,2292,2293,2294,2295,2296,2297,2298,2299,2300,2301,2302,2303,2304,2305,2306,2307,2308,2309,2310,2311,2312,2313,2314,2315,2316,2317,2318,2319,2320,2321,2322,2323,2324,2325,2326,2327,2328,2329,2330,2331,2332,2333,2334,2335,2336,2337,2338,2339,2340,2341,2342,2343,2344,2345,2346,2347,2348,2349,2350,2351,2352,2353,2354,2355,2356,2357,2358,2359,2360,2361,2362,2363,2364,2365,2366,2367,2368,2369,2370,2371,2372,2373,2374,2375,2376,2377,2378,2379,2380,2381,2382,2383,2384,2385,2386,2387,2388,2389,2390,2391,2392,2393,2394,2395,2396,2397,2398,2399,2400,2401,2402,2403,2404,2405,2406,2407,2408,2409,2410,2411,2412,2413,2414,2415,2416,2417,2418,2419,2420,2421,2422,2423,2424,2425,2426,2427,2428,2429,2430,2431,2432,2433,2434,2435,2436,2437,2438,2439,2440,2441,2442,2443,2444,2445,2446,2447,2448,2449,2450,2451,2452,2453,2454,2455,2456,2457,2458,2459,2460,2461,2462,2463,2464,2465,2466,2467,2468,2469,2470,2471,2472,2473,2474,2475,2476,2477,2478,2479,2480,2481,2482,2483,2484,2485,2486,2487,2488,2489,2490,2491,2492,2493,2494,2495,2496,2497,2498,2499,2500,2501,2502,2503,2504,2505,2506,2507,2508,2509,2510,2511,2512,2513,2514,2515,2516,2517,2518,2519,2520,2521,2522,2523,2524,2525,2526,2527,2528,2529,2530,2531,2532]},\"selected\":{\"id\":\"1876\",\"type\":\"Selection\"},\"selection_policy\":{\"id\":\"1875\",\"type\":\"UnionRenderers\"}},\"id\":\"1774\",\"type\":\"ColumnDataSource\"},{\"attributes\":{\"active_drag\":\"auto\",\"active_inspect\":\"auto\",\"active_multi\":null,\"active_scroll\":\"auto\",\"active_tap\":\"auto\",\"tools\":[{\"id\":\"1794\",\"type\":\"HoverTool\"},{\"id\":\"1795\",\"type\":\"SaveTool\"},{\"id\":\"1796\",\"type\":\"ResetTool\"},{\"id\":\"1797\",\"type\":\"PanTool\"},{\"id\":\"1798\",\"type\":\"LassoSelectTool\"},{\"id\":\"1799\",\"type\":\"WheelZoomTool\"}]},\"id\":\"1800\",\"type\":\"Toolbar\"}],\"root_ids\":[\"1775\"]},\"title\":\"Bokeh Application\",\"version\":\"1.0.2\"}};\n",
       "  var render_items = [{\"docid\":\"ab5b4764-cf06-4dd4-bf9a-8ce1f59241b4\",\"roots\":{\"1775\":\"f8766a09-bf27-4490-a30e-eba65d49777b\"}}];\n",
       "  root.Bokeh.embed.embed_items_notebook(docs_json, render_items);\n",
       "\n",
       "  }\n",
       "  if (root.Bokeh !== undefined) {\n",
       "    embed_document(root);\n",
       "  } else {\n",
       "    var attempts = 0;\n",
       "    var timer = setInterval(function(root) {\n",
       "      if (root.Bokeh !== undefined) {\n",
       "        embed_document(root);\n",
       "        clearInterval(timer);\n",
       "      }\n",
       "      attempts++;\n",
       "      if (attempts > 100) {\n",
       "        console.log(\"Bokeh: ERROR: Unable to run BokehJS code because BokehJS library is missing\");\n",
       "        clearInterval(timer);\n",
       "      }\n",
       "    }, 10, root)\n",
       "  }\n",
       "})(window);"
      ],
      "application/vnd.bokehjs_exec.v0+json": ""
     },
     "metadata": {
      "application/vnd.bokehjs_exec.v0+json": {
       "id": "1775"
      }
     },
     "output_type": "display_data"
    }
   ],
   "source": [
    "bp.output_notebook()\n",
    "p = plot_cluster('dim_1','dim_2',hue=mapper,data=isomap_df)\n",
    "bp.show(p)"
   ]
  },
  {
   "cell_type": "code",
   "execution_count": 61,
   "metadata": {},
   "outputs": [
    {
     "name": "stderr",
     "output_type": "stream",
     "text": [
      "/home/elijahc/.pyenv/versions/jupyterlab-gpu/lib/python3.5/site-packages/ipykernel/__main__.py:2: SettingWithCopyWarning: \n",
      "A value is trying to be set on a copy of a slice from a DataFrame.\n",
      "Try using .loc[row_indexer,col_indexer] = value instead\n",
      "\n",
      "See the caveats in the documentation: http://pandas.pydata.org/pandas-docs/stable/indexing.html#indexing-view-versus-copy\n",
      "  from ipykernel import kernelapp as app\n",
      "/home/elijahc/.pyenv/versions/jupyterlab-gpu/lib/python3.5/site-packages/ipykernel/__main__.py:5: SettingWithCopyWarning: \n",
      "A value is trying to be set on a copy of a slice from a DataFrame.\n",
      "Try using .loc[row_indexer,col_indexer] = value instead\n",
      "\n",
      "See the caveats in the documentation: http://pandas.pydata.org/pandas-docs/stable/indexing.html#indexing-view-versus-copy\n",
      "/home/elijahc/.pyenv/versions/jupyterlab-gpu/lib/python3.5/site-packages/ipykernel/__main__.py:8: SettingWithCopyWarning: \n",
      "A value is trying to be set on a copy of a slice from a DataFrame.\n",
      "Try using .loc[row_indexer,col_indexer] = value instead\n",
      "\n",
      "See the caveats in the documentation: http://pandas.pydata.org/pandas-docs/stable/indexing.html#indexing-view-versus-copy\n",
      "/home/elijahc/.pyenv/versions/jupyterlab-gpu/lib/python3.5/site-packages/ipykernel/__main__.py:11: SettingWithCopyWarning: \n",
      "A value is trying to be set on a copy of a slice from a DataFrame.\n",
      "Try using .loc[row_indexer,col_indexer] = value instead\n",
      "\n",
      "See the caveats in the documentation: http://pandas.pydata.org/pandas-docs/stable/indexing.html#indexing-view-versus-copy\n",
      "/home/elijahc/.pyenv/versions/jupyterlab-gpu/lib/python3.5/site-packages/ipykernel/__main__.py:14: SettingWithCopyWarning: \n",
      "A value is trying to be set on a copy of a slice from a DataFrame.\n",
      "Try using .loc[row_indexer,col_indexer] = value instead\n",
      "\n",
      "See the caveats in the documentation: http://pandas.pydata.org/pandas-docs/stable/indexing.html#indexing-view-versus-copy\n"
     ]
    }
   ],
   "source": [
    "cluster1 = isomap_df.query('dim_2 >= 2')\n",
    "cluster1['cluster_id'] = 0\n",
    "\n",
    "cluster2 = isomap_df.query('dim_2 <= -3')\n",
    "cluster2['cluster_id'] = 1\n",
    "\n",
    "cluster3 = isomap_df.query('dim_1 > 2')\n",
    "cluster3['cluster_id'] = 2\n",
    "\n",
    "cluster4 = isomap_df.query('dim_1 <= 2 & dim_1 >= -2 & dim_2 >= -2 & dim_2 <= 2')\n",
    "cluster4['cluster_id'] = 3\n",
    "\n",
    "cluster5 = isomap_df.query('dim_1 < -2')\n",
    "cluster5['cluster_id'] = 4\n",
    "\n",
    "\n",
    "\n",
    "clust_df = pd.concat([cluster1,cluster2,cluster3,cluster4,cluster5])\n",
    "isomap_df = isomap_df.merge(clust_df.set_index('Molecular_Weight')[['cluster_id']],on='Molecular_Weight',how='left')"
   ]
  },
  {
   "cell_type": "code",
   "execution_count": 62,
   "metadata": {},
   "outputs": [
    {
     "data": {
      "text/html": [
       "<div>\n",
       "<style scoped>\n",
       "    .dataframe tbody tr th:only-of-type {\n",
       "        vertical-align: middle;\n",
       "    }\n",
       "\n",
       "    .dataframe tbody tr th {\n",
       "        vertical-align: top;\n",
       "    }\n",
       "\n",
       "    .dataframe thead th {\n",
       "        text-align: right;\n",
       "    }\n",
       "</style>\n",
       "<table border=\"1\" class=\"dataframe\">\n",
       "  <thead>\n",
       "    <tr style=\"text-align: right;\">\n",
       "      <th></th>\n",
       "      <th>Molecular_Weight</th>\n",
       "      <th>dim_1</th>\n",
       "      <th>dim_2</th>\n",
       "      <th>cluster_id</th>\n",
       "    </tr>\n",
       "  </thead>\n",
       "  <tbody>\n",
       "    <tr>\n",
       "      <th>0</th>\n",
       "      <td>67.98743</td>\n",
       "      <td>0.565927</td>\n",
       "      <td>0.024607</td>\n",
       "      <td>3</td>\n",
       "    </tr>\n",
       "    <tr>\n",
       "      <th>1</th>\n",
       "      <td>68.06219</td>\n",
       "      <td>0.655651</td>\n",
       "      <td>0.234022</td>\n",
       "      <td>3</td>\n",
       "    </tr>\n",
       "    <tr>\n",
       "      <th>2</th>\n",
       "      <td>68.06391</td>\n",
       "      <td>4.078675</td>\n",
       "      <td>-1.342234</td>\n",
       "      <td>2</td>\n",
       "    </tr>\n",
       "    <tr>\n",
       "      <th>3</th>\n",
       "      <td>69.06730</td>\n",
       "      <td>2.936165</td>\n",
       "      <td>-0.791508</td>\n",
       "      <td>2</td>\n",
       "    </tr>\n",
       "    <tr>\n",
       "      <th>4</th>\n",
       "      <td>70.04333</td>\n",
       "      <td>-1.098815</td>\n",
       "      <td>0.008882</td>\n",
       "      <td>3</td>\n",
       "    </tr>\n",
       "  </tbody>\n",
       "</table>\n",
       "</div>"
      ],
      "text/plain": [
       "   Molecular_Weight     dim_1     dim_2  cluster_id\n",
       "0          67.98743  0.565927  0.024607           3\n",
       "1          68.06219  0.655651  0.234022           3\n",
       "2          68.06391  4.078675 -1.342234           2\n",
       "3          69.06730  2.936165 -0.791508           2\n",
       "4          70.04333 -1.098815  0.008882           3"
      ]
     },
     "execution_count": 62,
     "metadata": {},
     "output_type": "execute_result"
    }
   ],
   "source": [
    "isomap_df.head()"
   ]
  },
  {
   "cell_type": "code",
   "execution_count": 63,
   "metadata": {},
   "outputs": [],
   "source": [
    "subset = isomap_df['Molecular_Weight'].values\n",
    "isomap_merge_df = pop_df[pop_df['Molecular_Weight'].isin(subset)].merge(isomap_df,on='Molecular_Weight')\n",
    "# tsne_merge_df = pop_df[pop_df['Molecular_Weight'].isin(subset)].merge(tsne_df,on='Molecular_Weight') "
   ]
  },
  {
   "cell_type": "code",
   "execution_count": 64,
   "metadata": {},
   "outputs": [
    {
     "data": {
      "text/html": [
       "<div>\n",
       "<style scoped>\n",
       "    .dataframe tbody tr th:only-of-type {\n",
       "        vertical-align: middle;\n",
       "    }\n",
       "\n",
       "    .dataframe tbody tr th {\n",
       "        vertical-align: top;\n",
       "    }\n",
       "\n",
       "    .dataframe thead th {\n",
       "        text-align: right;\n",
       "    }\n",
       "</style>\n",
       "<table border=\"1\" class=\"dataframe\">\n",
       "  <thead>\n",
       "    <tr style=\"text-align: right;\">\n",
       "      <th></th>\n",
       "      <th>Molecular_Weight</th>\n",
       "      <th>dim_1</th>\n",
       "      <th>dim_2</th>\n",
       "    </tr>\n",
       "    <tr>\n",
       "      <th>cluster_id</th>\n",
       "      <th></th>\n",
       "      <th></th>\n",
       "      <th></th>\n",
       "    </tr>\n",
       "  </thead>\n",
       "  <tbody>\n",
       "    <tr>\n",
       "      <th>0</th>\n",
       "      <td>3</td>\n",
       "      <td>3</td>\n",
       "      <td>3</td>\n",
       "    </tr>\n",
       "    <tr>\n",
       "      <th>1</th>\n",
       "      <td>10</td>\n",
       "      <td>10</td>\n",
       "      <td>10</td>\n",
       "    </tr>\n",
       "    <tr>\n",
       "      <th>2</th>\n",
       "      <td>13</td>\n",
       "      <td>13</td>\n",
       "      <td>13</td>\n",
       "    </tr>\n",
       "    <tr>\n",
       "      <th>3</th>\n",
       "      <td>2343</td>\n",
       "      <td>2343</td>\n",
       "      <td>2343</td>\n",
       "    </tr>\n",
       "    <tr>\n",
       "      <th>4</th>\n",
       "      <td>165</td>\n",
       "      <td>165</td>\n",
       "      <td>165</td>\n",
       "    </tr>\n",
       "  </tbody>\n",
       "</table>\n",
       "</div>"
      ],
      "text/plain": [
       "            Molecular_Weight  dim_1  dim_2\n",
       "cluster_id                                \n",
       "0                          3      3      3\n",
       "1                         10     10     10\n",
       "2                         13     13     13\n",
       "3                       2343   2343   2343\n",
       "4                        165    165    165"
      ]
     },
     "execution_count": 64,
     "metadata": {},
     "output_type": "execute_result"
    }
   ],
   "source": [
    "clust_df.groupby(['cluster_id']).count()"
   ]
  },
  {
   "cell_type": "code",
   "execution_count": 65,
   "metadata": {},
   "outputs": [],
   "source": [
    "clust_df.to_csv('../data/isomap_early_0.01_clusters.csv',index=False)"
   ]
  },
  {
   "cell_type": "code",
   "execution_count": 66,
   "metadata": {},
   "outputs": [
    {
     "data": {
      "text/html": [
       "<div>\n",
       "<style scoped>\n",
       "    .dataframe tbody tr th:only-of-type {\n",
       "        vertical-align: middle;\n",
       "    }\n",
       "\n",
       "    .dataframe tbody tr th {\n",
       "        vertical-align: top;\n",
       "    }\n",
       "\n",
       "    .dataframe thead th {\n",
       "        text-align: right;\n",
       "    }\n",
       "</style>\n",
       "<table border=\"1\" class=\"dataframe\">\n",
       "  <thead>\n",
       "    <tr style=\"text-align: right;\">\n",
       "      <th></th>\n",
       "      <th>min</th>\n",
       "      <th>Molecular_Weight</th>\n",
       "      <th>log2fc_mean</th>\n",
       "      <th>log2fc_var</th>\n",
       "      <th>p-value</th>\n",
       "      <th>dim_1</th>\n",
       "      <th>dim_2</th>\n",
       "      <th>cluster_id</th>\n",
       "    </tr>\n",
       "  </thead>\n",
       "  <tbody>\n",
       "    <tr>\n",
       "      <th>0</th>\n",
       "      <td>2</td>\n",
       "      <td>449.31591</td>\n",
       "      <td>-0.241909</td>\n",
       "      <td>0.148228</td>\n",
       "      <td>0.001778</td>\n",
       "      <td>-3.0771</td>\n",
       "      <td>-0.514857</td>\n",
       "      <td>4</td>\n",
       "    </tr>\n",
       "    <tr>\n",
       "      <th>1</th>\n",
       "      <td>4</td>\n",
       "      <td>449.31591</td>\n",
       "      <td>-0.323831</td>\n",
       "      <td>0.276860</td>\n",
       "      <td>0.002136</td>\n",
       "      <td>-3.0771</td>\n",
       "      <td>-0.514857</td>\n",
       "      <td>4</td>\n",
       "    </tr>\n",
       "    <tr>\n",
       "      <th>2</th>\n",
       "      <td>6</td>\n",
       "      <td>449.31591</td>\n",
       "      <td>-0.268653</td>\n",
       "      <td>0.148763</td>\n",
       "      <td>0.000660</td>\n",
       "      <td>-3.0771</td>\n",
       "      <td>-0.514857</td>\n",
       "      <td>4</td>\n",
       "    </tr>\n",
       "    <tr>\n",
       "      <th>3</th>\n",
       "      <td>8</td>\n",
       "      <td>449.31591</td>\n",
       "      <td>-0.332641</td>\n",
       "      <td>0.268869</td>\n",
       "      <td>0.001471</td>\n",
       "      <td>-3.0771</td>\n",
       "      <td>-0.514857</td>\n",
       "      <td>4</td>\n",
       "    </tr>\n",
       "    <tr>\n",
       "      <th>4</th>\n",
       "      <td>10</td>\n",
       "      <td>449.31591</td>\n",
       "      <td>-0.322770</td>\n",
       "      <td>0.199592</td>\n",
       "      <td>0.000449</td>\n",
       "      <td>-3.0771</td>\n",
       "      <td>-0.514857</td>\n",
       "      <td>4</td>\n",
       "    </tr>\n",
       "  </tbody>\n",
       "</table>\n",
       "</div>"
      ],
      "text/plain": [
       "   min  Molecular_Weight  log2fc_mean  log2fc_var   p-value   dim_1     dim_2  \\\n",
       "0    2         449.31591    -0.241909    0.148228  0.001778 -3.0771 -0.514857   \n",
       "1    4         449.31591    -0.323831    0.276860  0.002136 -3.0771 -0.514857   \n",
       "2    6         449.31591    -0.268653    0.148763  0.000660 -3.0771 -0.514857   \n",
       "3    8         449.31591    -0.332641    0.268869  0.001471 -3.0771 -0.514857   \n",
       "4   10         449.31591    -0.322770    0.199592  0.000449 -3.0771 -0.514857   \n",
       "\n",
       "   cluster_id  \n",
       "0           4  \n",
       "1           4  \n",
       "2           4  \n",
       "3           4  \n",
       "4           4  "
      ]
     },
     "execution_count": 66,
     "metadata": {},
     "output_type": "execute_result"
    }
   ],
   "source": [
    "isomap_merge_df.head()"
   ]
  },
  {
   "cell_type": "code",
   "execution_count": 67,
   "metadata": {},
   "outputs": [],
   "source": [
    "isomap_merge_df.to_csv('../data/isomap_early_0.01.csv',index=False)\n",
    "# tsne_merge_df.to_csv('../data/tsne_early_0.01.csv',index=False)"
   ]
  },
  {
   "cell_type": "code",
   "execution_count": 16,
   "metadata": {},
   "outputs": [
    {
     "data": {
      "text/plain": [
       "<matplotlib.collections.PathCollection at 0x7f4967e96eb8>"
      ]
     },
     "execution_count": 16,
     "metadata": {},
     "output_type": "execute_result"
    },
    {
     "data": {
      "image/png": "[encoded data removed]",
      "text/plain": [
       "<Figure size 432x288 with 1 Axes>"
      ]
     },
     "metadata": {
      "needs_background": "light"
     },
     "output_type": "display_data"
    }
   ],
   "source": [
    "plt.scatter(X_embedded[:,0],X_embedded[:,1],c=comp_ts_profile.index.values)"
   ]
  },
  {
   "cell_type": "code",
   "execution_count": null,
   "metadata": {},
   "outputs": [],
   "source": []
  }
 ],
 "metadata": {
  "kernelspec": {
   "display_name": "Py3-GPU (Python3.5.2)",
   "language": "python",
   "name": "py3-gpu"
  },
  "language_info": {
   "codemirror_mode": {
    "name": "ipython",
    "version": 3
   },
   "file_extension": ".py",
   "mimetype": "text/x-python",
   "name": "python",
   "nbconvert_exporter": "python",
   "pygments_lexer": "ipython3",
   "version": "3.5.2"
  }
 },
 "nbformat": 4,
 "nbformat_minor": 2
}
